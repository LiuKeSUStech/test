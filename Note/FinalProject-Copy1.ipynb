{
 "cells": [
  {
   "cell_type": "markdown",
   "id": "0fc7c26a",
   "metadata": {},
   "source": [
    "<font face=\"微软雅黑\" size=8 color=#A52A2A >`Final Project`"
   ]
  },
  {
   "cell_type": "markdown",
   "id": "7945df03",
   "metadata": {},
   "source": [
    "<font face=\"微软雅黑\" size=6 color=#A52A2A >*`Quantitative Investment Analysis(Fall 2021)`*"
   ]
  },
  {
   "cell_type": "markdown",
   "id": "269cceea",
   "metadata": {},
   "source": [
    "<font face=\"微软雅黑\" size=6 color=#A52A2A > `Group:`"
   ]
  },
  {
   "cell_type": "markdown",
   "id": "c2910a6d",
   "metadata": {},
   "source": [
    "<font face=\"微软雅黑\" size=6 color=#A52A2A >`欧游 12132987 杨帅 12132997 刘可 12132981`"
   ]
  },
  {
   "cell_type": "markdown",
   "id": "3f43617b",
   "metadata": {},
   "source": [
    "<font face=\"微软雅黑\" size=6 color=#A52A2A > Read Data"
   ]
  },
  {
   "cell_type": "code",
   "execution_count": 1,
   "id": "602ae9c2",
   "metadata": {},
   "outputs": [],
   "source": [
    "import pandas as pd\n",
    "import numpy as np\n",
    "import matplotlib.pyplot as plt\n",
    "import scipy.stats as stats\n",
    "import statsmodels.api as sm\n",
    "from statsmodels.api import OLS\n",
    "import math\n",
    "#TS\n",
    "from statsmodels.tsa import stattools\n",
    "from arch import arch_model\n",
    "from statsmodels.tsa import arima_model\n",
    "from statsmodels.graphics.tsaplots import *\n",
    "from arch.unitroot import ADF\n",
    "#datetime\n",
    "from matplotlib.dates import DateFormatter,WeekdayLocator,DateLocator,MONDAY,date2num\n",
    "from datetime import datetime\n",
    "#k线\n",
    "%matplotlib inline\n",
    "import mplfinance as mpf\n",
    "# This allows multiple outputs from a single jupyter notebook cell:\n",
    "from IPython.core.interactiveshell import InteractiveShell\n",
    "InteractiveShell.ast_node_interactivity = \"all\"\n",
    "#cvx\n",
    "import cvxopt as cvx\n",
    "from cvxopt import matrix,solvers"
   ]
  },
  {
   "cell_type": "code",
   "execution_count": 2,
   "id": "59a159d6",
   "metadata": {},
   "outputs": [],
   "source": [
    "project = pd.read_csv('/Users/liuke/Downloads/HW2021Fall/Quant/FinalProj/finalproj/finalproj.csv',\n",
    "                     index_col='DATE')"
   ]
  },
  {
   "cell_type": "code",
   "execution_count": 3,
   "id": "48d3a56f",
   "metadata": {},
   "outputs": [],
   "source": [
    "project.index = pd.to_datetime(project.index, format='%Y%m%d')"
   ]
  },
  {
   "cell_type": "markdown",
   "id": "48b25348",
   "metadata": {},
   "source": [
    "<font face=\"微软雅黑\" size=4 color=#2E8B57 > 原数据"
   ]
  },
  {
   "cell_type": "code",
   "execution_count": 4,
   "id": "8356dac2",
   "metadata": {},
   "outputs": [
    {
     "data": {
      "text/html": [
       "<div>\n",
       "<style scoped>\n",
       "    .dataframe tbody tr th:only-of-type {\n",
       "        vertical-align: middle;\n",
       "    }\n",
       "\n",
       "    .dataframe tbody tr th {\n",
       "        vertical-align: top;\n",
       "    }\n",
       "\n",
       "    .dataframe thead th {\n",
       "        text-align: right;\n",
       "    }\n",
       "</style>\n",
       "<table border=\"1\" class=\"dataframe\">\n",
       "  <thead>\n",
       "    <tr style=\"text-align: right;\">\n",
       "      <th></th>\n",
       "      <th>PERMNO</th>\n",
       "      <th>exret</th>\n",
       "      <th>mkt_beta</th>\n",
       "      <th>logme</th>\n",
       "      <th>logbeme</th>\n",
       "      <th>r_2_12</th>\n",
       "      <th>gp</th>\n",
       "      <th>invest_asset</th>\n",
       "    </tr>\n",
       "    <tr>\n",
       "      <th>DATE</th>\n",
       "      <th></th>\n",
       "      <th></th>\n",
       "      <th></th>\n",
       "      <th></th>\n",
       "      <th></th>\n",
       "      <th></th>\n",
       "      <th></th>\n",
       "      <th></th>\n",
       "    </tr>\n",
       "  </thead>\n",
       "  <tbody>\n",
       "    <tr>\n",
       "      <th>1963-07-31</th>\n",
       "      <td>10006</td>\n",
       "      <td>-0.0479</td>\n",
       "      <td>1.049360</td>\n",
       "      <td>4.947052</td>\n",
       "      <td>0.182105</td>\n",
       "      <td>0.698340</td>\n",
       "      <td>0.182</td>\n",
       "      <td>0.459617</td>\n",
       "    </tr>\n",
       "    <tr>\n",
       "      <th>1963-07-31</th>\n",
       "      <td>10014</td>\n",
       "      <td>-0.0027</td>\n",
       "      <td>0.706807</td>\n",
       "      <td>2.408498</td>\n",
       "      <td>0.080984</td>\n",
       "      <td>0.035714</td>\n",
       "      <td>0.257</td>\n",
       "      <td>0.424276</td>\n",
       "    </tr>\n",
       "    <tr>\n",
       "      <th>1963-07-31</th>\n",
       "      <td>10030</td>\n",
       "      <td>-0.0663</td>\n",
       "      <td>0.569758</td>\n",
       "      <td>4.493456</td>\n",
       "      <td>NaN</td>\n",
       "      <td>0.246521</td>\n",
       "      <td>NaN</td>\n",
       "      <td>NaN</td>\n",
       "    </tr>\n",
       "  </tbody>\n",
       "</table>\n",
       "</div>"
      ],
      "text/plain": [
       "            PERMNO   exret  mkt_beta     logme   logbeme    r_2_12     gp  \\\n",
       "DATE                                                                        \n",
       "1963-07-31   10006 -0.0479  1.049360  4.947052  0.182105  0.698340  0.182   \n",
       "1963-07-31   10014 -0.0027  0.706807  2.408498  0.080984  0.035714  0.257   \n",
       "1963-07-31   10030 -0.0663  0.569758  4.493456       NaN  0.246521    NaN   \n",
       "\n",
       "            invest_asset  \n",
       "DATE                      \n",
       "1963-07-31      0.459617  \n",
       "1963-07-31      0.424276  \n",
       "1963-07-31           NaN  "
      ]
     },
     "execution_count": 4,
     "metadata": {},
     "output_type": "execute_result"
    }
   ],
   "source": [
    "project.head(3)"
   ]
  },
  {
   "cell_type": "markdown",
   "id": "1a67d3ed",
   "metadata": {},
   "source": [
    "<font face=\"微软雅黑\" size=4 color=#2E8B57 >检查空值"
   ]
  },
  {
   "cell_type": "code",
   "execution_count": 5,
   "id": "46a858a7",
   "metadata": {},
   "outputs": [
    {
     "data": {
      "text/plain": [
       "PERMNO               0\n",
       "exret            12841\n",
       "mkt_beta             0\n",
       "logme             1766\n",
       "logbeme         171927\n",
       "r_2_12              61\n",
       "gp              118989\n",
       "invest_asset    123295\n",
       "dtype: int64"
      ]
     },
     "execution_count": 5,
     "metadata": {},
     "output_type": "execute_result"
    }
   ],
   "source": [
    "project.isnull().sum()"
   ]
  },
  {
   "cell_type": "markdown",
   "id": "aa071c6f",
   "metadata": {},
   "source": [
    "<font face=\"微软雅黑\" size=4 color=#2E8B57 >创建一个包括所有月份的list，原数据共有619个月"
   ]
  },
  {
   "cell_type": "code",
   "execution_count": 6,
   "id": "1c73386e",
   "metadata": {},
   "outputs": [
    {
     "data": {
      "text/plain": [
       "619"
      ]
     },
     "execution_count": 6,
     "metadata": {},
     "output_type": "execute_result"
    }
   ],
   "source": [
    "dateID = []\n",
    "for i in project.index.unique():\n",
    "    dateID.append(str(i).split()[0])\n",
    "len(dateID)"
   ]
  },
  {
   "cell_type": "markdown",
   "id": "5fd31d36",
   "metadata": {},
   "source": [
    "<font face=\"微软雅黑\" size=6 color=#A52A2A >*`1.1 Optimal portfolio via a BARRA model`*"
   ]
  },
  {
   "cell_type": "markdown",
   "id": "d43bbab6",
   "metadata": {},
   "source": [
    "<font face=\"微软雅黑\" size=5 color=#A52A2A >Step 1"
   ]
  },
  {
   "cell_type": "markdown",
   "id": "edc73295",
   "metadata": {},
   "source": [
    "<font face=\"微软雅黑\" size=4 color=#A52A2A >①Reset outliers of 5 firm-level characteristics"
   ]
  },
  {
   "cell_type": "markdown",
   "id": "4fd46058",
   "metadata": {},
   "source": [
    "<font face=\"微软雅黑\" size=4 color=#2E8B57 >用循环计算每个月的1%与99%分位数，并令大于或小于的等于对应分位数"
   ]
  },
  {
   "cell_type": "code",
   "execution_count": 7,
   "id": "bfb158ca",
   "metadata": {},
   "outputs": [],
   "source": [
    "for d in dateID:\n",
    "    Q01 = project.loc[d].iloc[:,-5:].quantile(0.01)\n",
    "    Q99 = project.loc[d].iloc[:,-5:].quantile(0.99)\n",
    "    for j in range(3,8):\n",
    "        project.loc[d].iloc[:,j][project.loc[d].iloc[:,j]>Q99[j-3]] = Q99[j-3]\n",
    "        project.loc[d].iloc[:,j][project.loc[d].iloc[:,j]<Q01[j-3]] = Q01[j-3]   "
   ]
  },
  {
   "cell_type": "markdown",
   "id": "0dfecace",
   "metadata": {},
   "source": [
    "<font face=\"微软雅黑\" size=4 color=#A52A2A >②Standardize its value"
   ]
  },
  {
   "cell_type": "markdown",
   "id": "dfec6188",
   "metadata": {},
   "source": [
    "<font face=\"微软雅黑\" size=4 color=#2E8B57 >用循环计算每个月，并对该月内的五列五个不同特征值进行当月该列特征值的标准化"
   ]
  },
  {
   "cell_type": "code",
   "execution_count": 8,
   "id": "2265893d",
   "metadata": {},
   "outputs": [
    {
     "name": "stderr",
     "output_type": "stream",
     "text": [
      "/Applications/anaconda3/lib/python3.9/site-packages/pandas/core/indexing.py:1773: SettingWithCopyWarning: \n",
      "A value is trying to be set on a copy of a slice from a DataFrame.\n",
      "Try using .loc[row_indexer,col_indexer] = value instead\n",
      "\n",
      "See the caveats in the documentation: https://pandas.pydata.org/pandas-docs/stable/user_guide/indexing.html#returning-a-view-versus-a-copy\n",
      "  self._setitem_single_column(ilocs[0], value, pi)\n"
     ]
    }
   ],
   "source": [
    "project_std = project\n",
    "for d in dateID:\n",
    "    for j in range(3,8):\n",
    "        mean = project.loc[d].iloc[:,j].mean()\n",
    "        std = project.loc[d].iloc[:,j].std()\n",
    "        project_std.loc[d].iloc[:,j]=project.loc[d].iloc[:,j].apply(lambda x : (x-mean)/std)"
   ]
  },
  {
   "cell_type": "markdown",
   "id": "97a79b9e",
   "metadata": {},
   "source": [
    "<font face=\"微软雅黑\" size=4 color=#2E8B57 >标准化完毕"
   ]
  },
  {
   "cell_type": "code",
   "execution_count": 9,
   "id": "7adb5397",
   "metadata": {},
   "outputs": [
    {
     "data": {
      "text/html": [
       "<div>\n",
       "<style scoped>\n",
       "    .dataframe tbody tr th:only-of-type {\n",
       "        vertical-align: middle;\n",
       "    }\n",
       "\n",
       "    .dataframe tbody tr th {\n",
       "        vertical-align: top;\n",
       "    }\n",
       "\n",
       "    .dataframe thead th {\n",
       "        text-align: right;\n",
       "    }\n",
       "</style>\n",
       "<table border=\"1\" class=\"dataframe\">\n",
       "  <thead>\n",
       "    <tr style=\"text-align: right;\">\n",
       "      <th></th>\n",
       "      <th>PERMNO</th>\n",
       "      <th>exret</th>\n",
       "      <th>mkt_beta</th>\n",
       "      <th>logme</th>\n",
       "      <th>logbeme</th>\n",
       "      <th>r_2_12</th>\n",
       "      <th>gp</th>\n",
       "      <th>invest_asset</th>\n",
       "    </tr>\n",
       "    <tr>\n",
       "      <th>DATE</th>\n",
       "      <th></th>\n",
       "      <th></th>\n",
       "      <th></th>\n",
       "      <th></th>\n",
       "      <th></th>\n",
       "      <th></th>\n",
       "      <th></th>\n",
       "      <th></th>\n",
       "    </tr>\n",
       "  </thead>\n",
       "  <tbody>\n",
       "    <tr>\n",
       "      <th>1963-07-31</th>\n",
       "      <td>10006</td>\n",
       "      <td>-0.0479</td>\n",
       "      <td>1.049360</td>\n",
       "      <td>0.286460</td>\n",
       "      <td>0.774220</td>\n",
       "      <td>1.434258</td>\n",
       "      <td>-0.655549</td>\n",
       "      <td>3.186066</td>\n",
       "    </tr>\n",
       "    <tr>\n",
       "      <th>1963-07-31</th>\n",
       "      <td>10014</td>\n",
       "      <td>-0.0027</td>\n",
       "      <td>0.706807</td>\n",
       "      <td>-1.390264</td>\n",
       "      <td>0.618245</td>\n",
       "      <td>-1.050796</td>\n",
       "      <td>-0.325663</td>\n",
       "      <td>2.896638</td>\n",
       "    </tr>\n",
       "    <tr>\n",
       "      <th>1963-07-31</th>\n",
       "      <td>10030</td>\n",
       "      <td>-0.0663</td>\n",
       "      <td>0.569758</td>\n",
       "      <td>-0.013142</td>\n",
       "      <td>NaN</td>\n",
       "      <td>-0.260204</td>\n",
       "      <td>NaN</td>\n",
       "      <td>NaN</td>\n",
       "    </tr>\n",
       "    <tr>\n",
       "      <th>1963-07-31</th>\n",
       "      <td>10057</td>\n",
       "      <td>-0.0967</td>\n",
       "      <td>1.135995</td>\n",
       "      <td>-0.680445</td>\n",
       "      <td>NaN</td>\n",
       "      <td>1.124172</td>\n",
       "      <td>NaN</td>\n",
       "      <td>NaN</td>\n",
       "    </tr>\n",
       "    <tr>\n",
       "      <th>1963-07-31</th>\n",
       "      <td>10102</td>\n",
       "      <td>-0.0190</td>\n",
       "      <td>0.963979</td>\n",
       "      <td>0.715342</td>\n",
       "      <td>0.021303</td>\n",
       "      <td>-0.516088</td>\n",
       "      <td>-0.202505</td>\n",
       "      <td>0.587275</td>\n",
       "    </tr>\n",
       "    <tr>\n",
       "      <th>...</th>\n",
       "      <td>...</td>\n",
       "      <td>...</td>\n",
       "      <td>...</td>\n",
       "      <td>...</td>\n",
       "      <td>...</td>\n",
       "      <td>...</td>\n",
       "      <td>...</td>\n",
       "      <td>...</td>\n",
       "    </tr>\n",
       "    <tr>\n",
       "      <th>2015-01-30</th>\n",
       "      <td>93428</td>\n",
       "      <td>-0.0734</td>\n",
       "      <td>1.224872</td>\n",
       "      <td>0.030170</td>\n",
       "      <td>-0.661853</td>\n",
       "      <td>-0.121359</td>\n",
       "      <td>0.386886</td>\n",
       "      <td>0.391627</td>\n",
       "    </tr>\n",
       "    <tr>\n",
       "      <th>2015-01-30</th>\n",
       "      <td>93429</td>\n",
       "      <td>0.0166</td>\n",
       "      <td>0.581365</td>\n",
       "      <td>0.895934</td>\n",
       "      <td>-2.339622</td>\n",
       "      <td>0.441129</td>\n",
       "      <td>1.640668</td>\n",
       "      <td>0.779888</td>\n",
       "    </tr>\n",
       "    <tr>\n",
       "      <th>2015-01-30</th>\n",
       "      <td>93433</td>\n",
       "      <td>0.5939</td>\n",
       "      <td>2.559842</td>\n",
       "      <td>-2.110162</td>\n",
       "      <td>-3.145233</td>\n",
       "      <td>-2.096343</td>\n",
       "      <td>-0.861179</td>\n",
       "      <td>-1.841682</td>\n",
       "    </tr>\n",
       "    <tr>\n",
       "      <th>2015-01-30</th>\n",
       "      <td>93434</td>\n",
       "      <td>0.2850</td>\n",
       "      <td>-0.036769</td>\n",
       "      <td>-1.274439</td>\n",
       "      <td>0.383626</td>\n",
       "      <td>-1.532435</td>\n",
       "      <td>-0.809712</td>\n",
       "      <td>5.509782</td>\n",
       "    </tr>\n",
       "    <tr>\n",
       "      <th>2015-01-30</th>\n",
       "      <td>93436</td>\n",
       "      <td>-0.0846</td>\n",
       "      <td>0.778791</td>\n",
       "      <td>1.671654</td>\n",
       "      <td>-3.064301</td>\n",
       "      <td>1.846522</td>\n",
       "      <td>-0.128138</td>\n",
       "      <td>3.964574</td>\n",
       "    </tr>\n",
       "  </tbody>\n",
       "</table>\n",
       "<p>1971903 rows × 8 columns</p>\n",
       "</div>"
      ],
      "text/plain": [
       "            PERMNO   exret  mkt_beta     logme   logbeme    r_2_12        gp  \\\n",
       "DATE                                                                           \n",
       "1963-07-31   10006 -0.0479  1.049360  0.286460  0.774220  1.434258 -0.655549   \n",
       "1963-07-31   10014 -0.0027  0.706807 -1.390264  0.618245 -1.050796 -0.325663   \n",
       "1963-07-31   10030 -0.0663  0.569758 -0.013142       NaN -0.260204       NaN   \n",
       "1963-07-31   10057 -0.0967  1.135995 -0.680445       NaN  1.124172       NaN   \n",
       "1963-07-31   10102 -0.0190  0.963979  0.715342  0.021303 -0.516088 -0.202505   \n",
       "...            ...     ...       ...       ...       ...       ...       ...   \n",
       "2015-01-30   93428 -0.0734  1.224872  0.030170 -0.661853 -0.121359  0.386886   \n",
       "2015-01-30   93429  0.0166  0.581365  0.895934 -2.339622  0.441129  1.640668   \n",
       "2015-01-30   93433  0.5939  2.559842 -2.110162 -3.145233 -2.096343 -0.861179   \n",
       "2015-01-30   93434  0.2850 -0.036769 -1.274439  0.383626 -1.532435 -0.809712   \n",
       "2015-01-30   93436 -0.0846  0.778791  1.671654 -3.064301  1.846522 -0.128138   \n",
       "\n",
       "            invest_asset  \n",
       "DATE                      \n",
       "1963-07-31      3.186066  \n",
       "1963-07-31      2.896638  \n",
       "1963-07-31           NaN  \n",
       "1963-07-31           NaN  \n",
       "1963-07-31      0.587275  \n",
       "...                  ...  \n",
       "2015-01-30      0.391627  \n",
       "2015-01-30      0.779888  \n",
       "2015-01-30     -1.841682  \n",
       "2015-01-30      5.509782  \n",
       "2015-01-30      3.964574  \n",
       "\n",
       "[1971903 rows x 8 columns]"
      ]
     },
     "execution_count": 9,
     "metadata": {},
     "output_type": "execute_result"
    }
   ],
   "source": [
    "project_std"
   ]
  },
  {
   "cell_type": "markdown",
   "id": "9cd54104",
   "metadata": {},
   "source": [
    "<font face=\"微软雅黑\" size=4 color=#2E8B57 >进行训练集为前120个月的演示，定义training数据"
   ]
  },
  {
   "cell_type": "code",
   "execution_count": 10,
   "id": "b8a9ac63",
   "metadata": {},
   "outputs": [
    {
     "data": {
      "text/html": [
       "<div>\n",
       "<style scoped>\n",
       "    .dataframe tbody tr th:only-of-type {\n",
       "        vertical-align: middle;\n",
       "    }\n",
       "\n",
       "    .dataframe tbody tr th {\n",
       "        vertical-align: top;\n",
       "    }\n",
       "\n",
       "    .dataframe thead th {\n",
       "        text-align: right;\n",
       "    }\n",
       "</style>\n",
       "<table border=\"1\" class=\"dataframe\">\n",
       "  <thead>\n",
       "    <tr style=\"text-align: right;\">\n",
       "      <th></th>\n",
       "      <th>PERMNO</th>\n",
       "      <th>exret</th>\n",
       "      <th>mkt_beta</th>\n",
       "      <th>logme</th>\n",
       "      <th>logbeme</th>\n",
       "      <th>r_2_12</th>\n",
       "      <th>gp</th>\n",
       "      <th>invest_asset</th>\n",
       "    </tr>\n",
       "    <tr>\n",
       "      <th>DATE</th>\n",
       "      <th></th>\n",
       "      <th></th>\n",
       "      <th></th>\n",
       "      <th></th>\n",
       "      <th></th>\n",
       "      <th></th>\n",
       "      <th></th>\n",
       "      <th></th>\n",
       "    </tr>\n",
       "  </thead>\n",
       "  <tbody>\n",
       "    <tr>\n",
       "      <th>1973-06-29</th>\n",
       "      <td>65825</td>\n",
       "      <td>0.0300</td>\n",
       "      <td>1.275393</td>\n",
       "      <td>-1.266623</td>\n",
       "      <td>0.754495</td>\n",
       "      <td>0.323338</td>\n",
       "      <td>0.204975</td>\n",
       "      <td>-0.228146</td>\n",
       "    </tr>\n",
       "    <tr>\n",
       "      <th>1973-06-29</th>\n",
       "      <td>68195</td>\n",
       "      <td>-0.0265</td>\n",
       "      <td>1.179756</td>\n",
       "      <td>0.567518</td>\n",
       "      <td>-1.548156</td>\n",
       "      <td>-1.440666</td>\n",
       "      <td>0.412852</td>\n",
       "      <td>0.044301</td>\n",
       "    </tr>\n",
       "    <tr>\n",
       "      <th>1973-06-29</th>\n",
       "      <td>68523</td>\n",
       "      <td>-0.0264</td>\n",
       "      <td>1.450590</td>\n",
       "      <td>-0.080775</td>\n",
       "      <td>NaN</td>\n",
       "      <td>-1.045893</td>\n",
       "      <td>NaN</td>\n",
       "      <td>NaN</td>\n",
       "    </tr>\n",
       "  </tbody>\n",
       "</table>\n",
       "</div>"
      ],
      "text/plain": [
       "            PERMNO   exret  mkt_beta     logme   logbeme    r_2_12        gp  \\\n",
       "DATE                                                                           \n",
       "1973-06-29   65825  0.0300  1.275393 -1.266623  0.754495  0.323338  0.204975   \n",
       "1973-06-29   68195 -0.0265  1.179756  0.567518 -1.548156 -1.440666  0.412852   \n",
       "1973-06-29   68523 -0.0264  1.450590 -0.080775       NaN -1.045893       NaN   \n",
       "\n",
       "            invest_asset  \n",
       "DATE                      \n",
       "1973-06-29     -0.228146  \n",
       "1973-06-29      0.044301  \n",
       "1973-06-29           NaN  "
      ]
     },
     "execution_count": 10,
     "metadata": {},
     "output_type": "execute_result"
    },
    {
     "data": {
      "text/html": [
       "<div>\n",
       "<style scoped>\n",
       "    .dataframe tbody tr th:only-of-type {\n",
       "        vertical-align: middle;\n",
       "    }\n",
       "\n",
       "    .dataframe tbody tr th {\n",
       "        vertical-align: top;\n",
       "    }\n",
       "\n",
       "    .dataframe thead th {\n",
       "        text-align: right;\n",
       "    }\n",
       "</style>\n",
       "<table border=\"1\" class=\"dataframe\">\n",
       "  <thead>\n",
       "    <tr style=\"text-align: right;\">\n",
       "      <th></th>\n",
       "      <th>PERMNO</th>\n",
       "      <th>exret</th>\n",
       "      <th>mkt_beta</th>\n",
       "      <th>logme</th>\n",
       "      <th>logbeme</th>\n",
       "      <th>r_2_12</th>\n",
       "      <th>gp</th>\n",
       "      <th>invest_asset</th>\n",
       "    </tr>\n",
       "    <tr>\n",
       "      <th>DATE</th>\n",
       "      <th></th>\n",
       "      <th></th>\n",
       "      <th></th>\n",
       "      <th></th>\n",
       "      <th></th>\n",
       "      <th></th>\n",
       "      <th></th>\n",
       "      <th></th>\n",
       "    </tr>\n",
       "  </thead>\n",
       "  <tbody>\n",
       "    <tr>\n",
       "      <th>1963-07-31</th>\n",
       "      <td>10006</td>\n",
       "      <td>-0.0479</td>\n",
       "      <td>1.049360</td>\n",
       "      <td>0.286460</td>\n",
       "      <td>0.774220</td>\n",
       "      <td>1.434258</td>\n",
       "      <td>-0.655549</td>\n",
       "      <td>3.186066</td>\n",
       "    </tr>\n",
       "    <tr>\n",
       "      <th>1963-07-31</th>\n",
       "      <td>10014</td>\n",
       "      <td>-0.0027</td>\n",
       "      <td>0.706807</td>\n",
       "      <td>-1.390264</td>\n",
       "      <td>0.618245</td>\n",
       "      <td>-1.050796</td>\n",
       "      <td>-0.325663</td>\n",
       "      <td>2.896638</td>\n",
       "    </tr>\n",
       "    <tr>\n",
       "      <th>1963-07-31</th>\n",
       "      <td>10030</td>\n",
       "      <td>-0.0663</td>\n",
       "      <td>0.569758</td>\n",
       "      <td>-0.013142</td>\n",
       "      <td>NaN</td>\n",
       "      <td>-0.260204</td>\n",
       "      <td>NaN</td>\n",
       "      <td>NaN</td>\n",
       "    </tr>\n",
       "  </tbody>\n",
       "</table>\n",
       "</div>"
      ],
      "text/plain": [
       "            PERMNO   exret  mkt_beta     logme   logbeme    r_2_12        gp  \\\n",
       "DATE                                                                           \n",
       "1963-07-31   10006 -0.0479  1.049360  0.286460  0.774220  1.434258 -0.655549   \n",
       "1963-07-31   10014 -0.0027  0.706807 -1.390264  0.618245 -1.050796 -0.325663   \n",
       "1963-07-31   10030 -0.0663  0.569758 -0.013142       NaN -0.260204       NaN   \n",
       "\n",
       "            invest_asset  \n",
       "DATE                      \n",
       "1963-07-31      3.186066  \n",
       "1963-07-31      2.896638  \n",
       "1963-07-31           NaN  "
      ]
     },
     "execution_count": 10,
     "metadata": {},
     "output_type": "execute_result"
    }
   ],
   "source": [
    "trainingdate = dateID[:120]\n",
    "training_start = '1963-7-31'\n",
    "training_end = '1973-6-30'\n",
    "training = project_std[training_start:training_end]\n",
    "training.tail(3)\n",
    "training.head(3)"
   ]
  },
  {
   "cell_type": "markdown",
   "id": "79353e9d",
   "metadata": {},
   "source": [
    "<font face=\"微软雅黑\" size=4 color=#A52A2A >③Cross-sectional regression"
   ]
  },
  {
   "cell_type": "markdown",
   "id": "d902a049",
   "metadata": {},
   "source": [
    "#### Collect the resulting coefficient estimates"
   ]
  },
  {
   "cell_type": "markdown",
   "id": "55d3ac0c",
   "metadata": {},
   "source": [
    "<font face=\"微软雅黑\" size=4 color=#2E8B57 >收集θ的120个月的时间序列数据，先建立用来存放的表格"
   ]
  },
  {
   "cell_type": "code",
   "execution_count": 11,
   "id": "7bf82c9c",
   "metadata": {},
   "outputs": [],
   "source": [
    "θ = pd.DataFrame(data=np.zeros([120,6]),index=training.index.unique(),\n",
    "                columns=['mkt_beta','logme','logbeme','r_2_12','gp','invest_asset'])"
   ]
  },
  {
   "cell_type": "markdown",
   "id": "2778fd14",
   "metadata": {},
   "source": [
    "<font face=\"微软雅黑\" size=4 color=#2E8B57 >对每个月进行6个特征值的回归，将系数记录在上面的表格"
   ]
  },
  {
   "cell_type": "code",
   "execution_count": 12,
   "id": "9eca8d4c",
   "metadata": {},
   "outputs": [],
   "source": [
    "for t in trainingdate:\n",
    "    θ.loc[t] = OLS(training.loc[t].iloc[:,1],training.loc[t].iloc[:,2:],missing='drop').fit().params"
   ]
  },
  {
   "cell_type": "markdown",
   "id": "350f26b1",
   "metadata": {},
   "source": [
    "<font face=\"微软雅黑\" size=4 color=#2E8B57 >得到如下的θ的120个月的数据"
   ]
  },
  {
   "cell_type": "code",
   "execution_count": 13,
   "id": "a4d862c1",
   "metadata": {},
   "outputs": [
    {
     "data": {
      "text/html": [
       "<div>\n",
       "<style scoped>\n",
       "    .dataframe tbody tr th:only-of-type {\n",
       "        vertical-align: middle;\n",
       "    }\n",
       "\n",
       "    .dataframe tbody tr th {\n",
       "        vertical-align: top;\n",
       "    }\n",
       "\n",
       "    .dataframe thead th {\n",
       "        text-align: right;\n",
       "    }\n",
       "</style>\n",
       "<table border=\"1\" class=\"dataframe\">\n",
       "  <thead>\n",
       "    <tr style=\"text-align: right;\">\n",
       "      <th></th>\n",
       "      <th>mkt_beta</th>\n",
       "      <th>logme</th>\n",
       "      <th>logbeme</th>\n",
       "      <th>r_2_12</th>\n",
       "      <th>gp</th>\n",
       "      <th>invest_asset</th>\n",
       "    </tr>\n",
       "    <tr>\n",
       "      <th>DATE</th>\n",
       "      <th></th>\n",
       "      <th></th>\n",
       "      <th></th>\n",
       "      <th></th>\n",
       "      <th></th>\n",
       "      <th></th>\n",
       "    </tr>\n",
       "  </thead>\n",
       "  <tbody>\n",
       "    <tr>\n",
       "      <th>1963-07-31</th>\n",
       "      <td>-0.009225</td>\n",
       "      <td>-0.001787</td>\n",
       "      <td>-0.006311</td>\n",
       "      <td>0.007078</td>\n",
       "      <td>0.000406</td>\n",
       "      <td>0.001267</td>\n",
       "    </tr>\n",
       "    <tr>\n",
       "      <th>1963-08-30</th>\n",
       "      <td>0.047990</td>\n",
       "      <td>0.007174</td>\n",
       "      <td>0.001092</td>\n",
       "      <td>0.009503</td>\n",
       "      <td>0.002422</td>\n",
       "      <td>-0.002563</td>\n",
       "    </tr>\n",
       "    <tr>\n",
       "      <th>1963-09-30</th>\n",
       "      <td>-0.022506</td>\n",
       "      <td>0.001859</td>\n",
       "      <td>0.005765</td>\n",
       "      <td>-0.003435</td>\n",
       "      <td>0.004645</td>\n",
       "      <td>-0.003438</td>\n",
       "    </tr>\n",
       "    <tr>\n",
       "      <th>1963-10-31</th>\n",
       "      <td>0.020559</td>\n",
       "      <td>-0.001818</td>\n",
       "      <td>0.001067</td>\n",
       "      <td>0.016890</td>\n",
       "      <td>0.004495</td>\n",
       "      <td>-0.000174</td>\n",
       "    </tr>\n",
       "    <tr>\n",
       "      <th>1963-11-29</th>\n",
       "      <td>-0.006861</td>\n",
       "      <td>0.000740</td>\n",
       "      <td>-0.000229</td>\n",
       "      <td>-0.000181</td>\n",
       "      <td>-0.006763</td>\n",
       "      <td>-0.001882</td>\n",
       "    </tr>\n",
       "    <tr>\n",
       "      <th>...</th>\n",
       "      <td>...</td>\n",
       "      <td>...</td>\n",
       "      <td>...</td>\n",
       "      <td>...</td>\n",
       "      <td>...</td>\n",
       "      <td>...</td>\n",
       "    </tr>\n",
       "    <tr>\n",
       "      <th>1973-02-28</th>\n",
       "      <td>-0.052802</td>\n",
       "      <td>0.006952</td>\n",
       "      <td>0.006234</td>\n",
       "      <td>-0.005770</td>\n",
       "      <td>-0.006178</td>\n",
       "      <td>-0.003055</td>\n",
       "    </tr>\n",
       "    <tr>\n",
       "      <th>1973-03-30</th>\n",
       "      <td>-0.017573</td>\n",
       "      <td>-0.001362</td>\n",
       "      <td>0.009965</td>\n",
       "      <td>0.009215</td>\n",
       "      <td>-0.005966</td>\n",
       "      <td>0.002347</td>\n",
       "    </tr>\n",
       "    <tr>\n",
       "      <th>1973-04-30</th>\n",
       "      <td>-0.051029</td>\n",
       "      <td>0.001509</td>\n",
       "      <td>0.013480</td>\n",
       "      <td>0.009644</td>\n",
       "      <td>-0.006367</td>\n",
       "      <td>-0.008786</td>\n",
       "    </tr>\n",
       "    <tr>\n",
       "      <th>1973-05-31</th>\n",
       "      <td>-0.057780</td>\n",
       "      <td>0.017399</td>\n",
       "      <td>0.000217</td>\n",
       "      <td>0.004706</td>\n",
       "      <td>-0.001829</td>\n",
       "      <td>-0.001384</td>\n",
       "    </tr>\n",
       "    <tr>\n",
       "      <th>1973-06-29</th>\n",
       "      <td>-0.025241</td>\n",
       "      <td>-0.005282</td>\n",
       "      <td>-0.001805</td>\n",
       "      <td>0.008627</td>\n",
       "      <td>-0.002079</td>\n",
       "      <td>-0.002957</td>\n",
       "    </tr>\n",
       "  </tbody>\n",
       "</table>\n",
       "<p>120 rows × 6 columns</p>\n",
       "</div>"
      ],
      "text/plain": [
       "            mkt_beta     logme   logbeme    r_2_12        gp  invest_asset\n",
       "DATE                                                                      \n",
       "1963-07-31 -0.009225 -0.001787 -0.006311  0.007078  0.000406      0.001267\n",
       "1963-08-30  0.047990  0.007174  0.001092  0.009503  0.002422     -0.002563\n",
       "1963-09-30 -0.022506  0.001859  0.005765 -0.003435  0.004645     -0.003438\n",
       "1963-10-31  0.020559 -0.001818  0.001067  0.016890  0.004495     -0.000174\n",
       "1963-11-29 -0.006861  0.000740 -0.000229 -0.000181 -0.006763     -0.001882\n",
       "...              ...       ...       ...       ...       ...           ...\n",
       "1973-02-28 -0.052802  0.006952  0.006234 -0.005770 -0.006178     -0.003055\n",
       "1973-03-30 -0.017573 -0.001362  0.009965  0.009215 -0.005966      0.002347\n",
       "1973-04-30 -0.051029  0.001509  0.013480  0.009644 -0.006367     -0.008786\n",
       "1973-05-31 -0.057780  0.017399  0.000217  0.004706 -0.001829     -0.001384\n",
       "1973-06-29 -0.025241 -0.005282 -0.001805  0.008627 -0.002079     -0.002957\n",
       "\n",
       "[120 rows x 6 columns]"
      ]
     },
     "execution_count": 13,
     "metadata": {},
     "output_type": "execute_result"
    }
   ],
   "source": [
    "θ"
   ]
  },
  {
   "cell_type": "code",
   "execution_count": 14,
   "id": "4bddc21f",
   "metadata": {},
   "outputs": [],
   "source": [
    "#θ.to_csv('/Users/liuke/Downloads/HW2021Fall/Quant/FinalProj/θ.csv')"
   ]
  },
  {
   "cell_type": "markdown",
   "id": "793b8b54",
   "metadata": {},
   "source": [
    "#### Collect the  residuals of cross-sectional regressions "
   ]
  },
  {
   "cell_type": "markdown",
   "id": "a9dfa8c0",
   "metadata": {},
   "source": [
    "<font face=\"微软雅黑\" size=4 color=#2E8B57 >建立收集η的表格"
   ]
  },
  {
   "cell_type": "code",
   "execution_count": 15,
   "id": "458ca33c",
   "metadata": {},
   "outputs": [],
   "source": [
    "η=pd.DataFrame(data=np.zeros([120,2510]),index=training.index.unique(),\n",
    "              columns=training.PERMNO.unique())"
   ]
  },
  {
   "cell_type": "markdown",
   "id": "508dcb65",
   "metadata": {},
   "source": [
    "<font face=\"微软雅黑\" size=4 color=#2E8B57 >由于不是每一个公司都参与回归，有的公司数据残缺，所以这一步需要将残差与公司对号入座"
   ]
  },
  {
   "cell_type": "code",
   "execution_count": 16,
   "id": "1d8c510d",
   "metadata": {},
   "outputs": [],
   "source": [
    "for t in trainingdate:\n",
    "    testtheta =  training.loc[t]\n",
    "    testtheta.index = training.loc[t].PERMNO\n",
    "    dicttest = dict(OLS(testtheta.iloc[:,1],testtheta.iloc[:,2:],missing='drop').fit().resid)\n",
    "    η.loc[t]=dicttest"
   ]
  },
  {
   "cell_type": "code",
   "execution_count": 17,
   "id": "dd596313",
   "metadata": {},
   "outputs": [],
   "source": [
    "#η.to_csv('/Users/liuke/Downloads/HW2021Fall/Quant/FinalProj/η.csv')"
   ]
  },
  {
   "cell_type": "markdown",
   "id": "64903198",
   "metadata": {},
   "source": [
    "<font face=\"微软雅黑\" size=4 color=#2E8B57 >得到如下的120个月的η数据，可以发现，越早上市的公司（100XX），数据越完整，越晚上市的公司（483XX），数据就比较少"
   ]
  },
  {
   "cell_type": "code",
   "execution_count": 18,
   "id": "65ee9484",
   "metadata": {},
   "outputs": [
    {
     "data": {
      "text/html": [
       "<div>\n",
       "<style scoped>\n",
       "    .dataframe tbody tr th:only-of-type {\n",
       "        vertical-align: middle;\n",
       "    }\n",
       "\n",
       "    .dataframe tbody tr th {\n",
       "        vertical-align: top;\n",
       "    }\n",
       "\n",
       "    .dataframe thead th {\n",
       "        text-align: right;\n",
       "    }\n",
       "</style>\n",
       "<table border=\"1\" class=\"dataframe\">\n",
       "  <thead>\n",
       "    <tr style=\"text-align: right;\">\n",
       "      <th></th>\n",
       "      <th>10006</th>\n",
       "      <th>10014</th>\n",
       "      <th>10030</th>\n",
       "      <th>10057</th>\n",
       "      <th>10102</th>\n",
       "      <th>10137</th>\n",
       "      <th>10145</th>\n",
       "      <th>10153</th>\n",
       "      <th>10161</th>\n",
       "      <th>10188</th>\n",
       "      <th>...</th>\n",
       "      <th>48346</th>\n",
       "      <th>48354</th>\n",
       "      <th>48362</th>\n",
       "      <th>48370</th>\n",
       "      <th>48389</th>\n",
       "      <th>48397</th>\n",
       "      <th>48418</th>\n",
       "      <th>48426</th>\n",
       "      <th>48434</th>\n",
       "      <th>48442</th>\n",
       "    </tr>\n",
       "    <tr>\n",
       "      <th>DATE</th>\n",
       "      <th></th>\n",
       "      <th></th>\n",
       "      <th></th>\n",
       "      <th></th>\n",
       "      <th></th>\n",
       "      <th></th>\n",
       "      <th></th>\n",
       "      <th></th>\n",
       "      <th></th>\n",
       "      <th></th>\n",
       "      <th></th>\n",
       "      <th></th>\n",
       "      <th></th>\n",
       "      <th></th>\n",
       "      <th></th>\n",
       "      <th></th>\n",
       "      <th></th>\n",
       "      <th></th>\n",
       "      <th></th>\n",
       "      <th></th>\n",
       "      <th></th>\n",
       "    </tr>\n",
       "  </thead>\n",
       "  <tbody>\n",
       "    <tr>\n",
       "      <th>1963-07-31</th>\n",
       "      <td>-0.046743</td>\n",
       "      <td>0.009138</td>\n",
       "      <td>NaN</td>\n",
       "      <td>NaN</td>\n",
       "      <td>-0.005704</td>\n",
       "      <td>0.004607</td>\n",
       "      <td>0.028751</td>\n",
       "      <td>-0.063615</td>\n",
       "      <td>-0.090622</td>\n",
       "      <td>-0.038800</td>\n",
       "      <td>...</td>\n",
       "      <td>NaN</td>\n",
       "      <td>NaN</td>\n",
       "      <td>NaN</td>\n",
       "      <td>NaN</td>\n",
       "      <td>NaN</td>\n",
       "      <td>NaN</td>\n",
       "      <td>NaN</td>\n",
       "      <td>NaN</td>\n",
       "      <td>NaN</td>\n",
       "      <td>NaN</td>\n",
       "    </tr>\n",
       "    <tr>\n",
       "      <th>1963-08-30</th>\n",
       "      <td>0.064502</td>\n",
       "      <td>0.032025</td>\n",
       "      <td>NaN</td>\n",
       "      <td>NaN</td>\n",
       "      <td>0.030122</td>\n",
       "      <td>0.088553</td>\n",
       "      <td>-0.052194</td>\n",
       "      <td>0.005873</td>\n",
       "      <td>-0.005439</td>\n",
       "      <td>0.010307</td>\n",
       "      <td>...</td>\n",
       "      <td>NaN</td>\n",
       "      <td>NaN</td>\n",
       "      <td>NaN</td>\n",
       "      <td>NaN</td>\n",
       "      <td>NaN</td>\n",
       "      <td>NaN</td>\n",
       "      <td>NaN</td>\n",
       "      <td>NaN</td>\n",
       "      <td>NaN</td>\n",
       "      <td>NaN</td>\n",
       "    </tr>\n",
       "    <tr>\n",
       "      <th>1963-09-30</th>\n",
       "      <td>-0.043745</td>\n",
       "      <td>-0.016979</td>\n",
       "      <td>NaN</td>\n",
       "      <td>NaN</td>\n",
       "      <td>-0.007585</td>\n",
       "      <td>-0.082890</td>\n",
       "      <td>0.031948</td>\n",
       "      <td>-0.051777</td>\n",
       "      <td>-0.038148</td>\n",
       "      <td>0.041821</td>\n",
       "      <td>...</td>\n",
       "      <td>NaN</td>\n",
       "      <td>NaN</td>\n",
       "      <td>NaN</td>\n",
       "      <td>NaN</td>\n",
       "      <td>NaN</td>\n",
       "      <td>NaN</td>\n",
       "      <td>NaN</td>\n",
       "      <td>NaN</td>\n",
       "      <td>NaN</td>\n",
       "      <td>NaN</td>\n",
       "    </tr>\n",
       "    <tr>\n",
       "      <th>1963-10-31</th>\n",
       "      <td>0.015083</td>\n",
       "      <td>-0.109031</td>\n",
       "      <td>NaN</td>\n",
       "      <td>NaN</td>\n",
       "      <td>0.020517</td>\n",
       "      <td>0.029229</td>\n",
       "      <td>0.048320</td>\n",
       "      <td>-0.046128</td>\n",
       "      <td>-0.014519</td>\n",
       "      <td>-0.044726</td>\n",
       "      <td>...</td>\n",
       "      <td>NaN</td>\n",
       "      <td>NaN</td>\n",
       "      <td>NaN</td>\n",
       "      <td>NaN</td>\n",
       "      <td>NaN</td>\n",
       "      <td>NaN</td>\n",
       "      <td>NaN</td>\n",
       "      <td>NaN</td>\n",
       "      <td>NaN</td>\n",
       "      <td>NaN</td>\n",
       "    </tr>\n",
       "    <tr>\n",
       "      <th>1963-11-29</th>\n",
       "      <td>0.253260</td>\n",
       "      <td>0.006279</td>\n",
       "      <td>NaN</td>\n",
       "      <td>NaN</td>\n",
       "      <td>0.000964</td>\n",
       "      <td>-0.047379</td>\n",
       "      <td>0.019463</td>\n",
       "      <td>-0.008019</td>\n",
       "      <td>0.055317</td>\n",
       "      <td>-0.054098</td>\n",
       "      <td>...</td>\n",
       "      <td>NaN</td>\n",
       "      <td>NaN</td>\n",
       "      <td>NaN</td>\n",
       "      <td>NaN</td>\n",
       "      <td>NaN</td>\n",
       "      <td>NaN</td>\n",
       "      <td>NaN</td>\n",
       "      <td>NaN</td>\n",
       "      <td>NaN</td>\n",
       "      <td>NaN</td>\n",
       "    </tr>\n",
       "    <tr>\n",
       "      <th>...</th>\n",
       "      <td>...</td>\n",
       "      <td>...</td>\n",
       "      <td>...</td>\n",
       "      <td>...</td>\n",
       "      <td>...</td>\n",
       "      <td>...</td>\n",
       "      <td>...</td>\n",
       "      <td>...</td>\n",
       "      <td>...</td>\n",
       "      <td>...</td>\n",
       "      <td>...</td>\n",
       "      <td>...</td>\n",
       "      <td>...</td>\n",
       "      <td>...</td>\n",
       "      <td>...</td>\n",
       "      <td>...</td>\n",
       "      <td>...</td>\n",
       "      <td>...</td>\n",
       "      <td>...</td>\n",
       "      <td>...</td>\n",
       "      <td>...</td>\n",
       "    </tr>\n",
       "    <tr>\n",
       "      <th>1973-02-28</th>\n",
       "      <td>-0.033271</td>\n",
       "      <td>-0.144079</td>\n",
       "      <td>NaN</td>\n",
       "      <td>-0.062460</td>\n",
       "      <td>0.020427</td>\n",
       "      <td>0.006745</td>\n",
       "      <td>0.103987</td>\n",
       "      <td>-0.041335</td>\n",
       "      <td>0.102895</td>\n",
       "      <td>0.025197</td>\n",
       "      <td>...</td>\n",
       "      <td>NaN</td>\n",
       "      <td>NaN</td>\n",
       "      <td>NaN</td>\n",
       "      <td>NaN</td>\n",
       "      <td>NaN</td>\n",
       "      <td>NaN</td>\n",
       "      <td>NaN</td>\n",
       "      <td>NaN</td>\n",
       "      <td>NaN</td>\n",
       "      <td>NaN</td>\n",
       "    </tr>\n",
       "    <tr>\n",
       "      <th>1973-03-30</th>\n",
       "      <td>0.118891</td>\n",
       "      <td>0.063162</td>\n",
       "      <td>NaN</td>\n",
       "      <td>-0.073148</td>\n",
       "      <td>0.005686</td>\n",
       "      <td>-0.091395</td>\n",
       "      <td>0.071867</td>\n",
       "      <td>-0.065489</td>\n",
       "      <td>0.019426</td>\n",
       "      <td>0.019332</td>\n",
       "      <td>...</td>\n",
       "      <td>NaN</td>\n",
       "      <td>NaN</td>\n",
       "      <td>NaN</td>\n",
       "      <td>NaN</td>\n",
       "      <td>NaN</td>\n",
       "      <td>NaN</td>\n",
       "      <td>NaN</td>\n",
       "      <td>NaN</td>\n",
       "      <td>NaN</td>\n",
       "      <td>NaN</td>\n",
       "    </tr>\n",
       "    <tr>\n",
       "      <th>1973-04-30</th>\n",
       "      <td>0.035180</td>\n",
       "      <td>-0.131197</td>\n",
       "      <td>NaN</td>\n",
       "      <td>0.027674</td>\n",
       "      <td>-0.032529</td>\n",
       "      <td>0.061821</td>\n",
       "      <td>0.003653</td>\n",
       "      <td>0.053667</td>\n",
       "      <td>-0.012713</td>\n",
       "      <td>0.019283</td>\n",
       "      <td>...</td>\n",
       "      <td>NaN</td>\n",
       "      <td>NaN</td>\n",
       "      <td>NaN</td>\n",
       "      <td>NaN</td>\n",
       "      <td>NaN</td>\n",
       "      <td>NaN</td>\n",
       "      <td>NaN</td>\n",
       "      <td>NaN</td>\n",
       "      <td>NaN</td>\n",
       "      <td>NaN</td>\n",
       "    </tr>\n",
       "    <tr>\n",
       "      <th>1973-05-31</th>\n",
       "      <td>0.020027</td>\n",
       "      <td>-0.034882</td>\n",
       "      <td>NaN</td>\n",
       "      <td>-0.017352</td>\n",
       "      <td>0.016574</td>\n",
       "      <td>0.053122</td>\n",
       "      <td>0.013590</td>\n",
       "      <td>0.004050</td>\n",
       "      <td>-0.036701</td>\n",
       "      <td>0.063209</td>\n",
       "      <td>...</td>\n",
       "      <td>NaN</td>\n",
       "      <td>NaN</td>\n",
       "      <td>NaN</td>\n",
       "      <td>NaN</td>\n",
       "      <td>NaN</td>\n",
       "      <td>NaN</td>\n",
       "      <td>NaN</td>\n",
       "      <td>NaN</td>\n",
       "      <td>NaN</td>\n",
       "      <td>NaN</td>\n",
       "    </tr>\n",
       "    <tr>\n",
       "      <th>1973-06-29</th>\n",
       "      <td>0.048558</td>\n",
       "      <td>0.083457</td>\n",
       "      <td>NaN</td>\n",
       "      <td>-0.037822</td>\n",
       "      <td>-0.026682</td>\n",
       "      <td>-0.008492</td>\n",
       "      <td>0.040335</td>\n",
       "      <td>0.043194</td>\n",
       "      <td>-0.016248</td>\n",
       "      <td>-0.004694</td>\n",
       "      <td>...</td>\n",
       "      <td>0.124309</td>\n",
       "      <td>0.030615</td>\n",
       "      <td>0.010942</td>\n",
       "      <td>NaN</td>\n",
       "      <td>-0.017207</td>\n",
       "      <td>NaN</td>\n",
       "      <td>-0.010533</td>\n",
       "      <td>0.01136</td>\n",
       "      <td>0.082394</td>\n",
       "      <td>0.056169</td>\n",
       "    </tr>\n",
       "  </tbody>\n",
       "</table>\n",
       "<p>120 rows × 2510 columns</p>\n",
       "</div>"
      ],
      "text/plain": [
       "               10006     10014  10030     10057     10102     10137     10145  \\\n",
       "DATE                                                                            \n",
       "1963-07-31 -0.046743  0.009138    NaN       NaN -0.005704  0.004607  0.028751   \n",
       "1963-08-30  0.064502  0.032025    NaN       NaN  0.030122  0.088553 -0.052194   \n",
       "1963-09-30 -0.043745 -0.016979    NaN       NaN -0.007585 -0.082890  0.031948   \n",
       "1963-10-31  0.015083 -0.109031    NaN       NaN  0.020517  0.029229  0.048320   \n",
       "1963-11-29  0.253260  0.006279    NaN       NaN  0.000964 -0.047379  0.019463   \n",
       "...              ...       ...    ...       ...       ...       ...       ...   \n",
       "1973-02-28 -0.033271 -0.144079    NaN -0.062460  0.020427  0.006745  0.103987   \n",
       "1973-03-30  0.118891  0.063162    NaN -0.073148  0.005686 -0.091395  0.071867   \n",
       "1973-04-30  0.035180 -0.131197    NaN  0.027674 -0.032529  0.061821  0.003653   \n",
       "1973-05-31  0.020027 -0.034882    NaN -0.017352  0.016574  0.053122  0.013590   \n",
       "1973-06-29  0.048558  0.083457    NaN -0.037822 -0.026682 -0.008492  0.040335   \n",
       "\n",
       "               10153     10161     10188  ...     48346     48354     48362  \\\n",
       "DATE                                      ...                                 \n",
       "1963-07-31 -0.063615 -0.090622 -0.038800  ...       NaN       NaN       NaN   \n",
       "1963-08-30  0.005873 -0.005439  0.010307  ...       NaN       NaN       NaN   \n",
       "1963-09-30 -0.051777 -0.038148  0.041821  ...       NaN       NaN       NaN   \n",
       "1963-10-31 -0.046128 -0.014519 -0.044726  ...       NaN       NaN       NaN   \n",
       "1963-11-29 -0.008019  0.055317 -0.054098  ...       NaN       NaN       NaN   \n",
       "...              ...       ...       ...  ...       ...       ...       ...   \n",
       "1973-02-28 -0.041335  0.102895  0.025197  ...       NaN       NaN       NaN   \n",
       "1973-03-30 -0.065489  0.019426  0.019332  ...       NaN       NaN       NaN   \n",
       "1973-04-30  0.053667 -0.012713  0.019283  ...       NaN       NaN       NaN   \n",
       "1973-05-31  0.004050 -0.036701  0.063209  ...       NaN       NaN       NaN   \n",
       "1973-06-29  0.043194 -0.016248 -0.004694  ...  0.124309  0.030615  0.010942   \n",
       "\n",
       "            48370     48389  48397     48418    48426     48434     48442  \n",
       "DATE                                                                       \n",
       "1963-07-31    NaN       NaN    NaN       NaN      NaN       NaN       NaN  \n",
       "1963-08-30    NaN       NaN    NaN       NaN      NaN       NaN       NaN  \n",
       "1963-09-30    NaN       NaN    NaN       NaN      NaN       NaN       NaN  \n",
       "1963-10-31    NaN       NaN    NaN       NaN      NaN       NaN       NaN  \n",
       "1963-11-29    NaN       NaN    NaN       NaN      NaN       NaN       NaN  \n",
       "...           ...       ...    ...       ...      ...       ...       ...  \n",
       "1973-02-28    NaN       NaN    NaN       NaN      NaN       NaN       NaN  \n",
       "1973-03-30    NaN       NaN    NaN       NaN      NaN       NaN       NaN  \n",
       "1973-04-30    NaN       NaN    NaN       NaN      NaN       NaN       NaN  \n",
       "1973-05-31    NaN       NaN    NaN       NaN      NaN       NaN       NaN  \n",
       "1973-06-29    NaN -0.017207    NaN -0.010533  0.01136  0.082394  0.056169  \n",
       "\n",
       "[120 rows x 2510 columns]"
      ]
     },
     "execution_count": 18,
     "metadata": {},
     "output_type": "execute_result"
    }
   ],
   "source": [
    "η"
   ]
  },
  {
   "cell_type": "markdown",
   "id": "b53ddc55",
   "metadata": {},
   "source": [
    "<font face=\"微软雅黑\" size=5 color=#A52A2A >Step 2 Compute the sample average of factors θt over past 120 months"
   ]
  },
  {
   "cell_type": "markdown",
   "id": "1f209aea",
   "metadata": {},
   "source": [
    "<font face=\"微软雅黑\" size=4 color=#2E8B57 >求简单均值"
   ]
  },
  {
   "cell_type": "code",
   "execution_count": 19,
   "id": "59a048b5",
   "metadata": {},
   "outputs": [
    {
     "data": {
      "text/plain": [
       "mkt_beta        0.003850\n",
       "logme          -0.001872\n",
       "logbeme         0.001044\n",
       "r_2_12          0.004283\n",
       "gp              0.000598\n",
       "invest_asset   -0.001727\n",
       "dtype: float64"
      ]
     },
     "execution_count": 19,
     "metadata": {},
     "output_type": "execute_result"
    }
   ],
   "source": [
    "θ_1_120 = θ.mean()\n",
    "θ_1_120"
   ]
  },
  {
   "cell_type": "markdown",
   "id": "38a681e5",
   "metadata": {},
   "source": [
    "<font face=\"微软雅黑\" size=5 color=#A52A2A >Step 3 Compute the sample covariance matrix of factors θt over past 120 months"
   ]
  },
  {
   "cell_type": "markdown",
   "id": "8de67e25",
   "metadata": {},
   "source": [
    "<font face=\"微软雅黑\" size=4 color=#2E8B57 >求θ的协方差，注意到分母是训练长度120 - 自由度6，意味着之后训练长度变长，分母也会跟随着变"
   ]
  },
  {
   "cell_type": "code",
   "execution_count": 20,
   "id": "19a3d9b1",
   "metadata": {},
   "outputs": [
    {
     "data": {
      "text/plain": [
       "array([[ 1.66198661e-03, -2.56172075e-04,  2.52606496e-05,\n",
       "         2.69375116e-05, -3.04900035e-06,  3.23134228e-06],\n",
       "       [-2.56172075e-04,  2.60906246e-04,  3.35365257e-05,\n",
       "        -8.01462900e-06,  1.90901247e-05,  7.43214303e-06],\n",
       "       [ 2.52606496e-05,  3.35365257e-05,  4.66774031e-05,\n",
       "        -1.73587973e-05,  6.05526330e-06, -5.57541035e-06],\n",
       "       [ 2.69375116e-05, -8.01462900e-06, -1.73587973e-05,\n",
       "         1.56667992e-04,  1.49194906e-05,  9.51424575e-06],\n",
       "       [-3.04900035e-06,  1.90901247e-05,  6.05526330e-06,\n",
       "         1.49194906e-05,  3.51728290e-05,  9.38034383e-06],\n",
       "       [ 3.23134228e-06,  7.43214303e-06, -5.57541035e-06,\n",
       "         9.51424575e-06,  9.38034383e-06,  2.23785584e-05]])"
      ]
     },
     "execution_count": 20,
     "metadata": {},
     "output_type": "execute_result"
    }
   ],
   "source": [
    "Var_120 = 0\n",
    "for t in trainingdate:\n",
    "    temp = np.array(θ.loc[t] - θ_1_120).reshape([6,1]).dot(np.array(θ.loc[t] - θ_1_120).reshape([1,6]))\n",
    "    Var_120 += temp\n",
    "Var_120_θ = Var_120/114\n",
    "Var_120_θ"
   ]
  },
  {
   "cell_type": "markdown",
   "id": "868eec47",
   "metadata": {},
   "source": [
    "<font face=\"微软雅黑\" size=5 color=#A52A2A >Step 4 Compute the sample covariance matrix of residuals ηt"
   ]
  },
  {
   "cell_type": "markdown",
   "id": "71df758a",
   "metadata": {},
   "source": [
    "<font face=\"微软雅黑\" size=4 color=#2E8B57 >筛选数据主要有三个问题\n",
    "- 第一是选择在训练最后一期仍在交易的股票\n",
    "- 第二是选择未来一期仍有交易的股票\n",
    "- 第三是该股票可用数据大于100的"
   ]
  },
  {
   "cell_type": "markdown",
   "id": "0b201f19",
   "metadata": {},
   "source": [
    "<font face=\"微软雅黑\" size=4 color=#2E8B57 >这里注意到窗口长度为120时，可用数据筛选的下限是100，之后窗口增大，按理来说应该相应增大可用数据的下限，比如训练200个月，选择可用数据为160以上的股票，但是在任务中没有明确说明，之后我仍以可用数据数量为100来计算"
   ]
  },
  {
   "cell_type": "code",
   "execution_count": 21,
   "id": "051d3648",
   "metadata": {},
   "outputs": [],
   "source": [
    "ffdf = training.loc['1973-6-29']\n",
    "ffdf.index = ffdf.PERMNO\n",
    "ff1 = ffdf.exret.dropna().index\n",
    "ff2 = list(η[ff1].columns[η[ff1].count()>100])\n",
    "\n",
    "ffdf2 = project_std.loc['1973-7-31'].dropna()\n",
    "ffdf2.index = ffdf2.PERMNO\n",
    "ffdf2 = ffdf2.exret.dropna()\n",
    "fff = list(set(ff2).intersection(set(ffdf2.index)))"
   ]
  },
  {
   "cell_type": "markdown",
   "id": "2fa5ebaf",
   "metadata": {},
   "source": [
    "<font face=\"微软雅黑\" size=4 color=#2E8B57 >股票数据筛选完毕，选出501个股票进行计算，这里对号入座，选则这501个股票的η"
   ]
  },
  {
   "cell_type": "code",
   "execution_count": 22,
   "id": "56f9f1e4",
   "metadata": {},
   "outputs": [
    {
     "data": {
      "text/html": [
       "<div>\n",
       "<style scoped>\n",
       "    .dataframe tbody tr th:only-of-type {\n",
       "        vertical-align: middle;\n",
       "    }\n",
       "\n",
       "    .dataframe tbody tr th {\n",
       "        vertical-align: top;\n",
       "    }\n",
       "\n",
       "    .dataframe thead th {\n",
       "        text-align: right;\n",
       "    }\n",
       "</style>\n",
       "<table border=\"1\" class=\"dataframe\">\n",
       "  <thead>\n",
       "    <tr style=\"text-align: right;\">\n",
       "      <th></th>\n",
       "      <th>10241</th>\n",
       "      <th>20482</th>\n",
       "      <th>22533</th>\n",
       "      <th>22541</th>\n",
       "      <th>18446</th>\n",
       "      <th>24600</th>\n",
       "      <th>12319</th>\n",
       "      <th>26657</th>\n",
       "      <th>16424</th>\n",
       "      <th>26665</th>\n",
       "      <th>...</th>\n",
       "      <th>26606</th>\n",
       "      <th>10225</th>\n",
       "      <th>14322</th>\n",
       "      <th>24563</th>\n",
       "      <th>22517</th>\n",
       "      <th>26614</th>\n",
       "      <th>10233</th>\n",
       "      <th>20474</th>\n",
       "      <th>24571</th>\n",
       "      <th>26622</th>\n",
       "    </tr>\n",
       "    <tr>\n",
       "      <th>DATE</th>\n",
       "      <th></th>\n",
       "      <th></th>\n",
       "      <th></th>\n",
       "      <th></th>\n",
       "      <th></th>\n",
       "      <th></th>\n",
       "      <th></th>\n",
       "      <th></th>\n",
       "      <th></th>\n",
       "      <th></th>\n",
       "      <th></th>\n",
       "      <th></th>\n",
       "      <th></th>\n",
       "      <th></th>\n",
       "      <th></th>\n",
       "      <th></th>\n",
       "      <th></th>\n",
       "      <th></th>\n",
       "      <th></th>\n",
       "      <th></th>\n",
       "      <th></th>\n",
       "    </tr>\n",
       "  </thead>\n",
       "  <tbody>\n",
       "    <tr>\n",
       "      <th>1963-07-31</th>\n",
       "      <td>-0.011251</td>\n",
       "      <td>0.148298</td>\n",
       "      <td>-0.022518</td>\n",
       "      <td>0.024621</td>\n",
       "      <td>-0.063550</td>\n",
       "      <td>-0.055881</td>\n",
       "      <td>0.023817</td>\n",
       "      <td>0.016498</td>\n",
       "      <td>0.003755</td>\n",
       "      <td>-0.132050</td>\n",
       "      <td>...</td>\n",
       "      <td>-0.042128</td>\n",
       "      <td>0.005083</td>\n",
       "      <td>-0.014629</td>\n",
       "      <td>0.005142</td>\n",
       "      <td>-0.016592</td>\n",
       "      <td>-0.021744</td>\n",
       "      <td>-0.022991</td>\n",
       "      <td>-0.083933</td>\n",
       "      <td>0.083440</td>\n",
       "      <td>-0.013899</td>\n",
       "    </tr>\n",
       "    <tr>\n",
       "      <th>1963-08-30</th>\n",
       "      <td>0.017603</td>\n",
       "      <td>0.044109</td>\n",
       "      <td>0.042719</td>\n",
       "      <td>-0.006570</td>\n",
       "      <td>0.000386</td>\n",
       "      <td>-0.002275</td>\n",
       "      <td>0.040321</td>\n",
       "      <td>-0.041226</td>\n",
       "      <td>0.074791</td>\n",
       "      <td>0.005764</td>\n",
       "      <td>...</td>\n",
       "      <td>-0.016971</td>\n",
       "      <td>-0.018147</td>\n",
       "      <td>-0.006268</td>\n",
       "      <td>0.026555</td>\n",
       "      <td>0.003019</td>\n",
       "      <td>-0.017452</td>\n",
       "      <td>0.102587</td>\n",
       "      <td>0.172863</td>\n",
       "      <td>-0.078579</td>\n",
       "      <td>0.016186</td>\n",
       "    </tr>\n",
       "    <tr>\n",
       "      <th>1963-09-30</th>\n",
       "      <td>-0.024069</td>\n",
       "      <td>0.005664</td>\n",
       "      <td>-0.079853</td>\n",
       "      <td>0.012928</td>\n",
       "      <td>0.014544</td>\n",
       "      <td>-0.014532</td>\n",
       "      <td>-0.073607</td>\n",
       "      <td>-0.046684</td>\n",
       "      <td>-0.026716</td>\n",
       "      <td>-0.133519</td>\n",
       "      <td>...</td>\n",
       "      <td>0.008787</td>\n",
       "      <td>-0.036519</td>\n",
       "      <td>0.076087</td>\n",
       "      <td>-0.019692</td>\n",
       "      <td>-0.034220</td>\n",
       "      <td>-0.055316</td>\n",
       "      <td>-0.067037</td>\n",
       "      <td>-0.048555</td>\n",
       "      <td>-0.021698</td>\n",
       "      <td>0.013225</td>\n",
       "    </tr>\n",
       "    <tr>\n",
       "      <th>1963-10-31</th>\n",
       "      <td>-0.051019</td>\n",
       "      <td>-0.117208</td>\n",
       "      <td>0.064395</td>\n",
       "      <td>-0.032517</td>\n",
       "      <td>0.003532</td>\n",
       "      <td>0.030844</td>\n",
       "      <td>-0.003088</td>\n",
       "      <td>-0.122484</td>\n",
       "      <td>-0.139527</td>\n",
       "      <td>0.223472</td>\n",
       "      <td>...</td>\n",
       "      <td>0.008548</td>\n",
       "      <td>0.065005</td>\n",
       "      <td>-0.031482</td>\n",
       "      <td>-0.017434</td>\n",
       "      <td>-0.026959</td>\n",
       "      <td>-0.004266</td>\n",
       "      <td>0.148759</td>\n",
       "      <td>-0.026713</td>\n",
       "      <td>-0.034627</td>\n",
       "      <td>-0.032260</td>\n",
       "    </tr>\n",
       "    <tr>\n",
       "      <th>1963-11-29</th>\n",
       "      <td>-0.025544</td>\n",
       "      <td>0.057984</td>\n",
       "      <td>0.017964</td>\n",
       "      <td>0.010278</td>\n",
       "      <td>-0.008238</td>\n",
       "      <td>-0.126051</td>\n",
       "      <td>-0.048952</td>\n",
       "      <td>-0.003100</td>\n",
       "      <td>0.023677</td>\n",
       "      <td>-0.022102</td>\n",
       "      <td>...</td>\n",
       "      <td>-0.032847</td>\n",
       "      <td>-0.073273</td>\n",
       "      <td>0.000074</td>\n",
       "      <td>-0.000628</td>\n",
       "      <td>0.020666</td>\n",
       "      <td>-0.054908</td>\n",
       "      <td>-0.056786</td>\n",
       "      <td>0.107381</td>\n",
       "      <td>0.003683</td>\n",
       "      <td>0.014418</td>\n",
       "    </tr>\n",
       "    <tr>\n",
       "      <th>...</th>\n",
       "      <td>...</td>\n",
       "      <td>...</td>\n",
       "      <td>...</td>\n",
       "      <td>...</td>\n",
       "      <td>...</td>\n",
       "      <td>...</td>\n",
       "      <td>...</td>\n",
       "      <td>...</td>\n",
       "      <td>...</td>\n",
       "      <td>...</td>\n",
       "      <td>...</td>\n",
       "      <td>...</td>\n",
       "      <td>...</td>\n",
       "      <td>...</td>\n",
       "      <td>...</td>\n",
       "      <td>...</td>\n",
       "      <td>...</td>\n",
       "      <td>...</td>\n",
       "      <td>...</td>\n",
       "      <td>...</td>\n",
       "      <td>...</td>\n",
       "    </tr>\n",
       "    <tr>\n",
       "      <th>1973-02-28</th>\n",
       "      <td>-0.024358</td>\n",
       "      <td>0.034486</td>\n",
       "      <td>-0.022188</td>\n",
       "      <td>0.017539</td>\n",
       "      <td>0.037831</td>\n",
       "      <td>0.084977</td>\n",
       "      <td>0.067960</td>\n",
       "      <td>0.020546</td>\n",
       "      <td>-0.021639</td>\n",
       "      <td>-0.100893</td>\n",
       "      <td>...</td>\n",
       "      <td>-0.012657</td>\n",
       "      <td>-0.048071</td>\n",
       "      <td>0.012760</td>\n",
       "      <td>0.052736</td>\n",
       "      <td>0.008276</td>\n",
       "      <td>-0.009711</td>\n",
       "      <td>-0.084698</td>\n",
       "      <td>-0.056420</td>\n",
       "      <td>-0.053987</td>\n",
       "      <td>-0.046428</td>\n",
       "    </tr>\n",
       "    <tr>\n",
       "      <th>1973-03-30</th>\n",
       "      <td>0.028547</td>\n",
       "      <td>0.068959</td>\n",
       "      <td>-0.115656</td>\n",
       "      <td>-0.010005</td>\n",
       "      <td>0.029383</td>\n",
       "      <td>0.116961</td>\n",
       "      <td>0.129184</td>\n",
       "      <td>-0.137262</td>\n",
       "      <td>0.024042</td>\n",
       "      <td>0.057223</td>\n",
       "      <td>...</td>\n",
       "      <td>-0.061776</td>\n",
       "      <td>0.011521</td>\n",
       "      <td>-0.048167</td>\n",
       "      <td>-0.032414</td>\n",
       "      <td>-0.045001</td>\n",
       "      <td>0.010744</td>\n",
       "      <td>-0.128014</td>\n",
       "      <td>-0.035158</td>\n",
       "      <td>-0.021500</td>\n",
       "      <td>0.049639</td>\n",
       "    </tr>\n",
       "    <tr>\n",
       "      <th>1973-04-30</th>\n",
       "      <td>0.015737</td>\n",
       "      <td>-0.032109</td>\n",
       "      <td>-0.053337</td>\n",
       "      <td>0.012179</td>\n",
       "      <td>-0.017282</td>\n",
       "      <td>0.249953</td>\n",
       "      <td>0.132061</td>\n",
       "      <td>0.003020</td>\n",
       "      <td>-0.002956</td>\n",
       "      <td>-0.034201</td>\n",
       "      <td>...</td>\n",
       "      <td>0.028581</td>\n",
       "      <td>-0.047598</td>\n",
       "      <td>0.015917</td>\n",
       "      <td>-0.008000</td>\n",
       "      <td>-0.032297</td>\n",
       "      <td>0.013221</td>\n",
       "      <td>0.098124</td>\n",
       "      <td>-0.003202</td>\n",
       "      <td>0.001231</td>\n",
       "      <td>0.096375</td>\n",
       "    </tr>\n",
       "    <tr>\n",
       "      <th>1973-05-31</th>\n",
       "      <td>0.031575</td>\n",
       "      <td>-0.060948</td>\n",
       "      <td>0.072191</td>\n",
       "      <td>-0.017717</td>\n",
       "      <td>0.019475</td>\n",
       "      <td>-0.132928</td>\n",
       "      <td>0.118459</td>\n",
       "      <td>-0.069412</td>\n",
       "      <td>0.021419</td>\n",
       "      <td>-0.040187</td>\n",
       "      <td>...</td>\n",
       "      <td>0.015362</td>\n",
       "      <td>0.013611</td>\n",
       "      <td>0.022783</td>\n",
       "      <td>0.111495</td>\n",
       "      <td>0.056284</td>\n",
       "      <td>-0.029866</td>\n",
       "      <td>0.162476</td>\n",
       "      <td>0.014242</td>\n",
       "      <td>-0.059861</td>\n",
       "      <td>-0.034158</td>\n",
       "    </tr>\n",
       "    <tr>\n",
       "      <th>1973-06-29</th>\n",
       "      <td>-0.015166</td>\n",
       "      <td>0.003780</td>\n",
       "      <td>0.040293</td>\n",
       "      <td>0.007963</td>\n",
       "      <td>0.047552</td>\n",
       "      <td>0.019463</td>\n",
       "      <td>-0.032955</td>\n",
       "      <td>0.115305</td>\n",
       "      <td>-0.030013</td>\n",
       "      <td>0.058070</td>\n",
       "      <td>...</td>\n",
       "      <td>0.009686</td>\n",
       "      <td>0.017313</td>\n",
       "      <td>-0.006284</td>\n",
       "      <td>-0.015798</td>\n",
       "      <td>-0.038702</td>\n",
       "      <td>0.045477</td>\n",
       "      <td>-0.073983</td>\n",
       "      <td>-0.016882</td>\n",
       "      <td>0.036942</td>\n",
       "      <td>0.084461</td>\n",
       "    </tr>\n",
       "  </tbody>\n",
       "</table>\n",
       "<p>120 rows × 501 columns</p>\n",
       "</div>"
      ],
      "text/plain": [
       "               10241     20482     22533     22541     18446     24600  \\\n",
       "DATE                                                                     \n",
       "1963-07-31 -0.011251  0.148298 -0.022518  0.024621 -0.063550 -0.055881   \n",
       "1963-08-30  0.017603  0.044109  0.042719 -0.006570  0.000386 -0.002275   \n",
       "1963-09-30 -0.024069  0.005664 -0.079853  0.012928  0.014544 -0.014532   \n",
       "1963-10-31 -0.051019 -0.117208  0.064395 -0.032517  0.003532  0.030844   \n",
       "1963-11-29 -0.025544  0.057984  0.017964  0.010278 -0.008238 -0.126051   \n",
       "...              ...       ...       ...       ...       ...       ...   \n",
       "1973-02-28 -0.024358  0.034486 -0.022188  0.017539  0.037831  0.084977   \n",
       "1973-03-30  0.028547  0.068959 -0.115656 -0.010005  0.029383  0.116961   \n",
       "1973-04-30  0.015737 -0.032109 -0.053337  0.012179 -0.017282  0.249953   \n",
       "1973-05-31  0.031575 -0.060948  0.072191 -0.017717  0.019475 -0.132928   \n",
       "1973-06-29 -0.015166  0.003780  0.040293  0.007963  0.047552  0.019463   \n",
       "\n",
       "               12319     26657     16424     26665  ...     26606     10225  \\\n",
       "DATE                                                ...                       \n",
       "1963-07-31  0.023817  0.016498  0.003755 -0.132050  ... -0.042128  0.005083   \n",
       "1963-08-30  0.040321 -0.041226  0.074791  0.005764  ... -0.016971 -0.018147   \n",
       "1963-09-30 -0.073607 -0.046684 -0.026716 -0.133519  ...  0.008787 -0.036519   \n",
       "1963-10-31 -0.003088 -0.122484 -0.139527  0.223472  ...  0.008548  0.065005   \n",
       "1963-11-29 -0.048952 -0.003100  0.023677 -0.022102  ... -0.032847 -0.073273   \n",
       "...              ...       ...       ...       ...  ...       ...       ...   \n",
       "1973-02-28  0.067960  0.020546 -0.021639 -0.100893  ... -0.012657 -0.048071   \n",
       "1973-03-30  0.129184 -0.137262  0.024042  0.057223  ... -0.061776  0.011521   \n",
       "1973-04-30  0.132061  0.003020 -0.002956 -0.034201  ...  0.028581 -0.047598   \n",
       "1973-05-31  0.118459 -0.069412  0.021419 -0.040187  ...  0.015362  0.013611   \n",
       "1973-06-29 -0.032955  0.115305 -0.030013  0.058070  ...  0.009686  0.017313   \n",
       "\n",
       "               14322     24563     22517     26614     10233     20474  \\\n",
       "DATE                                                                     \n",
       "1963-07-31 -0.014629  0.005142 -0.016592 -0.021744 -0.022991 -0.083933   \n",
       "1963-08-30 -0.006268  0.026555  0.003019 -0.017452  0.102587  0.172863   \n",
       "1963-09-30  0.076087 -0.019692 -0.034220 -0.055316 -0.067037 -0.048555   \n",
       "1963-10-31 -0.031482 -0.017434 -0.026959 -0.004266  0.148759 -0.026713   \n",
       "1963-11-29  0.000074 -0.000628  0.020666 -0.054908 -0.056786  0.107381   \n",
       "...              ...       ...       ...       ...       ...       ...   \n",
       "1973-02-28  0.012760  0.052736  0.008276 -0.009711 -0.084698 -0.056420   \n",
       "1973-03-30 -0.048167 -0.032414 -0.045001  0.010744 -0.128014 -0.035158   \n",
       "1973-04-30  0.015917 -0.008000 -0.032297  0.013221  0.098124 -0.003202   \n",
       "1973-05-31  0.022783  0.111495  0.056284 -0.029866  0.162476  0.014242   \n",
       "1973-06-29 -0.006284 -0.015798 -0.038702  0.045477 -0.073983 -0.016882   \n",
       "\n",
       "               24571     26622  \n",
       "DATE                            \n",
       "1963-07-31  0.083440 -0.013899  \n",
       "1963-08-30 -0.078579  0.016186  \n",
       "1963-09-30 -0.021698  0.013225  \n",
       "1963-10-31 -0.034627 -0.032260  \n",
       "1963-11-29  0.003683  0.014418  \n",
       "...              ...       ...  \n",
       "1973-02-28 -0.053987 -0.046428  \n",
       "1973-03-30 -0.021500  0.049639  \n",
       "1973-04-30  0.001231  0.096375  \n",
       "1973-05-31 -0.059861 -0.034158  \n",
       "1973-06-29  0.036942  0.084461  \n",
       "\n",
       "[120 rows x 501 columns]"
      ]
     },
     "execution_count": 22,
     "metadata": {},
     "output_type": "execute_result"
    }
   ],
   "source": [
    "η_select = η[fff]\n",
    "η_select"
   ]
  },
  {
   "cell_type": "code",
   "execution_count": 23,
   "id": "cc622ac7",
   "metadata": {},
   "outputs": [],
   "source": [
    "η_select.mean()\n",
    "len_of_select = len(η_select.T)\n",
    "Var_120_η = np.eye(len_of_select);"
   ]
  },
  {
   "cell_type": "markdown",
   "id": "9064db01",
   "metadata": {},
   "source": [
    "<font face=\"微软雅黑\" size=4 color=#2E8B57 >为了储存残差的对角阵，建立储存的表格"
   ]
  },
  {
   "cell_type": "code",
   "execution_count": 24,
   "id": "89aab84f",
   "metadata": {},
   "outputs": [
    {
     "data": {
      "text/html": [
       "<div>\n",
       "<style scoped>\n",
       "    .dataframe tbody tr th:only-of-type {\n",
       "        vertical-align: middle;\n",
       "    }\n",
       "\n",
       "    .dataframe tbody tr th {\n",
       "        vertical-align: top;\n",
       "    }\n",
       "\n",
       "    .dataframe thead tr th {\n",
       "        text-align: left;\n",
       "    }\n",
       "</style>\n",
       "<table border=\"1\" class=\"dataframe\">\n",
       "  <thead>\n",
       "    <tr>\n",
       "      <th></th>\n",
       "      <th>1</th>\n",
       "      <th>2</th>\n",
       "      <th>3</th>\n",
       "      <th>4</th>\n",
       "      <th>5</th>\n",
       "      <th>6</th>\n",
       "      <th>7</th>\n",
       "      <th>8</th>\n",
       "      <th>9</th>\n",
       "      <th>10</th>\n",
       "      <th>...</th>\n",
       "      <th>492</th>\n",
       "      <th>493</th>\n",
       "      <th>494</th>\n",
       "      <th>495</th>\n",
       "      <th>496</th>\n",
       "      <th>497</th>\n",
       "      <th>498</th>\n",
       "      <th>499</th>\n",
       "      <th>500</th>\n",
       "      <th>501</th>\n",
       "    </tr>\n",
       "  </thead>\n",
       "  <tbody>\n",
       "    <tr>\n",
       "      <th>1</th>\n",
       "      <td>1.0</td>\n",
       "      <td>0.0</td>\n",
       "      <td>0.0</td>\n",
       "      <td>0.0</td>\n",
       "      <td>0.0</td>\n",
       "      <td>0.0</td>\n",
       "      <td>0.0</td>\n",
       "      <td>0.0</td>\n",
       "      <td>0.0</td>\n",
       "      <td>0.0</td>\n",
       "      <td>...</td>\n",
       "      <td>0.0</td>\n",
       "      <td>0.0</td>\n",
       "      <td>0.0</td>\n",
       "      <td>0.0</td>\n",
       "      <td>0.0</td>\n",
       "      <td>0.0</td>\n",
       "      <td>0.0</td>\n",
       "      <td>0.0</td>\n",
       "      <td>0.0</td>\n",
       "      <td>0.0</td>\n",
       "    </tr>\n",
       "    <tr>\n",
       "      <th>2</th>\n",
       "      <td>0.0</td>\n",
       "      <td>1.0</td>\n",
       "      <td>0.0</td>\n",
       "      <td>0.0</td>\n",
       "      <td>0.0</td>\n",
       "      <td>0.0</td>\n",
       "      <td>0.0</td>\n",
       "      <td>0.0</td>\n",
       "      <td>0.0</td>\n",
       "      <td>0.0</td>\n",
       "      <td>...</td>\n",
       "      <td>0.0</td>\n",
       "      <td>0.0</td>\n",
       "      <td>0.0</td>\n",
       "      <td>0.0</td>\n",
       "      <td>0.0</td>\n",
       "      <td>0.0</td>\n",
       "      <td>0.0</td>\n",
       "      <td>0.0</td>\n",
       "      <td>0.0</td>\n",
       "      <td>0.0</td>\n",
       "    </tr>\n",
       "    <tr>\n",
       "      <th>3</th>\n",
       "      <td>0.0</td>\n",
       "      <td>0.0</td>\n",
       "      <td>1.0</td>\n",
       "      <td>0.0</td>\n",
       "      <td>0.0</td>\n",
       "      <td>0.0</td>\n",
       "      <td>0.0</td>\n",
       "      <td>0.0</td>\n",
       "      <td>0.0</td>\n",
       "      <td>0.0</td>\n",
       "      <td>...</td>\n",
       "      <td>0.0</td>\n",
       "      <td>0.0</td>\n",
       "      <td>0.0</td>\n",
       "      <td>0.0</td>\n",
       "      <td>0.0</td>\n",
       "      <td>0.0</td>\n",
       "      <td>0.0</td>\n",
       "      <td>0.0</td>\n",
       "      <td>0.0</td>\n",
       "      <td>0.0</td>\n",
       "    </tr>\n",
       "    <tr>\n",
       "      <th>4</th>\n",
       "      <td>0.0</td>\n",
       "      <td>0.0</td>\n",
       "      <td>0.0</td>\n",
       "      <td>1.0</td>\n",
       "      <td>0.0</td>\n",
       "      <td>0.0</td>\n",
       "      <td>0.0</td>\n",
       "      <td>0.0</td>\n",
       "      <td>0.0</td>\n",
       "      <td>0.0</td>\n",
       "      <td>...</td>\n",
       "      <td>0.0</td>\n",
       "      <td>0.0</td>\n",
       "      <td>0.0</td>\n",
       "      <td>0.0</td>\n",
       "      <td>0.0</td>\n",
       "      <td>0.0</td>\n",
       "      <td>0.0</td>\n",
       "      <td>0.0</td>\n",
       "      <td>0.0</td>\n",
       "      <td>0.0</td>\n",
       "    </tr>\n",
       "    <tr>\n",
       "      <th>5</th>\n",
       "      <td>0.0</td>\n",
       "      <td>0.0</td>\n",
       "      <td>0.0</td>\n",
       "      <td>0.0</td>\n",
       "      <td>1.0</td>\n",
       "      <td>0.0</td>\n",
       "      <td>0.0</td>\n",
       "      <td>0.0</td>\n",
       "      <td>0.0</td>\n",
       "      <td>0.0</td>\n",
       "      <td>...</td>\n",
       "      <td>0.0</td>\n",
       "      <td>0.0</td>\n",
       "      <td>0.0</td>\n",
       "      <td>0.0</td>\n",
       "      <td>0.0</td>\n",
       "      <td>0.0</td>\n",
       "      <td>0.0</td>\n",
       "      <td>0.0</td>\n",
       "      <td>0.0</td>\n",
       "      <td>0.0</td>\n",
       "    </tr>\n",
       "    <tr>\n",
       "      <th>...</th>\n",
       "      <td>...</td>\n",
       "      <td>...</td>\n",
       "      <td>...</td>\n",
       "      <td>...</td>\n",
       "      <td>...</td>\n",
       "      <td>...</td>\n",
       "      <td>...</td>\n",
       "      <td>...</td>\n",
       "      <td>...</td>\n",
       "      <td>...</td>\n",
       "      <td>...</td>\n",
       "      <td>...</td>\n",
       "      <td>...</td>\n",
       "      <td>...</td>\n",
       "      <td>...</td>\n",
       "      <td>...</td>\n",
       "      <td>...</td>\n",
       "      <td>...</td>\n",
       "      <td>...</td>\n",
       "      <td>...</td>\n",
       "      <td>...</td>\n",
       "    </tr>\n",
       "    <tr>\n",
       "      <th>497</th>\n",
       "      <td>0.0</td>\n",
       "      <td>0.0</td>\n",
       "      <td>0.0</td>\n",
       "      <td>0.0</td>\n",
       "      <td>0.0</td>\n",
       "      <td>0.0</td>\n",
       "      <td>0.0</td>\n",
       "      <td>0.0</td>\n",
       "      <td>0.0</td>\n",
       "      <td>0.0</td>\n",
       "      <td>...</td>\n",
       "      <td>0.0</td>\n",
       "      <td>0.0</td>\n",
       "      <td>0.0</td>\n",
       "      <td>0.0</td>\n",
       "      <td>0.0</td>\n",
       "      <td>1.0</td>\n",
       "      <td>0.0</td>\n",
       "      <td>0.0</td>\n",
       "      <td>0.0</td>\n",
       "      <td>0.0</td>\n",
       "    </tr>\n",
       "    <tr>\n",
       "      <th>498</th>\n",
       "      <td>0.0</td>\n",
       "      <td>0.0</td>\n",
       "      <td>0.0</td>\n",
       "      <td>0.0</td>\n",
       "      <td>0.0</td>\n",
       "      <td>0.0</td>\n",
       "      <td>0.0</td>\n",
       "      <td>0.0</td>\n",
       "      <td>0.0</td>\n",
       "      <td>0.0</td>\n",
       "      <td>...</td>\n",
       "      <td>0.0</td>\n",
       "      <td>0.0</td>\n",
       "      <td>0.0</td>\n",
       "      <td>0.0</td>\n",
       "      <td>0.0</td>\n",
       "      <td>0.0</td>\n",
       "      <td>1.0</td>\n",
       "      <td>0.0</td>\n",
       "      <td>0.0</td>\n",
       "      <td>0.0</td>\n",
       "    </tr>\n",
       "    <tr>\n",
       "      <th>499</th>\n",
       "      <td>0.0</td>\n",
       "      <td>0.0</td>\n",
       "      <td>0.0</td>\n",
       "      <td>0.0</td>\n",
       "      <td>0.0</td>\n",
       "      <td>0.0</td>\n",
       "      <td>0.0</td>\n",
       "      <td>0.0</td>\n",
       "      <td>0.0</td>\n",
       "      <td>0.0</td>\n",
       "      <td>...</td>\n",
       "      <td>0.0</td>\n",
       "      <td>0.0</td>\n",
       "      <td>0.0</td>\n",
       "      <td>0.0</td>\n",
       "      <td>0.0</td>\n",
       "      <td>0.0</td>\n",
       "      <td>0.0</td>\n",
       "      <td>1.0</td>\n",
       "      <td>0.0</td>\n",
       "      <td>0.0</td>\n",
       "    </tr>\n",
       "    <tr>\n",
       "      <th>500</th>\n",
       "      <td>0.0</td>\n",
       "      <td>0.0</td>\n",
       "      <td>0.0</td>\n",
       "      <td>0.0</td>\n",
       "      <td>0.0</td>\n",
       "      <td>0.0</td>\n",
       "      <td>0.0</td>\n",
       "      <td>0.0</td>\n",
       "      <td>0.0</td>\n",
       "      <td>0.0</td>\n",
       "      <td>...</td>\n",
       "      <td>0.0</td>\n",
       "      <td>0.0</td>\n",
       "      <td>0.0</td>\n",
       "      <td>0.0</td>\n",
       "      <td>0.0</td>\n",
       "      <td>0.0</td>\n",
       "      <td>0.0</td>\n",
       "      <td>0.0</td>\n",
       "      <td>1.0</td>\n",
       "      <td>0.0</td>\n",
       "    </tr>\n",
       "    <tr>\n",
       "      <th>501</th>\n",
       "      <td>0.0</td>\n",
       "      <td>0.0</td>\n",
       "      <td>0.0</td>\n",
       "      <td>0.0</td>\n",
       "      <td>0.0</td>\n",
       "      <td>0.0</td>\n",
       "      <td>0.0</td>\n",
       "      <td>0.0</td>\n",
       "      <td>0.0</td>\n",
       "      <td>0.0</td>\n",
       "      <td>...</td>\n",
       "      <td>0.0</td>\n",
       "      <td>0.0</td>\n",
       "      <td>0.0</td>\n",
       "      <td>0.0</td>\n",
       "      <td>0.0</td>\n",
       "      <td>0.0</td>\n",
       "      <td>0.0</td>\n",
       "      <td>0.0</td>\n",
       "      <td>0.0</td>\n",
       "      <td>1.0</td>\n",
       "    </tr>\n",
       "  </tbody>\n",
       "</table>\n",
       "<p>501 rows × 501 columns</p>\n",
       "</div>"
      ],
      "text/plain": [
       "     1    2    3    4    5    6    7    8    9    10   ...  492  493  494  \\\n",
       "1    1.0  0.0  0.0  0.0  0.0  0.0  0.0  0.0  0.0  0.0  ...  0.0  0.0  0.0   \n",
       "2    0.0  1.0  0.0  0.0  0.0  0.0  0.0  0.0  0.0  0.0  ...  0.0  0.0  0.0   \n",
       "3    0.0  0.0  1.0  0.0  0.0  0.0  0.0  0.0  0.0  0.0  ...  0.0  0.0  0.0   \n",
       "4    0.0  0.0  0.0  1.0  0.0  0.0  0.0  0.0  0.0  0.0  ...  0.0  0.0  0.0   \n",
       "5    0.0  0.0  0.0  0.0  1.0  0.0  0.0  0.0  0.0  0.0  ...  0.0  0.0  0.0   \n",
       "..   ...  ...  ...  ...  ...  ...  ...  ...  ...  ...  ...  ...  ...  ...   \n",
       "497  0.0  0.0  0.0  0.0  0.0  0.0  0.0  0.0  0.0  0.0  ...  0.0  0.0  0.0   \n",
       "498  0.0  0.0  0.0  0.0  0.0  0.0  0.0  0.0  0.0  0.0  ...  0.0  0.0  0.0   \n",
       "499  0.0  0.0  0.0  0.0  0.0  0.0  0.0  0.0  0.0  0.0  ...  0.0  0.0  0.0   \n",
       "500  0.0  0.0  0.0  0.0  0.0  0.0  0.0  0.0  0.0  0.0  ...  0.0  0.0  0.0   \n",
       "501  0.0  0.0  0.0  0.0  0.0  0.0  0.0  0.0  0.0  0.0  ...  0.0  0.0  0.0   \n",
       "\n",
       "     495  496  497  498  499  500  501  \n",
       "1    0.0  0.0  0.0  0.0  0.0  0.0  0.0  \n",
       "2    0.0  0.0  0.0  0.0  0.0  0.0  0.0  \n",
       "3    0.0  0.0  0.0  0.0  0.0  0.0  0.0  \n",
       "4    0.0  0.0  0.0  0.0  0.0  0.0  0.0  \n",
       "5    0.0  0.0  0.0  0.0  0.0  0.0  0.0  \n",
       "..   ...  ...  ...  ...  ...  ...  ...  \n",
       "497  0.0  0.0  1.0  0.0  0.0  0.0  0.0  \n",
       "498  0.0  0.0  0.0  1.0  0.0  0.0  0.0  \n",
       "499  0.0  0.0  0.0  0.0  1.0  0.0  0.0  \n",
       "500  0.0  0.0  0.0  0.0  0.0  1.0  0.0  \n",
       "501  0.0  0.0  0.0  0.0  0.0  0.0  1.0  \n",
       "\n",
       "[501 rows x 501 columns]"
      ]
     },
     "execution_count": 24,
     "metadata": {},
     "output_type": "execute_result"
    }
   ],
   "source": [
    "Var_120_η = pd.DataFrame(data=Var_120_η,index=[np.arange(len_of_select)+1],columns=[np.arange(len_of_select)+1])\n",
    "Var_120_η"
   ]
  },
  {
   "cell_type": "markdown",
   "id": "75ef5322",
   "metadata": {},
   "source": [
    "<font face=\"微软雅黑\" size=4 color=#2E8B57 >计算并输入对角阵，这里注意到分母是随着公司可用数据的多少决定的，所以不是常数，最后得到该对角阵"
   ]
  },
  {
   "cell_type": "code",
   "execution_count": 25,
   "id": "f601c8a9",
   "metadata": {},
   "outputs": [],
   "source": [
    "for i in range(len_of_select):\n",
    "    Var_120_η.iloc[i,i] = (η_select.iloc[:,i].var()*(η_select.iloc[:,i].count()-1))/(η_select.iloc[:,i].count()-6)"
   ]
  },
  {
   "cell_type": "code",
   "execution_count": 26,
   "id": "0ed50cef",
   "metadata": {},
   "outputs": [
    {
     "data": {
      "text/html": [
       "<div>\n",
       "<style scoped>\n",
       "    .dataframe tbody tr th:only-of-type {\n",
       "        vertical-align: middle;\n",
       "    }\n",
       "\n",
       "    .dataframe tbody tr th {\n",
       "        vertical-align: top;\n",
       "    }\n",
       "\n",
       "    .dataframe thead tr th {\n",
       "        text-align: left;\n",
       "    }\n",
       "</style>\n",
       "<table border=\"1\" class=\"dataframe\">\n",
       "  <thead>\n",
       "    <tr>\n",
       "      <th></th>\n",
       "      <th>1</th>\n",
       "      <th>2</th>\n",
       "      <th>3</th>\n",
       "      <th>4</th>\n",
       "      <th>5</th>\n",
       "      <th>6</th>\n",
       "      <th>7</th>\n",
       "      <th>8</th>\n",
       "      <th>9</th>\n",
       "      <th>10</th>\n",
       "      <th>...</th>\n",
       "      <th>492</th>\n",
       "      <th>493</th>\n",
       "      <th>494</th>\n",
       "      <th>495</th>\n",
       "      <th>496</th>\n",
       "      <th>497</th>\n",
       "      <th>498</th>\n",
       "      <th>499</th>\n",
       "      <th>500</th>\n",
       "      <th>501</th>\n",
       "    </tr>\n",
       "  </thead>\n",
       "  <tbody>\n",
       "    <tr>\n",
       "      <th>1</th>\n",
       "      <td>0.002088</td>\n",
       "      <td>0.000000</td>\n",
       "      <td>0.000000</td>\n",
       "      <td>0.000000</td>\n",
       "      <td>0.000000</td>\n",
       "      <td>0.0</td>\n",
       "      <td>0.0</td>\n",
       "      <td>0.0</td>\n",
       "      <td>0.0</td>\n",
       "      <td>0.0</td>\n",
       "      <td>...</td>\n",
       "      <td>0.0</td>\n",
       "      <td>0.0</td>\n",
       "      <td>0.0</td>\n",
       "      <td>0.0</td>\n",
       "      <td>0.0</td>\n",
       "      <td>0.000000</td>\n",
       "      <td>0.000000</td>\n",
       "      <td>0.000000</td>\n",
       "      <td>0.000000</td>\n",
       "      <td>0.000000</td>\n",
       "    </tr>\n",
       "    <tr>\n",
       "      <th>2</th>\n",
       "      <td>0.000000</td>\n",
       "      <td>0.003625</td>\n",
       "      <td>0.000000</td>\n",
       "      <td>0.000000</td>\n",
       "      <td>0.000000</td>\n",
       "      <td>0.0</td>\n",
       "      <td>0.0</td>\n",
       "      <td>0.0</td>\n",
       "      <td>0.0</td>\n",
       "      <td>0.0</td>\n",
       "      <td>...</td>\n",
       "      <td>0.0</td>\n",
       "      <td>0.0</td>\n",
       "      <td>0.0</td>\n",
       "      <td>0.0</td>\n",
       "      <td>0.0</td>\n",
       "      <td>0.000000</td>\n",
       "      <td>0.000000</td>\n",
       "      <td>0.000000</td>\n",
       "      <td>0.000000</td>\n",
       "      <td>0.000000</td>\n",
       "    </tr>\n",
       "    <tr>\n",
       "      <th>3</th>\n",
       "      <td>0.000000</td>\n",
       "      <td>0.000000</td>\n",
       "      <td>0.005042</td>\n",
       "      <td>0.000000</td>\n",
       "      <td>0.000000</td>\n",
       "      <td>0.0</td>\n",
       "      <td>0.0</td>\n",
       "      <td>0.0</td>\n",
       "      <td>0.0</td>\n",
       "      <td>0.0</td>\n",
       "      <td>...</td>\n",
       "      <td>0.0</td>\n",
       "      <td>0.0</td>\n",
       "      <td>0.0</td>\n",
       "      <td>0.0</td>\n",
       "      <td>0.0</td>\n",
       "      <td>0.000000</td>\n",
       "      <td>0.000000</td>\n",
       "      <td>0.000000</td>\n",
       "      <td>0.000000</td>\n",
       "      <td>0.000000</td>\n",
       "    </tr>\n",
       "    <tr>\n",
       "      <th>4</th>\n",
       "      <td>0.000000</td>\n",
       "      <td>0.000000</td>\n",
       "      <td>0.000000</td>\n",
       "      <td>0.001483</td>\n",
       "      <td>0.000000</td>\n",
       "      <td>0.0</td>\n",
       "      <td>0.0</td>\n",
       "      <td>0.0</td>\n",
       "      <td>0.0</td>\n",
       "      <td>0.0</td>\n",
       "      <td>...</td>\n",
       "      <td>0.0</td>\n",
       "      <td>0.0</td>\n",
       "      <td>0.0</td>\n",
       "      <td>0.0</td>\n",
       "      <td>0.0</td>\n",
       "      <td>0.000000</td>\n",
       "      <td>0.000000</td>\n",
       "      <td>0.000000</td>\n",
       "      <td>0.000000</td>\n",
       "      <td>0.000000</td>\n",
       "    </tr>\n",
       "    <tr>\n",
       "      <th>5</th>\n",
       "      <td>0.000000</td>\n",
       "      <td>0.000000</td>\n",
       "      <td>0.000000</td>\n",
       "      <td>0.000000</td>\n",
       "      <td>0.004387</td>\n",
       "      <td>0.0</td>\n",
       "      <td>0.0</td>\n",
       "      <td>0.0</td>\n",
       "      <td>0.0</td>\n",
       "      <td>0.0</td>\n",
       "      <td>...</td>\n",
       "      <td>0.0</td>\n",
       "      <td>0.0</td>\n",
       "      <td>0.0</td>\n",
       "      <td>0.0</td>\n",
       "      <td>0.0</td>\n",
       "      <td>0.000000</td>\n",
       "      <td>0.000000</td>\n",
       "      <td>0.000000</td>\n",
       "      <td>0.000000</td>\n",
       "      <td>0.000000</td>\n",
       "    </tr>\n",
       "    <tr>\n",
       "      <th>...</th>\n",
       "      <td>...</td>\n",
       "      <td>...</td>\n",
       "      <td>...</td>\n",
       "      <td>...</td>\n",
       "      <td>...</td>\n",
       "      <td>...</td>\n",
       "      <td>...</td>\n",
       "      <td>...</td>\n",
       "      <td>...</td>\n",
       "      <td>...</td>\n",
       "      <td>...</td>\n",
       "      <td>...</td>\n",
       "      <td>...</td>\n",
       "      <td>...</td>\n",
       "      <td>...</td>\n",
       "      <td>...</td>\n",
       "      <td>...</td>\n",
       "      <td>...</td>\n",
       "      <td>...</td>\n",
       "      <td>...</td>\n",
       "      <td>...</td>\n",
       "    </tr>\n",
       "    <tr>\n",
       "      <th>497</th>\n",
       "      <td>0.000000</td>\n",
       "      <td>0.000000</td>\n",
       "      <td>0.000000</td>\n",
       "      <td>0.000000</td>\n",
       "      <td>0.000000</td>\n",
       "      <td>0.0</td>\n",
       "      <td>0.0</td>\n",
       "      <td>0.0</td>\n",
       "      <td>0.0</td>\n",
       "      <td>0.0</td>\n",
       "      <td>...</td>\n",
       "      <td>0.0</td>\n",
       "      <td>0.0</td>\n",
       "      <td>0.0</td>\n",
       "      <td>0.0</td>\n",
       "      <td>0.0</td>\n",
       "      <td>0.001355</td>\n",
       "      <td>0.000000</td>\n",
       "      <td>0.000000</td>\n",
       "      <td>0.000000</td>\n",
       "      <td>0.000000</td>\n",
       "    </tr>\n",
       "    <tr>\n",
       "      <th>498</th>\n",
       "      <td>0.000000</td>\n",
       "      <td>0.000000</td>\n",
       "      <td>0.000000</td>\n",
       "      <td>0.000000</td>\n",
       "      <td>0.000000</td>\n",
       "      <td>0.0</td>\n",
       "      <td>0.0</td>\n",
       "      <td>0.0</td>\n",
       "      <td>0.0</td>\n",
       "      <td>0.0</td>\n",
       "      <td>...</td>\n",
       "      <td>0.0</td>\n",
       "      <td>0.0</td>\n",
       "      <td>0.0</td>\n",
       "      <td>0.0</td>\n",
       "      <td>0.0</td>\n",
       "      <td>0.000000</td>\n",
       "      <td>0.008182</td>\n",
       "      <td>0.000000</td>\n",
       "      <td>0.000000</td>\n",
       "      <td>0.000000</td>\n",
       "    </tr>\n",
       "    <tr>\n",
       "      <th>499</th>\n",
       "      <td>0.000000</td>\n",
       "      <td>0.000000</td>\n",
       "      <td>0.000000</td>\n",
       "      <td>0.000000</td>\n",
       "      <td>0.000000</td>\n",
       "      <td>0.0</td>\n",
       "      <td>0.0</td>\n",
       "      <td>0.0</td>\n",
       "      <td>0.0</td>\n",
       "      <td>0.0</td>\n",
       "      <td>...</td>\n",
       "      <td>0.0</td>\n",
       "      <td>0.0</td>\n",
       "      <td>0.0</td>\n",
       "      <td>0.0</td>\n",
       "      <td>0.0</td>\n",
       "      <td>0.000000</td>\n",
       "      <td>0.000000</td>\n",
       "      <td>0.013988</td>\n",
       "      <td>0.000000</td>\n",
       "      <td>0.000000</td>\n",
       "    </tr>\n",
       "    <tr>\n",
       "      <th>500</th>\n",
       "      <td>0.000000</td>\n",
       "      <td>0.000000</td>\n",
       "      <td>0.000000</td>\n",
       "      <td>0.000000</td>\n",
       "      <td>0.000000</td>\n",
       "      <td>0.0</td>\n",
       "      <td>0.0</td>\n",
       "      <td>0.0</td>\n",
       "      <td>0.0</td>\n",
       "      <td>0.0</td>\n",
       "      <td>...</td>\n",
       "      <td>0.0</td>\n",
       "      <td>0.0</td>\n",
       "      <td>0.0</td>\n",
       "      <td>0.0</td>\n",
       "      <td>0.0</td>\n",
       "      <td>0.000000</td>\n",
       "      <td>0.000000</td>\n",
       "      <td>0.000000</td>\n",
       "      <td>0.003831</td>\n",
       "      <td>0.000000</td>\n",
       "    </tr>\n",
       "    <tr>\n",
       "      <th>501</th>\n",
       "      <td>0.000000</td>\n",
       "      <td>0.000000</td>\n",
       "      <td>0.000000</td>\n",
       "      <td>0.000000</td>\n",
       "      <td>0.000000</td>\n",
       "      <td>0.0</td>\n",
       "      <td>0.0</td>\n",
       "      <td>0.0</td>\n",
       "      <td>0.0</td>\n",
       "      <td>0.0</td>\n",
       "      <td>...</td>\n",
       "      <td>0.0</td>\n",
       "      <td>0.0</td>\n",
       "      <td>0.0</td>\n",
       "      <td>0.0</td>\n",
       "      <td>0.0</td>\n",
       "      <td>0.000000</td>\n",
       "      <td>0.000000</td>\n",
       "      <td>0.000000</td>\n",
       "      <td>0.000000</td>\n",
       "      <td>0.002635</td>\n",
       "    </tr>\n",
       "  </tbody>\n",
       "</table>\n",
       "<p>501 rows × 501 columns</p>\n",
       "</div>"
      ],
      "text/plain": [
       "          1         2         3         4         5    6    7    8    9    \\\n",
       "1    0.002088  0.000000  0.000000  0.000000  0.000000  0.0  0.0  0.0  0.0   \n",
       "2    0.000000  0.003625  0.000000  0.000000  0.000000  0.0  0.0  0.0  0.0   \n",
       "3    0.000000  0.000000  0.005042  0.000000  0.000000  0.0  0.0  0.0  0.0   \n",
       "4    0.000000  0.000000  0.000000  0.001483  0.000000  0.0  0.0  0.0  0.0   \n",
       "5    0.000000  0.000000  0.000000  0.000000  0.004387  0.0  0.0  0.0  0.0   \n",
       "..        ...       ...       ...       ...       ...  ...  ...  ...  ...   \n",
       "497  0.000000  0.000000  0.000000  0.000000  0.000000  0.0  0.0  0.0  0.0   \n",
       "498  0.000000  0.000000  0.000000  0.000000  0.000000  0.0  0.0  0.0  0.0   \n",
       "499  0.000000  0.000000  0.000000  0.000000  0.000000  0.0  0.0  0.0  0.0   \n",
       "500  0.000000  0.000000  0.000000  0.000000  0.000000  0.0  0.0  0.0  0.0   \n",
       "501  0.000000  0.000000  0.000000  0.000000  0.000000  0.0  0.0  0.0  0.0   \n",
       "\n",
       "     10   ...  492  493  494  495  496       497       498       499  \\\n",
       "1    0.0  ...  0.0  0.0  0.0  0.0  0.0  0.000000  0.000000  0.000000   \n",
       "2    0.0  ...  0.0  0.0  0.0  0.0  0.0  0.000000  0.000000  0.000000   \n",
       "3    0.0  ...  0.0  0.0  0.0  0.0  0.0  0.000000  0.000000  0.000000   \n",
       "4    0.0  ...  0.0  0.0  0.0  0.0  0.0  0.000000  0.000000  0.000000   \n",
       "5    0.0  ...  0.0  0.0  0.0  0.0  0.0  0.000000  0.000000  0.000000   \n",
       "..   ...  ...  ...  ...  ...  ...  ...       ...       ...       ...   \n",
       "497  0.0  ...  0.0  0.0  0.0  0.0  0.0  0.001355  0.000000  0.000000   \n",
       "498  0.0  ...  0.0  0.0  0.0  0.0  0.0  0.000000  0.008182  0.000000   \n",
       "499  0.0  ...  0.0  0.0  0.0  0.0  0.0  0.000000  0.000000  0.013988   \n",
       "500  0.0  ...  0.0  0.0  0.0  0.0  0.0  0.000000  0.000000  0.000000   \n",
       "501  0.0  ...  0.0  0.0  0.0  0.0  0.0  0.000000  0.000000  0.000000   \n",
       "\n",
       "          500       501  \n",
       "1    0.000000  0.000000  \n",
       "2    0.000000  0.000000  \n",
       "3    0.000000  0.000000  \n",
       "4    0.000000  0.000000  \n",
       "5    0.000000  0.000000  \n",
       "..        ...       ...  \n",
       "497  0.000000  0.000000  \n",
       "498  0.000000  0.000000  \n",
       "499  0.000000  0.000000  \n",
       "500  0.003831  0.000000  \n",
       "501  0.000000  0.002635  \n",
       "\n",
       "[501 rows x 501 columns]"
      ]
     },
     "execution_count": 26,
     "metadata": {},
     "output_type": "execute_result"
    }
   ],
   "source": [
    "Var_120_η"
   ]
  },
  {
   "cell_type": "markdown",
   "id": "d0a57a5e",
   "metadata": {},
   "source": [
    "<font face=\"微软雅黑\" size=5 color=#A52A2A >Step 5 Compute time-t (June 1973) forecast"
   ]
  },
  {
   "cell_type": "code",
   "execution_count": 27,
   "id": "97c72058",
   "metadata": {},
   "outputs": [
    {
     "data": {
      "text/plain": [
       "mkt_beta        0.003850\n",
       "logme          -0.001872\n",
       "logbeme         0.001044\n",
       "r_2_12          0.004283\n",
       "gp              0.000598\n",
       "invest_asset   -0.001727\n",
       "dtype: float64"
      ]
     },
     "execution_count": 27,
     "metadata": {},
     "output_type": "execute_result"
    }
   ],
   "source": [
    "θ_1_120"
   ]
  },
  {
   "cell_type": "markdown",
   "id": "ef823a37",
   "metadata": {},
   "source": [
    "<font face=\"微软雅黑\" size=4 color=#2E8B57 >由于滞后的关系，找到下一期的被选中的公司的特征数据，提取相关的数据"
   ]
  },
  {
   "cell_type": "code",
   "execution_count": 28,
   "id": "d060127b",
   "metadata": {},
   "outputs": [
    {
     "data": {
      "text/html": [
       "<div>\n",
       "<style scoped>\n",
       "    .dataframe tbody tr th:only-of-type {\n",
       "        vertical-align: middle;\n",
       "    }\n",
       "\n",
       "    .dataframe tbody tr th {\n",
       "        vertical-align: top;\n",
       "    }\n",
       "\n",
       "    .dataframe thead th {\n",
       "        text-align: right;\n",
       "    }\n",
       "</style>\n",
       "<table border=\"1\" class=\"dataframe\">\n",
       "  <thead>\n",
       "    <tr style=\"text-align: right;\">\n",
       "      <th></th>\n",
       "      <th>PERMNO</th>\n",
       "      <th>exret</th>\n",
       "      <th>mkt_beta</th>\n",
       "      <th>logme</th>\n",
       "      <th>logbeme</th>\n",
       "      <th>r_2_12</th>\n",
       "      <th>gp</th>\n",
       "      <th>invest_asset</th>\n",
       "    </tr>\n",
       "    <tr>\n",
       "      <th>PERMNO</th>\n",
       "      <th></th>\n",
       "      <th></th>\n",
       "      <th></th>\n",
       "      <th></th>\n",
       "      <th></th>\n",
       "      <th></th>\n",
       "      <th></th>\n",
       "      <th></th>\n",
       "    </tr>\n",
       "  </thead>\n",
       "  <tbody>\n",
       "    <tr>\n",
       "      <th>10241</th>\n",
       "      <td>10241</td>\n",
       "      <td>-0.0321</td>\n",
       "      <td>0.557337</td>\n",
       "      <td>1.302578</td>\n",
       "      <td>0.706663</td>\n",
       "      <td>1.452011</td>\n",
       "      <td>-0.297104</td>\n",
       "      <td>-0.633175</td>\n",
       "    </tr>\n",
       "    <tr>\n",
       "      <th>20482</th>\n",
       "      <td>20482</td>\n",
       "      <td>0.0834</td>\n",
       "      <td>0.600614</td>\n",
       "      <td>1.538218</td>\n",
       "      <td>-1.210529</td>\n",
       "      <td>0.440673</td>\n",
       "      <td>0.622965</td>\n",
       "      <td>0.373311</td>\n",
       "    </tr>\n",
       "    <tr>\n",
       "      <th>22533</th>\n",
       "      <td>22533</td>\n",
       "      <td>0.1499</td>\n",
       "      <td>0.831745</td>\n",
       "      <td>1.212344</td>\n",
       "      <td>-0.679286</td>\n",
       "      <td>-0.258592</td>\n",
       "      <td>-0.162983</td>\n",
       "      <td>0.551184</td>\n",
       "    </tr>\n",
       "    <tr>\n",
       "      <th>22541</th>\n",
       "      <td>22541</td>\n",
       "      <td>0.0139</td>\n",
       "      <td>0.847198</td>\n",
       "      <td>1.513147</td>\n",
       "      <td>0.488195</td>\n",
       "      <td>0.988619</td>\n",
       "      <td>-1.203315</td>\n",
       "      <td>0.148674</td>\n",
       "    </tr>\n",
       "    <tr>\n",
       "      <th>18446</th>\n",
       "      <td>18446</td>\n",
       "      <td>0.0404</td>\n",
       "      <td>1.450027</td>\n",
       "      <td>1.306052</td>\n",
       "      <td>-0.663061</td>\n",
       "      <td>0.135971</td>\n",
       "      <td>-0.356118</td>\n",
       "      <td>-0.121538</td>\n",
       "    </tr>\n",
       "    <tr>\n",
       "      <th>...</th>\n",
       "      <td>...</td>\n",
       "      <td>...</td>\n",
       "      <td>...</td>\n",
       "      <td>...</td>\n",
       "      <td>...</td>\n",
       "      <td>...</td>\n",
       "      <td>...</td>\n",
       "      <td>...</td>\n",
       "    </tr>\n",
       "    <tr>\n",
       "      <th>26614</th>\n",
       "      <td>26614</td>\n",
       "      <td>-0.0348</td>\n",
       "      <td>0.276632</td>\n",
       "      <td>-0.074015</td>\n",
       "      <td>-0.040445</td>\n",
       "      <td>0.951292</td>\n",
       "      <td>-1.042370</td>\n",
       "      <td>0.010116</td>\n",
       "    </tr>\n",
       "    <tr>\n",
       "      <th>10233</th>\n",
       "      <td>10233</td>\n",
       "      <td>0.1584</td>\n",
       "      <td>1.587835</td>\n",
       "      <td>1.093097</td>\n",
       "      <td>-0.787116</td>\n",
       "      <td>-0.143723</td>\n",
       "      <td>0.343099</td>\n",
       "      <td>-0.115342</td>\n",
       "    </tr>\n",
       "    <tr>\n",
       "      <th>20474</th>\n",
       "      <td>20474</td>\n",
       "      <td>0.2209</td>\n",
       "      <td>1.951782</td>\n",
       "      <td>0.389532</td>\n",
       "      <td>1.076514</td>\n",
       "      <td>-0.095613</td>\n",
       "      <td>0.760216</td>\n",
       "      <td>-0.955284</td>\n",
       "    </tr>\n",
       "    <tr>\n",
       "      <th>24571</th>\n",
       "      <td>24571</td>\n",
       "      <td>-0.0265</td>\n",
       "      <td>0.551069</td>\n",
       "      <td>1.705449</td>\n",
       "      <td>0.672304</td>\n",
       "      <td>2.217551</td>\n",
       "      <td>-0.664149</td>\n",
       "      <td>-0.416640</td>\n",
       "    </tr>\n",
       "    <tr>\n",
       "      <th>26622</th>\n",
       "      <td>26622</td>\n",
       "      <td>0.2529</td>\n",
       "      <td>1.056934</td>\n",
       "      <td>1.240255</td>\n",
       "      <td>-0.926005</td>\n",
       "      <td>0.311634</td>\n",
       "      <td>1.047234</td>\n",
       "      <td>-0.004718</td>\n",
       "    </tr>\n",
       "  </tbody>\n",
       "</table>\n",
       "<p>501 rows × 8 columns</p>\n",
       "</div>"
      ],
      "text/plain": [
       "        PERMNO   exret  mkt_beta     logme   logbeme    r_2_12        gp  \\\n",
       "PERMNO                                                                     \n",
       "10241    10241 -0.0321  0.557337  1.302578  0.706663  1.452011 -0.297104   \n",
       "20482    20482  0.0834  0.600614  1.538218 -1.210529  0.440673  0.622965   \n",
       "22533    22533  0.1499  0.831745  1.212344 -0.679286 -0.258592 -0.162983   \n",
       "22541    22541  0.0139  0.847198  1.513147  0.488195  0.988619 -1.203315   \n",
       "18446    18446  0.0404  1.450027  1.306052 -0.663061  0.135971 -0.356118   \n",
       "...        ...     ...       ...       ...       ...       ...       ...   \n",
       "26614    26614 -0.0348  0.276632 -0.074015 -0.040445  0.951292 -1.042370   \n",
       "10233    10233  0.1584  1.587835  1.093097 -0.787116 -0.143723  0.343099   \n",
       "20474    20474  0.2209  1.951782  0.389532  1.076514 -0.095613  0.760216   \n",
       "24571    24571 -0.0265  0.551069  1.705449  0.672304  2.217551 -0.664149   \n",
       "26622    26622  0.2529  1.056934  1.240255 -0.926005  0.311634  1.047234   \n",
       "\n",
       "        invest_asset  \n",
       "PERMNO                \n",
       "10241      -0.633175  \n",
       "20482       0.373311  \n",
       "22533       0.551184  \n",
       "22541       0.148674  \n",
       "18446      -0.121538  \n",
       "...              ...  \n",
       "26614       0.010116  \n",
       "10233      -0.115342  \n",
       "20474      -0.955284  \n",
       "24571      -0.416640  \n",
       "26622      -0.004718  \n",
       "\n",
       "[501 rows x 8 columns]"
      ]
     },
     "execution_count": 28,
     "metadata": {},
     "output_type": "execute_result"
    }
   ],
   "source": [
    "test_e121 = project_std.loc['1973-7-31']\n",
    "test_e121.index = test_e121.PERMNO\n",
    "test_e121.loc[fff]"
   ]
  },
  {
   "cell_type": "code",
   "execution_count": 29,
   "id": "c8ed6265",
   "metadata": {},
   "outputs": [
    {
     "data": {
      "text/html": [
       "<div>\n",
       "<style scoped>\n",
       "    .dataframe tbody tr th:only-of-type {\n",
       "        vertical-align: middle;\n",
       "    }\n",
       "\n",
       "    .dataframe tbody tr th {\n",
       "        vertical-align: top;\n",
       "    }\n",
       "\n",
       "    .dataframe thead th {\n",
       "        text-align: right;\n",
       "    }\n",
       "</style>\n",
       "<table border=\"1\" class=\"dataframe\">\n",
       "  <thead>\n",
       "    <tr style=\"text-align: right;\">\n",
       "      <th></th>\n",
       "      <th>mkt_beta</th>\n",
       "      <th>logme</th>\n",
       "      <th>logbeme</th>\n",
       "      <th>r_2_12</th>\n",
       "      <th>gp</th>\n",
       "      <th>invest_asset</th>\n",
       "    </tr>\n",
       "    <tr>\n",
       "      <th>PERMNO</th>\n",
       "      <th></th>\n",
       "      <th></th>\n",
       "      <th></th>\n",
       "      <th></th>\n",
       "      <th></th>\n",
       "      <th></th>\n",
       "    </tr>\n",
       "  </thead>\n",
       "  <tbody>\n",
       "    <tr>\n",
       "      <th>10241</th>\n",
       "      <td>0.557337</td>\n",
       "      <td>1.302578</td>\n",
       "      <td>0.706663</td>\n",
       "      <td>1.452011</td>\n",
       "      <td>-0.297104</td>\n",
       "      <td>-0.633175</td>\n",
       "    </tr>\n",
       "    <tr>\n",
       "      <th>20482</th>\n",
       "      <td>0.600614</td>\n",
       "      <td>1.538218</td>\n",
       "      <td>-1.210529</td>\n",
       "      <td>0.440673</td>\n",
       "      <td>0.622965</td>\n",
       "      <td>0.373311</td>\n",
       "    </tr>\n",
       "    <tr>\n",
       "      <th>22533</th>\n",
       "      <td>0.831745</td>\n",
       "      <td>1.212344</td>\n",
       "      <td>-0.679286</td>\n",
       "      <td>-0.258592</td>\n",
       "      <td>-0.162983</td>\n",
       "      <td>0.551184</td>\n",
       "    </tr>\n",
       "    <tr>\n",
       "      <th>22541</th>\n",
       "      <td>0.847198</td>\n",
       "      <td>1.513147</td>\n",
       "      <td>0.488195</td>\n",
       "      <td>0.988619</td>\n",
       "      <td>-1.203315</td>\n",
       "      <td>0.148674</td>\n",
       "    </tr>\n",
       "    <tr>\n",
       "      <th>18446</th>\n",
       "      <td>1.450027</td>\n",
       "      <td>1.306052</td>\n",
       "      <td>-0.663061</td>\n",
       "      <td>0.135971</td>\n",
       "      <td>-0.356118</td>\n",
       "      <td>-0.121538</td>\n",
       "    </tr>\n",
       "    <tr>\n",
       "      <th>...</th>\n",
       "      <td>...</td>\n",
       "      <td>...</td>\n",
       "      <td>...</td>\n",
       "      <td>...</td>\n",
       "      <td>...</td>\n",
       "      <td>...</td>\n",
       "    </tr>\n",
       "    <tr>\n",
       "      <th>26614</th>\n",
       "      <td>0.276632</td>\n",
       "      <td>-0.074015</td>\n",
       "      <td>-0.040445</td>\n",
       "      <td>0.951292</td>\n",
       "      <td>-1.042370</td>\n",
       "      <td>0.010116</td>\n",
       "    </tr>\n",
       "    <tr>\n",
       "      <th>10233</th>\n",
       "      <td>1.587835</td>\n",
       "      <td>1.093097</td>\n",
       "      <td>-0.787116</td>\n",
       "      <td>-0.143723</td>\n",
       "      <td>0.343099</td>\n",
       "      <td>-0.115342</td>\n",
       "    </tr>\n",
       "    <tr>\n",
       "      <th>20474</th>\n",
       "      <td>1.951782</td>\n",
       "      <td>0.389532</td>\n",
       "      <td>1.076514</td>\n",
       "      <td>-0.095613</td>\n",
       "      <td>0.760216</td>\n",
       "      <td>-0.955284</td>\n",
       "    </tr>\n",
       "    <tr>\n",
       "      <th>24571</th>\n",
       "      <td>0.551069</td>\n",
       "      <td>1.705449</td>\n",
       "      <td>0.672304</td>\n",
       "      <td>2.217551</td>\n",
       "      <td>-0.664149</td>\n",
       "      <td>-0.416640</td>\n",
       "    </tr>\n",
       "    <tr>\n",
       "      <th>26622</th>\n",
       "      <td>1.056934</td>\n",
       "      <td>1.240255</td>\n",
       "      <td>-0.926005</td>\n",
       "      <td>0.311634</td>\n",
       "      <td>1.047234</td>\n",
       "      <td>-0.004718</td>\n",
       "    </tr>\n",
       "  </tbody>\n",
       "</table>\n",
       "<p>501 rows × 6 columns</p>\n",
       "</div>"
      ],
      "text/plain": [
       "        mkt_beta     logme   logbeme    r_2_12        gp  invest_asset\n",
       "PERMNO                                                                \n",
       "10241   0.557337  1.302578  0.706663  1.452011 -0.297104     -0.633175\n",
       "20482   0.600614  1.538218 -1.210529  0.440673  0.622965      0.373311\n",
       "22533   0.831745  1.212344 -0.679286 -0.258592 -0.162983      0.551184\n",
       "22541   0.847198  1.513147  0.488195  0.988619 -1.203315      0.148674\n",
       "18446   1.450027  1.306052 -0.663061  0.135971 -0.356118     -0.121538\n",
       "...          ...       ...       ...       ...       ...           ...\n",
       "26614   0.276632 -0.074015 -0.040445  0.951292 -1.042370      0.010116\n",
       "10233   1.587835  1.093097 -0.787116 -0.143723  0.343099     -0.115342\n",
       "20474   1.951782  0.389532  1.076514 -0.095613  0.760216     -0.955284\n",
       "24571   0.551069  1.705449  0.672304  2.217551 -0.664149     -0.416640\n",
       "26622   1.056934  1.240255 -0.926005  0.311634  1.047234     -0.004718\n",
       "\n",
       "[501 rows x 6 columns]"
      ]
     },
     "execution_count": 29,
     "metadata": {},
     "output_type": "execute_result"
    }
   ],
   "source": [
    "X_120 = test_e121.loc[fff].iloc[:,2:]\n",
    "X_120"
   ]
  },
  {
   "cell_type": "markdown",
   "id": "5e06e11d",
   "metadata": {},
   "source": [
    "<font face=\"微软雅黑\" size=4 color=#2E8B57 >求得这些被选中公司的下一期的条件期望超额收益"
   ]
  },
  {
   "cell_type": "code",
   "execution_count": 30,
   "id": "91304930",
   "metadata": {},
   "outputs": [],
   "source": [
    "E_121 = (X_120*θ_1_120).sum(axis=1)"
   ]
  },
  {
   "cell_type": "markdown",
   "id": "760163d4",
   "metadata": {},
   "source": [
    "<font face=\"微软雅黑\" size=5 color=#A52A2A >Step 6 Compute time-t (June 1973) conditional variance of month-t+1\n",
    "return (July 1973)"
   ]
  },
  {
   "cell_type": "markdown",
   "id": "b5ed4387",
   "metadata": {},
   "source": [
    "<font face=\"微软雅黑\" size=4 color=#2E8B57 >计算方差"
   ]
  },
  {
   "cell_type": "code",
   "execution_count": 31,
   "id": "460954bf",
   "metadata": {},
   "outputs": [],
   "source": [
    "X_120_v = np.array(X_120)"
   ]
  },
  {
   "cell_type": "code",
   "execution_count": 32,
   "id": "ad39ba17",
   "metadata": {},
   "outputs": [],
   "source": [
    "Var_s6 = X_120_v.dot(Var_120_θ).dot(X_120_v.T)+Var_120_η"
   ]
  },
  {
   "cell_type": "code",
   "execution_count": 33,
   "id": "e8c0e5a1",
   "metadata": {},
   "outputs": [
    {
     "data": {
      "text/html": [
       "<div>\n",
       "<style scoped>\n",
       "    .dataframe tbody tr th:only-of-type {\n",
       "        vertical-align: middle;\n",
       "    }\n",
       "\n",
       "    .dataframe tbody tr th {\n",
       "        vertical-align: top;\n",
       "    }\n",
       "\n",
       "    .dataframe thead tr th {\n",
       "        text-align: left;\n",
       "    }\n",
       "</style>\n",
       "<table border=\"1\" class=\"dataframe\">\n",
       "  <thead>\n",
       "    <tr>\n",
       "      <th></th>\n",
       "      <th>1</th>\n",
       "      <th>2</th>\n",
       "      <th>3</th>\n",
       "      <th>4</th>\n",
       "      <th>5</th>\n",
       "      <th>6</th>\n",
       "      <th>7</th>\n",
       "      <th>8</th>\n",
       "      <th>9</th>\n",
       "      <th>10</th>\n",
       "      <th>...</th>\n",
       "      <th>492</th>\n",
       "      <th>493</th>\n",
       "      <th>494</th>\n",
       "      <th>495</th>\n",
       "      <th>496</th>\n",
       "      <th>497</th>\n",
       "      <th>498</th>\n",
       "      <th>499</th>\n",
       "      <th>500</th>\n",
       "      <th>501</th>\n",
       "    </tr>\n",
       "  </thead>\n",
       "  <tbody>\n",
       "    <tr>\n",
       "      <th>1</th>\n",
       "      <td>0.003047</td>\n",
       "      <td>0.000728</td>\n",
       "      <td>0.000678</td>\n",
       "      <td>0.001051</td>\n",
       "      <td>0.001171</td>\n",
       "      <td>0.000822</td>\n",
       "      <td>0.000570</td>\n",
       "      <td>0.000949</td>\n",
       "      <td>0.001193</td>\n",
       "      <td>0.001227</td>\n",
       "      <td>...</td>\n",
       "      <td>0.000490</td>\n",
       "      <td>0.000733</td>\n",
       "      <td>0.001129</td>\n",
       "      <td>0.000997</td>\n",
       "      <td>0.000907</td>\n",
       "      <td>0.000327</td>\n",
       "      <td>0.001175</td>\n",
       "      <td>0.001416</td>\n",
       "      <td>0.001182</td>\n",
       "      <td>0.000969</td>\n",
       "    </tr>\n",
       "    <tr>\n",
       "      <th>2</th>\n",
       "      <td>0.000728</td>\n",
       "      <td>0.004401</td>\n",
       "      <td>0.000733</td>\n",
       "      <td>0.000876</td>\n",
       "      <td>0.001121</td>\n",
       "      <td>0.000521</td>\n",
       "      <td>0.000304</td>\n",
       "      <td>0.000881</td>\n",
       "      <td>0.001195</td>\n",
       "      <td>0.001133</td>\n",
       "      <td>...</td>\n",
       "      <td>0.000332</td>\n",
       "      <td>0.000659</td>\n",
       "      <td>0.001174</td>\n",
       "      <td>0.000860</td>\n",
       "      <td>0.000742</td>\n",
       "      <td>0.000193</td>\n",
       "      <td>0.001162</td>\n",
       "      <td>0.001224</td>\n",
       "      <td>0.000883</td>\n",
       "      <td>0.000972</td>\n",
       "    </tr>\n",
       "    <tr>\n",
       "      <th>3</th>\n",
       "      <td>0.000678</td>\n",
       "      <td>0.000733</td>\n",
       "      <td>0.006011</td>\n",
       "      <td>0.001007</td>\n",
       "      <td>0.001602</td>\n",
       "      <td>0.001240</td>\n",
       "      <td>-0.000198</td>\n",
       "      <td>0.001044</td>\n",
       "      <td>0.001026</td>\n",
       "      <td>0.002052</td>\n",
       "      <td>...</td>\n",
       "      <td>0.000538</td>\n",
       "      <td>0.000607</td>\n",
       "      <td>0.001125</td>\n",
       "      <td>0.000673</td>\n",
       "      <td>0.000840</td>\n",
       "      <td>0.000258</td>\n",
       "      <td>0.001738</td>\n",
       "      <td>0.002102</td>\n",
       "      <td>0.000694</td>\n",
       "      <td>0.001194</td>\n",
       "    </tr>\n",
       "    <tr>\n",
       "      <th>4</th>\n",
       "      <td>0.001051</td>\n",
       "      <td>0.000876</td>\n",
       "      <td>0.001007</td>\n",
       "      <td>0.002804</td>\n",
       "      <td>0.001727</td>\n",
       "      <td>0.001352</td>\n",
       "      <td>0.000291</td>\n",
       "      <td>0.001164</td>\n",
       "      <td>0.001327</td>\n",
       "      <td>0.002039</td>\n",
       "      <td>...</td>\n",
       "      <td>0.000688</td>\n",
       "      <td>0.000831</td>\n",
       "      <td>0.001362</td>\n",
       "      <td>0.001069</td>\n",
       "      <td>0.001128</td>\n",
       "      <td>0.000410</td>\n",
       "      <td>0.001793</td>\n",
       "      <td>0.002192</td>\n",
       "      <td>0.001218</td>\n",
       "      <td>0.001310</td>\n",
       "    </tr>\n",
       "    <tr>\n",
       "      <th>5</th>\n",
       "      <td>0.001171</td>\n",
       "      <td>0.001121</td>\n",
       "      <td>0.001602</td>\n",
       "      <td>0.001727</td>\n",
       "      <td>0.007271</td>\n",
       "      <td>0.002639</td>\n",
       "      <td>-0.000344</td>\n",
       "      <td>0.001767</td>\n",
       "      <td>0.001694</td>\n",
       "      <td>0.003968</td>\n",
       "      <td>...</td>\n",
       "      <td>0.001139</td>\n",
       "      <td>0.000881</td>\n",
       "      <td>0.001696</td>\n",
       "      <td>0.001060</td>\n",
       "      <td>0.001488</td>\n",
       "      <td>0.000621</td>\n",
       "      <td>0.003164</td>\n",
       "      <td>0.004037</td>\n",
       "      <td>0.001175</td>\n",
       "      <td>0.002084</td>\n",
       "    </tr>\n",
       "    <tr>\n",
       "      <th>...</th>\n",
       "      <td>...</td>\n",
       "      <td>...</td>\n",
       "      <td>...</td>\n",
       "      <td>...</td>\n",
       "      <td>...</td>\n",
       "      <td>...</td>\n",
       "      <td>...</td>\n",
       "      <td>...</td>\n",
       "      <td>...</td>\n",
       "      <td>...</td>\n",
       "      <td>...</td>\n",
       "      <td>...</td>\n",
       "      <td>...</td>\n",
       "      <td>...</td>\n",
       "      <td>...</td>\n",
       "      <td>...</td>\n",
       "      <td>...</td>\n",
       "      <td>...</td>\n",
       "      <td>...</td>\n",
       "      <td>...</td>\n",
       "      <td>...</td>\n",
       "    </tr>\n",
       "    <tr>\n",
       "      <th>497</th>\n",
       "      <td>0.000327</td>\n",
       "      <td>0.000193</td>\n",
       "      <td>0.000258</td>\n",
       "      <td>0.000410</td>\n",
       "      <td>0.000621</td>\n",
       "      <td>0.000731</td>\n",
       "      <td>0.000195</td>\n",
       "      <td>0.000208</td>\n",
       "      <td>0.000436</td>\n",
       "      <td>0.000900</td>\n",
       "      <td>...</td>\n",
       "      <td>0.000398</td>\n",
       "      <td>0.000109</td>\n",
       "      <td>0.000265</td>\n",
       "      <td>0.000334</td>\n",
       "      <td>0.000407</td>\n",
       "      <td>0.001666</td>\n",
       "      <td>0.000661</td>\n",
       "      <td>0.000888</td>\n",
       "      <td>0.000395</td>\n",
       "      <td>0.000425</td>\n",
       "    </tr>\n",
       "    <tr>\n",
       "      <th>498</th>\n",
       "      <td>0.001175</td>\n",
       "      <td>0.001162</td>\n",
       "      <td>0.001738</td>\n",
       "      <td>0.001793</td>\n",
       "      <td>0.003164</td>\n",
       "      <td>0.002993</td>\n",
       "      <td>-0.000554</td>\n",
       "      <td>0.001968</td>\n",
       "      <td>0.001775</td>\n",
       "      <td>0.004491</td>\n",
       "      <td>...</td>\n",
       "      <td>0.001244</td>\n",
       "      <td>0.000864</td>\n",
       "      <td>0.001736</td>\n",
       "      <td>0.001000</td>\n",
       "      <td>0.001548</td>\n",
       "      <td>0.000661</td>\n",
       "      <td>0.011698</td>\n",
       "      <td>0.004545</td>\n",
       "      <td>0.001120</td>\n",
       "      <td>0.002280</td>\n",
       "    </tr>\n",
       "    <tr>\n",
       "      <th>499</th>\n",
       "      <td>0.001416</td>\n",
       "      <td>0.001224</td>\n",
       "      <td>0.002102</td>\n",
       "      <td>0.002192</td>\n",
       "      <td>0.004037</td>\n",
       "      <td>0.004317</td>\n",
       "      <td>-0.000947</td>\n",
       "      <td>0.002592</td>\n",
       "      <td>0.001921</td>\n",
       "      <td>0.006083</td>\n",
       "      <td>...</td>\n",
       "      <td>0.001694</td>\n",
       "      <td>0.000922</td>\n",
       "      <td>0.001820</td>\n",
       "      <td>0.000962</td>\n",
       "      <td>0.001899</td>\n",
       "      <td>0.000888</td>\n",
       "      <td>0.004545</td>\n",
       "      <td>0.020186</td>\n",
       "      <td>0.001252</td>\n",
       "      <td>0.002820</td>\n",
       "    </tr>\n",
       "    <tr>\n",
       "      <th>500</th>\n",
       "      <td>0.001182</td>\n",
       "      <td>0.000883</td>\n",
       "      <td>0.000694</td>\n",
       "      <td>0.001218</td>\n",
       "      <td>0.001175</td>\n",
       "      <td>0.000658</td>\n",
       "      <td>0.000968</td>\n",
       "      <td>0.000981</td>\n",
       "      <td>0.001498</td>\n",
       "      <td>0.001020</td>\n",
       "      <td>...</td>\n",
       "      <td>0.000518</td>\n",
       "      <td>0.000892</td>\n",
       "      <td>0.001362</td>\n",
       "      <td>0.001315</td>\n",
       "      <td>0.001065</td>\n",
       "      <td>0.000395</td>\n",
       "      <td>0.001120</td>\n",
       "      <td>0.001252</td>\n",
       "      <td>0.005361</td>\n",
       "      <td>0.001037</td>\n",
       "    </tr>\n",
       "    <tr>\n",
       "      <th>501</th>\n",
       "      <td>0.000969</td>\n",
       "      <td>0.000972</td>\n",
       "      <td>0.001194</td>\n",
       "      <td>0.001310</td>\n",
       "      <td>0.002084</td>\n",
       "      <td>0.001700</td>\n",
       "      <td>-0.000052</td>\n",
       "      <td>0.001461</td>\n",
       "      <td>0.001539</td>\n",
       "      <td>0.002730</td>\n",
       "      <td>...</td>\n",
       "      <td>0.000769</td>\n",
       "      <td>0.000760</td>\n",
       "      <td>0.001448</td>\n",
       "      <td>0.000943</td>\n",
       "      <td>0.001131</td>\n",
       "      <td>0.000425</td>\n",
       "      <td>0.002280</td>\n",
       "      <td>0.002820</td>\n",
       "      <td>0.001037</td>\n",
       "      <td>0.004251</td>\n",
       "    </tr>\n",
       "  </tbody>\n",
       "</table>\n",
       "<p>501 rows × 501 columns</p>\n",
       "</div>"
      ],
      "text/plain": [
       "          1         2         3         4         5         6         7    \\\n",
       "1    0.003047  0.000728  0.000678  0.001051  0.001171  0.000822  0.000570   \n",
       "2    0.000728  0.004401  0.000733  0.000876  0.001121  0.000521  0.000304   \n",
       "3    0.000678  0.000733  0.006011  0.001007  0.001602  0.001240 -0.000198   \n",
       "4    0.001051  0.000876  0.001007  0.002804  0.001727  0.001352  0.000291   \n",
       "5    0.001171  0.001121  0.001602  0.001727  0.007271  0.002639 -0.000344   \n",
       "..        ...       ...       ...       ...       ...       ...       ...   \n",
       "497  0.000327  0.000193  0.000258  0.000410  0.000621  0.000731  0.000195   \n",
       "498  0.001175  0.001162  0.001738  0.001793  0.003164  0.002993 -0.000554   \n",
       "499  0.001416  0.001224  0.002102  0.002192  0.004037  0.004317 -0.000947   \n",
       "500  0.001182  0.000883  0.000694  0.001218  0.001175  0.000658  0.000968   \n",
       "501  0.000969  0.000972  0.001194  0.001310  0.002084  0.001700 -0.000052   \n",
       "\n",
       "          8         9         10   ...       492       493       494  \\\n",
       "1    0.000949  0.001193  0.001227  ...  0.000490  0.000733  0.001129   \n",
       "2    0.000881  0.001195  0.001133  ...  0.000332  0.000659  0.001174   \n",
       "3    0.001044  0.001026  0.002052  ...  0.000538  0.000607  0.001125   \n",
       "4    0.001164  0.001327  0.002039  ...  0.000688  0.000831  0.001362   \n",
       "5    0.001767  0.001694  0.003968  ...  0.001139  0.000881  0.001696   \n",
       "..        ...       ...       ...  ...       ...       ...       ...   \n",
       "497  0.000208  0.000436  0.000900  ...  0.000398  0.000109  0.000265   \n",
       "498  0.001968  0.001775  0.004491  ...  0.001244  0.000864  0.001736   \n",
       "499  0.002592  0.001921  0.006083  ...  0.001694  0.000922  0.001820   \n",
       "500  0.000981  0.001498  0.001020  ...  0.000518  0.000892  0.001362   \n",
       "501  0.001461  0.001539  0.002730  ...  0.000769  0.000760  0.001448   \n",
       "\n",
       "          495       496       497       498       499       500       501  \n",
       "1    0.000997  0.000907  0.000327  0.001175  0.001416  0.001182  0.000969  \n",
       "2    0.000860  0.000742  0.000193  0.001162  0.001224  0.000883  0.000972  \n",
       "3    0.000673  0.000840  0.000258  0.001738  0.002102  0.000694  0.001194  \n",
       "4    0.001069  0.001128  0.000410  0.001793  0.002192  0.001218  0.001310  \n",
       "5    0.001060  0.001488  0.000621  0.003164  0.004037  0.001175  0.002084  \n",
       "..        ...       ...       ...       ...       ...       ...       ...  \n",
       "497  0.000334  0.000407  0.001666  0.000661  0.000888  0.000395  0.000425  \n",
       "498  0.001000  0.001548  0.000661  0.011698  0.004545  0.001120  0.002280  \n",
       "499  0.000962  0.001899  0.000888  0.004545  0.020186  0.001252  0.002820  \n",
       "500  0.001315  0.001065  0.000395  0.001120  0.001252  0.005361  0.001037  \n",
       "501  0.000943  0.001131  0.000425  0.002280  0.002820  0.001037  0.004251  \n",
       "\n",
       "[501 rows x 501 columns]"
      ]
     },
     "execution_count": 33,
     "metadata": {},
     "output_type": "execute_result"
    }
   ],
   "source": [
    "Var_s6"
   ]
  },
  {
   "cell_type": "markdown",
   "id": "a0f1c7cd",
   "metadata": {},
   "source": [
    "<font face=\"微软雅黑\" size=5 color=#A52A2A >Step 7a GMV"
   ]
  },
  {
   "cell_type": "markdown",
   "id": "0260e650",
   "metadata": {},
   "source": [
    "<font face=\"微软雅黑\" size=4 color=#2E8B57 >按照最小方差公式计算权重"
   ]
  },
  {
   "cell_type": "code",
   "execution_count": 34,
   "id": "777fbfd6",
   "metadata": {},
   "outputs": [],
   "source": [
    "e = np.ones([len_of_select,1])"
   ]
  },
  {
   "cell_type": "code",
   "execution_count": 35,
   "id": "32d69783",
   "metadata": {},
   "outputs": [],
   "source": [
    "w_gmv_120 = np.linalg.inv(Var_s6).dot(e)/(e.T.dot(np.linalg.inv(Var_s6)).dot(e))"
   ]
  },
  {
   "cell_type": "code",
   "execution_count": 36,
   "id": "efd6b5c5",
   "metadata": {},
   "outputs": [],
   "source": [
    "R_e_next = test_e121.loc[fff].exret"
   ]
  },
  {
   "cell_type": "markdown",
   "id": "74e8f5d1",
   "metadata": {},
   "source": [
    "<font face=\"微软雅黑\" size=4 color=#2E8B57 >得到权重之后，用下一期收益率来获得这个用120个月数据选择的最小方差组合的下一个月的表现"
   ]
  },
  {
   "cell_type": "code",
   "execution_count": 37,
   "id": "d718b72d",
   "metadata": {},
   "outputs": [
    {
     "data": {
      "text/plain": [
       "-0.03047561418154594"
      ]
     },
     "execution_count": 37,
     "metadata": {},
     "output_type": "execute_result"
    }
   ],
   "source": [
    "Excess_ret_GMV = w_gmv_120.T.dot(np.array(R_e_next).reshape(len(R_e_next),1))\n",
    "float(Excess_ret_GMV)"
   ]
  },
  {
   "cell_type": "markdown",
   "id": "78e69487",
   "metadata": {},
   "source": [
    "<font face=\"微软雅黑\" size=5 color=#A52A2A >Step 7b"
   ]
  },
  {
   "cell_type": "markdown",
   "id": "9498ce0c",
   "metadata": {},
   "source": [
    "<font face=\"微软雅黑\" size=4 color=#2E8B57 >使用CVXOPT包求解二次规划问题"
   ]
  },
  {
   "cell_type": "markdown",
   "id": "07ce1f0d",
   "metadata": {},
   "source": [
    "<font face=\"微软雅黑\" size=4 color=#2E8B57 >不等式左边系数矩阵g的形成"
   ]
  },
  {
   "cell_type": "code",
   "execution_count": 38,
   "id": "41d7badb",
   "metadata": {},
   "outputs": [],
   "source": [
    "g1 = pd.DataFrame(data=np.eye(len_of_select))\n",
    "g2 = pd.DataFrame(data=-1*np.eye(len_of_select))\n",
    "g = g1.append(g2)"
   ]
  },
  {
   "cell_type": "markdown",
   "id": "17198b16",
   "metadata": {},
   "source": [
    "<font face=\"微软雅黑\" size=4 color=#2E8B57 >不等式右边矩阵h"
   ]
  },
  {
   "cell_type": "code",
   "execution_count": 39,
   "id": "80ce36a0",
   "metadata": {},
   "outputs": [],
   "source": [
    "h = pd.DataFrame(data=0.01*np.ones(2*len_of_select).reshape([len_of_select*2,1]))"
   ]
  },
  {
   "cell_type": "markdown",
   "id": "adbb8f00",
   "metadata": {},
   "source": [
    "<font face=\"微软雅黑\" size=4 color=#2E8B57 >等式约束的等式左边系数矩阵A"
   ]
  },
  {
   "cell_type": "code",
   "execution_count": 40,
   "id": "bef5be40",
   "metadata": {},
   "outputs": [
    {
     "name": "stderr",
     "output_type": "stream",
     "text": [
      "/var/folders/t0/8lchz22d7wjbvmdj2j9vt7jh0000gn/T/ipykernel_1104/3107406243.py:2: SettingWithCopyWarning: \n",
      "A value is trying to be set on a copy of a slice from a DataFrame.\n",
      "Try using .loc[row_indexer,col_indexer] = value instead\n",
      "\n",
      "See the caveats in the documentation: https://pandas.pydata.org/pandas-docs/stable/user_guide/indexing.html#returning-a-view-versus-a-copy\n",
      "  A1['e'] = 1\n"
     ]
    }
   ],
   "source": [
    "A1 = X_120[['mkt_beta','logme']]\n",
    "A1['e'] = 1\n",
    "A = A1.T;"
   ]
  },
  {
   "cell_type": "markdown",
   "id": "773ddcb5",
   "metadata": {},
   "source": [
    "<font face=\"微软雅黑\" size=4 color=#2E8B57 >等式约束等式右边矩阵b"
   ]
  },
  {
   "cell_type": "code",
   "execution_count": 41,
   "id": "a2fc18d3",
   "metadata": {},
   "outputs": [],
   "source": [
    "b1 = pd.DataFrame(data=np.array([0,0,0])).astype(float)"
   ]
  },
  {
   "cell_type": "markdown",
   "id": "f38c8788",
   "metadata": {},
   "source": [
    "<font face=\"微软雅黑\" size=4 color=#2E8B57 >二次规划的标准化矩阵"
   ]
  },
  {
   "cell_type": "code",
   "execution_count": 42,
   "id": "e2b8fdd0",
   "metadata": {},
   "outputs": [],
   "source": [
    "P = matrix(np.matrix(3*Var_s6)) \n",
    "q = matrix(np.array(-1*E_121).reshape([len_of_select,1])) \n",
    "G = matrix(np.array(g))\n",
    "h = matrix(np.array(h))\n",
    "A = matrix(np.array(A))\n",
    "b = matrix(np.array(b1))"
   ]
  },
  {
   "cell_type": "markdown",
   "id": "ddc29069",
   "metadata": {},
   "source": [
    "<font face=\"微软雅黑\" size=4 color=#2E8B57 >求解得到多空组合的权重"
   ]
  },
  {
   "cell_type": "code",
   "execution_count": 43,
   "id": "c749ab79",
   "metadata": {},
   "outputs": [
    {
     "name": "stdout",
     "output_type": "stream",
     "text": [
      "     pcost       dcost       gap    pres   dres\n",
      " 0: -2.4398e-03 -1.0071e+01  1e+01  9e-17  3e-15\n",
      " 1: -2.4828e-03 -1.2773e-01  1e-01  6e-17  4e-15\n",
      " 2: -4.9536e-03 -1.7305e-02  1e-02  7e-17  4e-16\n",
      " 3: -9.5832e-03 -1.1659e-02  2e-03  1e-16  1e-16\n",
      " 4: -1.0634e-02 -1.1024e-02  4e-04  1e-16  1e-16\n",
      " 5: -1.0849e-02 -1.0885e-02  4e-05  9e-17  1e-16\n",
      " 6: -1.0869e-02 -1.0871e-02  1e-06  2e-16  1e-16\n",
      " 7: -1.0870e-02 -1.0870e-02  4e-08  2e-16  1e-16\n",
      "Optimal solution found.\n"
     ]
    }
   ],
   "source": [
    "result = solvers.qp(P,q,G,h,A,b)\n",
    "w_optLS = np.array(result['x'])"
   ]
  },
  {
   "cell_type": "markdown",
   "id": "ec1ba251",
   "metadata": {},
   "source": [
    "<font face=\"微软雅黑\" size=4 color=#2E8B57 >检查所得多空组合权重的和是否为0"
   ]
  },
  {
   "cell_type": "code",
   "execution_count": 44,
   "id": "486618af",
   "metadata": {},
   "outputs": [
    {
     "data": {
      "text/plain": [
       "0"
      ]
     },
     "execution_count": 44,
     "metadata": {},
     "output_type": "execute_result"
    }
   ],
   "source": [
    "round(w_optLS.sum())"
   ]
  },
  {
   "cell_type": "markdown",
   "id": "cafa4615",
   "metadata": {},
   "source": [
    "<font face=\"微软雅黑\" size=4 color=#2E8B57 >检查所得多空组合的每个元素绝对值是否都小于0.01"
   ]
  },
  {
   "cell_type": "code",
   "execution_count": 45,
   "id": "eb5e41c3",
   "metadata": {},
   "outputs": [
    {
     "data": {
      "text/plain": [
       "True"
      ]
     },
     "execution_count": 45,
     "metadata": {},
     "output_type": "execute_result"
    }
   ],
   "source": [
    "(abs(w_optLS) <0.01).sum() == len_of_select"
   ]
  },
  {
   "cell_type": "markdown",
   "id": "a837c6b7",
   "metadata": {},
   "source": [
    "<font face=\"微软雅黑\" size=4 color=#2E8B57 >检查是否所得多空组合ß和为0，log(ME)和为0"
   ]
  },
  {
   "cell_type": "code",
   "execution_count": 46,
   "id": "e3f1ccce",
   "metadata": {},
   "outputs": [
    {
     "data": {
      "text/plain": [
       "array([[0, 0, 0]])"
      ]
     },
     "execution_count": 46,
     "metadata": {},
     "output_type": "execute_result"
    }
   ],
   "source": [
    "w_optLS.T.dot(A.T).astype(int)"
   ]
  },
  {
   "cell_type": "markdown",
   "id": "84508aca",
   "metadata": {},
   "source": [
    "<font face=\"微软雅黑\" size=4 color=#2E8B57 >所得多空组合的表现"
   ]
  },
  {
   "cell_type": "code",
   "execution_count": 47,
   "id": "d678a472",
   "metadata": {},
   "outputs": [
    {
     "data": {
      "text/plain": [
       "-0.04569814043420194"
      ]
     },
     "execution_count": 47,
     "metadata": {},
     "output_type": "execute_result"
    }
   ],
   "source": [
    "float(w_optLS.T.dot(np.array(R_e_next).reshape(len(R_e_next),1)))"
   ]
  },
  {
   "cell_type": "markdown",
   "id": "15fb060b",
   "metadata": {},
   "source": [
    "<font face=\"微软雅黑\" size=5 color=#A52A2A >Step 8"
   ]
  },
  {
   "cell_type": "markdown",
   "id": "d7be9b5c",
   "metadata": {},
   "source": [
    "<font face=\"微软雅黑\" size=4 color=#2E8B57 >建立一个储存两个组合收益表现的表格"
   ]
  },
  {
   "cell_type": "code",
   "execution_count": 50,
   "id": "33678e7a",
   "metadata": {},
   "outputs": [],
   "source": [
    "ExcessRet_of_2 = pd.DataFrame(data=np.zeros([619,2]),index = project.index.unique(),\n",
    "                             columns=['GMV','long-short']).iloc[120:]"
   ]
  },
  {
   "cell_type": "code",
   "execution_count": 51,
   "id": "76c40221",
   "metadata": {},
   "outputs": [
    {
     "data": {
      "text/html": [
       "<div>\n",
       "<style scoped>\n",
       "    .dataframe tbody tr th:only-of-type {\n",
       "        vertical-align: middle;\n",
       "    }\n",
       "\n",
       "    .dataframe tbody tr th {\n",
       "        vertical-align: top;\n",
       "    }\n",
       "\n",
       "    .dataframe thead th {\n",
       "        text-align: right;\n",
       "    }\n",
       "</style>\n",
       "<table border=\"1\" class=\"dataframe\">\n",
       "  <thead>\n",
       "    <tr style=\"text-align: right;\">\n",
       "      <th></th>\n",
       "      <th>GMV</th>\n",
       "      <th>long-short</th>\n",
       "    </tr>\n",
       "    <tr>\n",
       "      <th>DATE</th>\n",
       "      <th></th>\n",
       "      <th></th>\n",
       "    </tr>\n",
       "  </thead>\n",
       "  <tbody>\n",
       "    <tr>\n",
       "      <th>1973-07-31</th>\n",
       "      <td>NaN</td>\n",
       "      <td>NaN</td>\n",
       "    </tr>\n",
       "    <tr>\n",
       "      <th>1973-08-31</th>\n",
       "      <td>NaN</td>\n",
       "      <td>NaN</td>\n",
       "    </tr>\n",
       "    <tr>\n",
       "      <th>1973-09-28</th>\n",
       "      <td>NaN</td>\n",
       "      <td>NaN</td>\n",
       "    </tr>\n",
       "    <tr>\n",
       "      <th>1973-10-31</th>\n",
       "      <td>NaN</td>\n",
       "      <td>NaN</td>\n",
       "    </tr>\n",
       "    <tr>\n",
       "      <th>1973-11-30</th>\n",
       "      <td>NaN</td>\n",
       "      <td>NaN</td>\n",
       "    </tr>\n",
       "    <tr>\n",
       "      <th>...</th>\n",
       "      <td>...</td>\n",
       "      <td>...</td>\n",
       "    </tr>\n",
       "    <tr>\n",
       "      <th>2014-09-30</th>\n",
       "      <td>NaN</td>\n",
       "      <td>NaN</td>\n",
       "    </tr>\n",
       "    <tr>\n",
       "      <th>2014-10-31</th>\n",
       "      <td>NaN</td>\n",
       "      <td>NaN</td>\n",
       "    </tr>\n",
       "    <tr>\n",
       "      <th>2014-11-28</th>\n",
       "      <td>NaN</td>\n",
       "      <td>NaN</td>\n",
       "    </tr>\n",
       "    <tr>\n",
       "      <th>2014-12-31</th>\n",
       "      <td>NaN</td>\n",
       "      <td>NaN</td>\n",
       "    </tr>\n",
       "    <tr>\n",
       "      <th>2015-01-30</th>\n",
       "      <td>NaN</td>\n",
       "      <td>NaN</td>\n",
       "    </tr>\n",
       "  </tbody>\n",
       "</table>\n",
       "<p>499 rows × 2 columns</p>\n",
       "</div>"
      ],
      "text/plain": [
       "            GMV  long-short\n",
       "DATE                       \n",
       "1973-07-31  NaN         NaN\n",
       "1973-08-31  NaN         NaN\n",
       "1973-09-28  NaN         NaN\n",
       "1973-10-31  NaN         NaN\n",
       "1973-11-30  NaN         NaN\n",
       "...         ...         ...\n",
       "2014-09-30  NaN         NaN\n",
       "2014-10-31  NaN         NaN\n",
       "2014-11-28  NaN         NaN\n",
       "2014-12-31  NaN         NaN\n",
       "2015-01-30  NaN         NaN\n",
       "\n",
       "[499 rows x 2 columns]"
      ]
     },
     "execution_count": 51,
     "metadata": {},
     "output_type": "execute_result"
    }
   ],
   "source": [
    "ExcessRet_of_2.iloc[:,:] = np.nan\n",
    "ExcessRet_of_2"
   ]
  },
  {
   "cell_type": "markdown",
   "id": "2f8ff36b",
   "metadata": {},
   "source": [
    "<font face=\"微软雅黑\" size=4 color=#2E8B57 >将以上步骤进行整合，再循环求得两个组合表现的时间序列数据"
   ]
  },
  {
   "cell_type": "code",
   "execution_count": null,
   "id": "d48ec828",
   "metadata": {},
   "outputs": [],
   "source": [
    "for month in range(119,618):\n",
    "    #设置训练集，每次循环都会使得训练月长度越来越大，逐渐变大的窗口，但是开始的时间固定\n",
    "    trainingdate = dateID[:month+1]\n",
    "    training = project_std['1963-7-31':dateID[month]]\n",
    "    \n",
    "    #Step1 标准化早已完成，现在收集本次循环的θ和η\n",
    "    #创建收集表，形状是当次循环包含训练集的长度*6\n",
    "    θ_s8 = pd.DataFrame(data=np.zeros([month+1,6]),index=training.index.unique(),\n",
    "                    columns=['mkt_beta','logme','logbeme','r_2_12','gp','invest_asset'])\n",
    "    #进行回归，month-by-month的回归并写入数据表中，收集θ\n",
    "    for t1 in trainingdate:\n",
    "        θ_s8.loc[t1] = OLS(training.loc[t1].iloc[:,1],training.loc[t1].iloc[:,2:],missing='drop').fit().params\n",
    "    #建立η表，收集每一个公司的每一个月的η，表格形状为月份数量*公司数量，\n",
    "    η_s8 = pd.DataFrame(data=np.zeros([month+1,len(training.PERMNO.unique())]),index=training.index.unique(),\n",
    "              columns=training.PERMNO.unique())\n",
    "    #回归并提取η，利用dict将每个η和它所属于的公司对号入座，确保公司对应自己的当月的η\n",
    "    for t2 in trainingdate:\n",
    "        testtheta =  training.loc[t2]\n",
    "        testtheta.index = training.loc[t2].PERMNO\n",
    "        dicttest = dict(OLS(testtheta.iloc[:,1],testtheta.iloc[:,2:],missing='drop').fit().resid)\n",
    "        η_s8.loc[t2]=dicttest\n",
    "    \n",
    "    #Step2 θ样本均值\n",
    "    θ_1_120_s8 = θ_s8.mean()\n",
    "\n",
    "    #Step3 θ样本协方差\n",
    "    Var_120_s8 = 0\n",
    "    for t3 in trainingdate:\n",
    "        temp = np.array(θ_s8.loc[t3] - θ_1_120_s8).reshape([6,1]).dot(np.array(θ_s8.loc[t3] - θ_1_120_s8).reshape([1,6]))\n",
    "        Var_120_s8 += temp\n",
    "    Var_120_θ_s8 = Var_120_s8/(month-5) #month + 1 - 6,取120个月时，month=119，自由度：119+1-6 = 114\n",
    "\n",
    "    #Step4 η协方差\n",
    "    ffdf = training.loc[dateID[month]]\n",
    "    ffdf.index = ffdf.PERMNO\n",
    "    ff1 = ffdf.exret.dropna().index\n",
    "    ff2 = list(η_s8[ff1].columns[η_s8[ff1].count()>100])\n",
    "\n",
    "    ffdf2 = project_std.loc[dateID[month+1]].dropna()\n",
    "    ffdf2.index = ffdf2.PERMNO\n",
    "    ffdf2 = ffdf2.exret.dropna()\n",
    "    fff = list(set(ff2).intersection(set(ffdf2.index)))\n",
    "    #数据选择完毕，进行计算\n",
    "    η_select_s8 = η_s8[fff]\n",
    "    len_of_select_s8 = len(η_select_s8.T)\n",
    "    #建立收集表\n",
    "    Var_120_η_s8 = np.eye(len_of_select_s8);\n",
    "    Var_120_η_s8 = pd.DataFrame(data=Var_120_η_s8,index=[np.arange(len_of_select_s8)+1],columns=[np.arange(len_of_select_s8)+1])\n",
    "    #求对角线上每一个数字，分母Bi是变化的，视每个公司情况而定\n",
    "    for t4 in range(len_of_select_s8):\n",
    "        Var_120_η_s8.iloc[t4,t4] = (η_select_s8.iloc[:,t4].var()*(η_select.iloc[:,i].count()-1))/(η_select_s8.iloc[:,t4].count()-6)\n",
    "    \n",
    "    #Step 5 下一期期望收益，由于滞后一期的关系，系数用下一期的\n",
    "    e_s5 = project_std.loc[dateID[month+1]];\n",
    "    e_s5.index = e_s5.PERMNO;\n",
    "    X_120_s8 = e_s5.loc[fff].iloc[:,2:];\n",
    "    E_121_s8 = (X_120_s8*θ_1_120_s8).sum(axis=1);\n",
    "    \n",
    "    #Step 6 下一期条件方差\n",
    "    X_120_s8_v = np.array(X_120_s8)\n",
    "    Var_s6_s8 = X_120_s8_v.dot(Var_120_θ_s8).dot(X_120_s8_v.T)+Var_120_η_s8;\n",
    "\n",
    "    #Step 7a GMV\n",
    "    R_e_next =e_s5.loc[fff].exret\n",
    "    e = np.ones([len_of_select_s8,1])\n",
    "    w_gmv_120_s8 = np.linalg.inv(Var_s6_s8).dot(e)/(e.T.dot(np.linalg.inv(Var_s6_s8)).dot(e))\n",
    "    Excess_ret_GMV_s8 = float(w_gmv_120_s8.T.dot(np.array(R_e_next).reshape(len(R_e_next),1)))\n",
    "    \n",
    "    #Step 7b long-short\n",
    "    g1 = pd.DataFrame(data=np.eye(len_of_select_s8))\n",
    "    g2 = pd.DataFrame(data=-1*np.eye(len_of_select_s8))\n",
    "    g = g1.append(g2)\n",
    "    h = pd.DataFrame(data=0.01*np.ones(2*len_of_select_s8).reshape([len_of_select_s8*2,1]))\n",
    "    A1 = X_120_s8[['mkt_beta','logme']]\n",
    "    A1['e'] = 1\n",
    "    A = A1.T;\n",
    "    b1 = pd.DataFrame(data=np.array([0,0,0])).astype(float)\n",
    "    P = matrix(np.matrix(3*Var_s6_s8)) #!\n",
    "    q = matrix(np.array(-1*E_121_s8).reshape([len_of_select_s8,1])) #!\n",
    "    G = matrix(np.array(g))#!\n",
    "    h = matrix(np.array(h))#\n",
    "    A = matrix(np.array(A));\n",
    "    b = matrix(np.array(b1));\n",
    "    result = solvers.qp(P,q,G,h,A,b);\n",
    "    w_optLS_s8 = np.array(result['x']);\n",
    "    Excess_ret_ls_s8 = float(w_optLS_s8.T.dot(np.array(R_e_next).reshape(len(R_e_next),1)));\n",
    "    \n",
    "    #Record\n",
    "    ExcessRet_of_2.loc[dateID[month+1]]['GMV'] = Excess_ret_GMV_s8\n",
    "    ExcessRet_of_2.loc[dateID[month+1]]['long-short'] = Excess_ret_ls_s8"
   ]
  },
  {
   "cell_type": "code",
   "execution_count": 48,
   "id": "528ba482",
   "metadata": {},
   "outputs": [],
   "source": [
    "#ExcessRet_of_2.to_csv('/Users/liuke/Downloads/HW2021Fall/Quant/FinalProj/record.csv')"
   ]
  },
  {
   "cell_type": "markdown",
   "id": "4b87e9f0",
   "metadata": {},
   "source": [
    "<font face=\"微软雅黑\" size=4 color=#2E8B57 >将两组合表现数据存档"
   ]
  },
  {
   "cell_type": "code",
   "execution_count": 49,
   "id": "26253bb3",
   "metadata": {},
   "outputs": [],
   "source": [
    "Perfomence = pd.read_csv('/Users/liuke/Downloads/HW2021Fall/Quant/FinalProj/ExcessRet_TS.csv',index_col='DATE')\n",
    "Perfomence.index = pd.to_datetime(Perfomence.index)"
   ]
  },
  {
   "cell_type": "markdown",
   "id": "c3fa47a2",
   "metadata": {},
   "source": [
    "<font face=\"微软雅黑\" size=4 color=#2E8B57 >画出收益率的折线图，大体在0附近上下波动"
   ]
  },
  {
   "cell_type": "code",
   "execution_count": 50,
   "id": "fad0a08c",
   "metadata": {},
   "outputs": [
    {
     "data": {
      "text/plain": [
       "<AxesSubplot:xlabel='DATE'>"
      ]
     },
     "execution_count": 50,
     "metadata": {},
     "output_type": "execute_result"
    },
    {
     "data": {
      "image/png": "[encoded data removed]",
      "text/plain": [
       "<Figure size 432x288 with 1 Axes>"
      ]
     },
     "metadata": {
      "needs_background": "light"
     },
     "output_type": "display_data"
    }
   ],
   "source": [
    "Perfomence.plot()"
   ]
  },
  {
   "cell_type": "markdown",
   "id": "c0a1e03a",
   "metadata": {},
   "source": [
    "<font face=\"微软雅黑\" size=4 color=#2E8B57 >具体数据如下"
   ]
  },
  {
   "cell_type": "code",
   "execution_count": 51,
   "id": "1a0cbec9",
   "metadata": {},
   "outputs": [
    {
     "data": {
      "text/html": [
       "<div>\n",
       "<style scoped>\n",
       "    .dataframe tbody tr th:only-of-type {\n",
       "        vertical-align: middle;\n",
       "    }\n",
       "\n",
       "    .dataframe tbody tr th {\n",
       "        vertical-align: top;\n",
       "    }\n",
       "\n",
       "    .dataframe thead th {\n",
       "        text-align: right;\n",
       "    }\n",
       "</style>\n",
       "<table border=\"1\" class=\"dataframe\">\n",
       "  <thead>\n",
       "    <tr style=\"text-align: right;\">\n",
       "      <th></th>\n",
       "      <th>GMV</th>\n",
       "      <th>long-short</th>\n",
       "    </tr>\n",
       "    <tr>\n",
       "      <th>DATE</th>\n",
       "      <th></th>\n",
       "      <th></th>\n",
       "    </tr>\n",
       "  </thead>\n",
       "  <tbody>\n",
       "    <tr>\n",
       "      <th>1973-07-31</th>\n",
       "      <td>-0.030070</td>\n",
       "      <td>-0.045562</td>\n",
       "    </tr>\n",
       "    <tr>\n",
       "      <th>1973-08-31</th>\n",
       "      <td>-0.044310</td>\n",
       "      <td>0.057972</td>\n",
       "    </tr>\n",
       "    <tr>\n",
       "      <th>1973-09-28</th>\n",
       "      <td>0.033216</td>\n",
       "      <td>-0.020284</td>\n",
       "    </tr>\n",
       "    <tr>\n",
       "      <th>1973-10-31</th>\n",
       "      <td>-0.051882</td>\n",
       "      <td>0.105971</td>\n",
       "    </tr>\n",
       "    <tr>\n",
       "      <th>1973-11-30</th>\n",
       "      <td>-0.064184</td>\n",
       "      <td>0.055607</td>\n",
       "    </tr>\n",
       "    <tr>\n",
       "      <th>...</th>\n",
       "      <td>...</td>\n",
       "      <td>...</td>\n",
       "    </tr>\n",
       "    <tr>\n",
       "      <th>2014-09-30</th>\n",
       "      <td>-0.005530</td>\n",
       "      <td>0.077052</td>\n",
       "    </tr>\n",
       "    <tr>\n",
       "      <th>2014-10-31</th>\n",
       "      <td>0.081516</td>\n",
       "      <td>-0.130269</td>\n",
       "    </tr>\n",
       "    <tr>\n",
       "      <th>2014-11-28</th>\n",
       "      <td>0.019264</td>\n",
       "      <td>0.053737</td>\n",
       "    </tr>\n",
       "    <tr>\n",
       "      <th>2014-12-31</th>\n",
       "      <td>0.038766</td>\n",
       "      <td>0.032163</td>\n",
       "    </tr>\n",
       "    <tr>\n",
       "      <th>2015-01-30</th>\n",
       "      <td>0.009577</td>\n",
       "      <td>0.120301</td>\n",
       "    </tr>\n",
       "  </tbody>\n",
       "</table>\n",
       "<p>499 rows × 2 columns</p>\n",
       "</div>"
      ],
      "text/plain": [
       "                 GMV  long-short\n",
       "DATE                            \n",
       "1973-07-31 -0.030070   -0.045562\n",
       "1973-08-31 -0.044310    0.057972\n",
       "1973-09-28  0.033216   -0.020284\n",
       "1973-10-31 -0.051882    0.105971\n",
       "1973-11-30 -0.064184    0.055607\n",
       "...              ...         ...\n",
       "2014-09-30 -0.005530    0.077052\n",
       "2014-10-31  0.081516   -0.130269\n",
       "2014-11-28  0.019264    0.053737\n",
       "2014-12-31  0.038766    0.032163\n",
       "2015-01-30  0.009577    0.120301\n",
       "\n",
       "[499 rows x 2 columns]"
      ]
     },
     "execution_count": 51,
     "metadata": {},
     "output_type": "execute_result"
    }
   ],
   "source": [
    "Perfomence"
   ]
  },
  {
   "cell_type": "markdown",
   "id": "8e2d32b0",
   "metadata": {},
   "source": [
    "<font face=\"微软雅黑\" size=6 color=#A52A2A >*`1.2 Performance Evaluation`*"
   ]
  },
  {
   "cell_type": "markdown",
   "id": "561d7ae5",
   "metadata": {},
   "source": [
    "<font face=\"微软雅黑\" size=5 color=#A52A2A >Preparation "
   ]
  },
  {
   "cell_type": "code",
   "execution_count": 52,
   "id": "e042f634",
   "metadata": {},
   "outputs": [],
   "source": [
    "riskfactor = pd.read_csv('/Users/liuke/Downloads/HW2021Fall/Quant/FinalProj/finalproj/riskfactor.csv',index_col='date')\n",
    "riskfactor.index = pd.to_datetime(riskfactor.index,format='%Y%m%d')"
   ]
  },
  {
   "cell_type": "code",
   "execution_count": 53,
   "id": "290be0a1",
   "metadata": {},
   "outputs": [],
   "source": [
    "Perfomence['Enhanced_index'] = riskfactor.Mkt_RF[-499:] + Perfomence['long-short']"
   ]
  },
  {
   "cell_type": "markdown",
   "id": "1f3dd3f3",
   "metadata": {},
   "source": [
    "<font face=\"微软雅黑\" size=4 color=#2E8B57 >两个组合在499个月中，收益大于0的天数为"
   ]
  },
  {
   "cell_type": "code",
   "execution_count": 54,
   "id": "2c3b677d",
   "metadata": {},
   "outputs": [
    {
     "data": {
      "text/plain": [
       "GMV               331\n",
       "long-short        326\n",
       "Enhanced_index    337\n",
       "dtype: int64"
      ]
     },
     "execution_count": 54,
     "metadata": {},
     "output_type": "execute_result"
    }
   ],
   "source": [
    "(Perfomence>0).sum()"
   ]
  },
  {
   "cell_type": "markdown",
   "id": "1bc93dc7",
   "metadata": {},
   "source": [
    "<font face=\"微软雅黑\" size=4 color=#2E8B57 >无风险收益率与市场超额收益大于0的天数，发现无风险收益率在绝大多数情况是大于零的，市场超额收益大于0的天数，与组合的超额完成收益大于0的天数相仿"
   ]
  },
  {
   "cell_type": "code",
   "execution_count": 55,
   "id": "b28c0568",
   "metadata": {},
   "outputs": [
    {
     "data": {
      "text/plain": [
       "Mkt_RF    362\n",
       "RF        573\n",
       "dtype: int64"
      ]
     },
     "execution_count": 55,
     "metadata": {},
     "output_type": "execute_result"
    }
   ],
   "source": [
    "(riskfactor>0).sum()"
   ]
  },
  {
   "cell_type": "markdown",
   "id": "c2f124d9",
   "metadata": {},
   "source": [
    "<font face=\"微软雅黑\" size=4 color=#2E8B57 >记录最小方差组合与指数增强组合，接下来进行业绩评价"
   ]
  },
  {
   "cell_type": "code",
   "execution_count": 56,
   "id": "316f49ac",
   "metadata": {},
   "outputs": [],
   "source": [
    "Min_var = Perfomence['GMV']\n",
    "Enhanced_index = Perfomence['Enhanced_index']"
   ]
  },
  {
   "cell_type": "markdown",
   "id": "77f9dcdb",
   "metadata": {},
   "source": [
    "<font face=\"微软雅黑\" size=5 color=#A52A2A >1.Annualized average excess return:"
   ]
  },
  {
   "cell_type": "markdown",
   "id": "617129d9",
   "metadata": {},
   "source": [
    "###  Minimal variance portfolio"
   ]
  },
  {
   "cell_type": "code",
   "execution_count": 57,
   "id": "8ccf2f3a",
   "metadata": {},
   "outputs": [
    {
     "data": {
      "text/plain": [
       "0.10247648406700628"
      ]
     },
     "execution_count": 57,
     "metadata": {},
     "output_type": "execute_result"
    }
   ],
   "source": [
    "Min_var.mean()*12"
   ]
  },
  {
   "cell_type": "markdown",
   "id": "c52ab3cf",
   "metadata": {},
   "source": [
    "### Enhanced index portfolio"
   ]
  },
  {
   "cell_type": "code",
   "execution_count": 58,
   "id": "192506b1",
   "metadata": {},
   "outputs": [
    {
     "data": {
      "text/plain": [
       "0.419551841705897"
      ]
     },
     "execution_count": 58,
     "metadata": {},
     "output_type": "execute_result"
    }
   ],
   "source": [
    "Enhanced_index.mean()*12"
   ]
  },
  {
   "cell_type": "markdown",
   "id": "10a30ea3",
   "metadata": {},
   "source": [
    "<font face=\"微软雅黑\" size=5 color=#A52A2A >2.Annualized standard deviation of excess return:"
   ]
  },
  {
   "cell_type": "markdown",
   "id": "30ab2d69",
   "metadata": {},
   "source": [
    "### Minimal variance portfolio"
   ]
  },
  {
   "cell_type": "code",
   "execution_count": 59,
   "id": "909f8968",
   "metadata": {},
   "outputs": [
    {
     "data": {
      "text/plain": [
       "0.11560336815664732"
      ]
     },
     "execution_count": 59,
     "metadata": {},
     "output_type": "execute_result"
    }
   ],
   "source": [
    "Min_var.std()*(12**0.5)"
   ]
  },
  {
   "cell_type": "markdown",
   "id": "080a3c1e",
   "metadata": {},
   "source": [
    "### Enhanced index portfolio"
   ]
  },
  {
   "cell_type": "code",
   "execution_count": 60,
   "id": "4a9e5e95",
   "metadata": {},
   "outputs": [
    {
     "data": {
      "text/plain": [
       "0.389980992988152"
      ]
     },
     "execution_count": 60,
     "metadata": {},
     "output_type": "execute_result"
    }
   ],
   "source": [
    "Enhanced_index.std()*(12**0.5)"
   ]
  },
  {
   "cell_type": "markdown",
   "id": "96cf6caf",
   "metadata": {},
   "source": [
    "<font face=\"微软雅黑\" size=5 color=#A52A2A >3. Annualized Sharpe ratio:"
   ]
  },
  {
   "cell_type": "markdown",
   "id": "c650331c",
   "metadata": {},
   "source": [
    "### Minimal variance portfolio"
   ]
  },
  {
   "cell_type": "code",
   "execution_count": 61,
   "id": "f94111cd",
   "metadata": {},
   "outputs": [
    {
     "data": {
      "text/plain": [
       "0.8864489478208493"
      ]
     },
     "execution_count": 61,
     "metadata": {},
     "output_type": "execute_result"
    }
   ],
   "source": [
    "(Min_var.mean()*12) / (Min_var.std()*(12**0.5))"
   ]
  },
  {
   "cell_type": "markdown",
   "id": "b138cd89",
   "metadata": {},
   "source": [
    "### Enhanced index portfolio"
   ]
  },
  {
   "cell_type": "code",
   "execution_count": 62,
   "id": "ea4965ca",
   "metadata": {},
   "outputs": [
    {
     "data": {
      "text/plain": [
       "1.0758263844890599"
      ]
     },
     "execution_count": 62,
     "metadata": {},
     "output_type": "execute_result"
    }
   ],
   "source": [
    "(Enhanced_index.mean()*12) / (Enhanced_index.std()*(12**0.5))"
   ]
  },
  {
   "cell_type": "markdown",
   "id": "b12054f6",
   "metadata": {},
   "source": [
    "<font face=\"微软雅黑\" size=5 color=#A52A2A >4. Annualized CAPM alpha and t-stats:"
   ]
  },
  {
   "cell_type": "markdown",
   "id": "9c4c2f8e",
   "metadata": {},
   "source": [
    "### Minimal variance portfolio"
   ]
  },
  {
   "cell_type": "code",
   "execution_count": 63,
   "id": "716dfe83",
   "metadata": {},
   "outputs": [
    {
     "name": "stdout",
     "output_type": "stream",
     "text": [
      "                            OLS Regression Results                            \n",
      "==============================================================================\n",
      "Dep. Variable:                    GMV   R-squared:                       0.327\n",
      "Model:                            OLS   Adj. R-squared:                  0.326\n",
      "Method:                 Least Squares   F-statistic:                     241.7\n",
      "Date:                Sat, 22 Jan 2022   Prob (F-statistic):           1.06e-44\n",
      "Time:                        21:55:01   Log-Likelihood:                 1087.9\n",
      "No. Observations:                 499   AIC:                            -2172.\n",
      "Df Residuals:                     497   BIC:                            -2163.\n",
      "Df Model:                           1                                         \n",
      "Covariance Type:            nonrobust                                         \n",
      "==============================================================================\n",
      "                 coef    std err          t      P>|t|      [0.025      0.975]\n",
      "------------------------------------------------------------------------------\n",
      "const          0.0062      0.001      5.027      0.000       0.004       0.009\n",
      "Mkt_RF         0.4132      0.027     15.547      0.000       0.361       0.465\n",
      "==============================================================================\n",
      "Omnibus:                       98.968   Durbin-Watson:                   1.943\n",
      "Prob(Omnibus):                  0.000   Jarque-Bera (JB):              722.210\n",
      "Skew:                           0.635   Prob(JB):                    1.49e-157\n",
      "Kurtosis:                       8.755   Cond. No.                         21.7\n",
      "==============================================================================\n",
      "\n",
      "Notes:\n",
      "[1] Standard Errors assume that the covariance matrix of the errors is correctly specified.\n"
     ]
    }
   ],
   "source": [
    "model_minvar = OLS(Min_var,sm.add_constant(riskfactor.Mkt_RF[-499:])).fit()\n",
    "print(model_minvar.summary())"
   ]
  },
  {
   "cell_type": "markdown",
   "id": "5d6f70fa",
   "metadata": {},
   "source": [
    "#### Minimal variance portfolio αp"
   ]
  },
  {
   "cell_type": "code",
   "execution_count": 64,
   "id": "46ee766e",
   "metadata": {},
   "outputs": [
    {
     "data": {
      "text/plain": [
       "0.07454201250238879"
      ]
     },
     "execution_count": 64,
     "metadata": {},
     "output_type": "execute_result"
    }
   ],
   "source": [
    "model_minvar.params[0]*12"
   ]
  },
  {
   "cell_type": "markdown",
   "id": "0abffb0d",
   "metadata": {},
   "source": [
    "#### Minimal variance portfolio t(αp)"
   ]
  },
  {
   "cell_type": "code",
   "execution_count": 65,
   "id": "e804f3db",
   "metadata": {},
   "outputs": [
    {
     "data": {
      "text/plain": [
       "5.026864104356599"
      ]
     },
     "execution_count": 65,
     "metadata": {},
     "output_type": "execute_result"
    }
   ],
   "source": [
    "model_minvar.tvalues[0]"
   ]
  },
  {
   "cell_type": "markdown",
   "id": "03434587",
   "metadata": {},
   "source": [
    "### Enhanced index portfolio"
   ]
  },
  {
   "cell_type": "code",
   "execution_count": 66,
   "id": "12f3a1ad",
   "metadata": {},
   "outputs": [
    {
     "name": "stdout",
     "output_type": "stream",
     "text": [
      "                            OLS Regression Results                            \n",
      "==============================================================================\n",
      "Dep. Variable:         Enhanced_index   R-squared:                       0.112\n",
      "Model:                            OLS   Adj. R-squared:                  0.110\n",
      "Method:                 Least Squares   F-statistic:                     62.78\n",
      "Date:                Sat, 22 Jan 2022   Prob (F-statistic):           1.53e-14\n",
      "Time:                        21:55:01   Log-Likelihood:                 412.00\n",
      "No. Observations:                 499   AIC:                            -820.0\n",
      "Df Residuals:                     497   BIC:                            -811.6\n",
      "Df Model:                           1                                         \n",
      "Covariance Type:            nonrobust                                         \n",
      "==============================================================================\n",
      "                 coef    std err          t      P>|t|      [0.025      0.975]\n",
      "------------------------------------------------------------------------------\n",
      "const          0.0304      0.005      6.341      0.000       0.021       0.040\n",
      "Mkt_RF         0.8161      0.103      7.923      0.000       0.614       1.018\n",
      "==============================================================================\n",
      "Omnibus:                       46.686   Durbin-Watson:                   1.881\n",
      "Prob(Omnibus):                  0.000   Jarque-Bera (JB):              245.214\n",
      "Skew:                          -0.112   Prob(JB):                     5.66e-54\n",
      "Kurtosis:                       6.427   Cond. No.                         21.7\n",
      "==============================================================================\n",
      "\n",
      "Notes:\n",
      "[1] Standard Errors assume that the covariance matrix of the errors is correctly specified.\n"
     ]
    }
   ],
   "source": [
    "model_Enhanced = OLS(Enhanced_index,sm.add_constant(riskfactor.Mkt_RF[-499:])).fit()\n",
    "print(model_Enhanced.summary())"
   ]
  },
  {
   "cell_type": "markdown",
   "id": "85b1582e",
   "metadata": {},
   "source": [
    "#### Enhanced index portfolio: αp"
   ]
  },
  {
   "cell_type": "code",
   "execution_count": 67,
   "id": "38c5d8ca",
   "metadata": {},
   "outputs": [
    {
     "data": {
      "text/plain": [
       "0.3643800562456526"
      ]
     },
     "execution_count": 67,
     "metadata": {},
     "output_type": "execute_result"
    }
   ],
   "source": [
    "model_Enhanced.params[0]*12"
   ]
  },
  {
   "cell_type": "markdown",
   "id": "42dc80cd",
   "metadata": {},
   "source": [
    "#### Enhanced index portfolio: t(αp)"
   ]
  },
  {
   "cell_type": "code",
   "execution_count": 68,
   "id": "d4880239",
   "metadata": {},
   "outputs": [
    {
     "data": {
      "text/plain": [
       "6.340938117781441"
      ]
     },
     "execution_count": 68,
     "metadata": {},
     "output_type": "execute_result"
    }
   ],
   "source": [
    "model_Enhanced.tvalues[0]"
   ]
  },
  {
   "cell_type": "markdown",
   "id": "5b06f125",
   "metadata": {},
   "source": [
    "<font face=\"微软雅黑\" size=5 color=#A52A2A >5. CAPM beta βp and annualized systematic volatility"
   ]
  },
  {
   "cell_type": "markdown",
   "id": "5c4c8a2f",
   "metadata": {},
   "source": [
    "### Minimal variance portfolio"
   ]
  },
  {
   "cell_type": "code",
   "execution_count": 69,
   "id": "df755d7c",
   "metadata": {},
   "outputs": [
    {
     "data": {
      "text/plain": [
       "0.4132073287428889"
      ]
     },
     "execution_count": 69,
     "metadata": {},
     "output_type": "execute_result"
    }
   ],
   "source": [
    "model_minvar.params[1]"
   ]
  },
  {
   "cell_type": "code",
   "execution_count": 70,
   "id": "bbe65554",
   "metadata": {},
   "outputs": [
    {
     "data": {
      "text/plain": [
       "0.047768158949688985"
      ]
     },
     "execution_count": 70,
     "metadata": {},
     "output_type": "execute_result"
    }
   ],
   "source": [
    "model_minvar.params[1] * (Min_var.std()*(12**0.5))"
   ]
  },
  {
   "cell_type": "markdown",
   "id": "93196054",
   "metadata": {},
   "source": [
    "### Enhanced index portfolio βp and annualized systematic volatility"
   ]
  },
  {
   "cell_type": "code",
   "execution_count": 71,
   "id": "e252b0cb",
   "metadata": {},
   "outputs": [
    {
     "data": {
      "text/plain": [
       "0.8161022856390496"
      ]
     },
     "execution_count": 71,
     "metadata": {},
     "output_type": "execute_result"
    }
   ],
   "source": [
    "model_Enhanced.params[1]"
   ]
  },
  {
   "cell_type": "code",
   "execution_count": 72,
   "id": "f500f7b3",
   "metadata": {},
   "outputs": [
    {
     "data": {
      "text/plain": [
       "0.31826437973341704"
      ]
     },
     "execution_count": 72,
     "metadata": {},
     "output_type": "execute_result"
    }
   ],
   "source": [
    "model_Enhanced.params[1] * (Enhanced_index.std()*(12**0.5))"
   ]
  },
  {
   "cell_type": "markdown",
   "id": "6594161c",
   "metadata": {},
   "source": [
    "<font face=\"微软雅黑\" size=5 color=#A52A2A >6. Annualized idiosyncratic volatility (or tracking errors):\n"
   ]
  },
  {
   "cell_type": "markdown",
   "id": "7182734f",
   "metadata": {},
   "source": [
    "### Minimal variance portfolio"
   ]
  },
  {
   "cell_type": "code",
   "execution_count": 73,
   "id": "91b8755a",
   "metadata": {},
   "outputs": [
    {
     "data": {
      "text/plain": [
       "0.09482333805923192"
      ]
     },
     "execution_count": 73,
     "metadata": {},
     "output_type": "execute_result"
    }
   ],
   "source": [
    "model_minvar.resid.std()*(12**0.5)"
   ]
  },
  {
   "cell_type": "markdown",
   "id": "d5ac8c92",
   "metadata": {},
   "source": [
    "### Enhanced index portfolio"
   ]
  },
  {
   "cell_type": "code",
   "execution_count": 74,
   "id": "9cbf98af",
   "metadata": {},
   "outputs": [
    {
     "data": {
      "text/plain": [
       "0.36746193220935164"
      ]
     },
     "execution_count": 74,
     "metadata": {},
     "output_type": "execute_result"
    }
   ],
   "source": [
    "model_Enhanced.resid.std()*(12**0.5)"
   ]
  },
  {
   "cell_type": "markdown",
   "id": "5c3ed7fd",
   "metadata": {},
   "source": [
    "<font face=\"微软雅黑\" size=5 color=#A52A2A >7. R2 of the preceding time series regression, p=1,3"
   ]
  },
  {
   "cell_type": "markdown",
   "id": "0e059675",
   "metadata": {},
   "source": [
    "### Minimal variance portfolio"
   ]
  },
  {
   "cell_type": "code",
   "execution_count": 75,
   "id": "3bc4ca31",
   "metadata": {},
   "outputs": [
    {
     "data": {
      "text/plain": [
       "0.32719454482498966"
      ]
     },
     "execution_count": 75,
     "metadata": {},
     "output_type": "execute_result"
    }
   ],
   "source": [
    "model_minvar.rsquared"
   ]
  },
  {
   "cell_type": "markdown",
   "id": "89282af2",
   "metadata": {},
   "source": [
    "### Enhanced index portfolio"
   ]
  },
  {
   "cell_type": "code",
   "execution_count": 76,
   "id": "a2640306",
   "metadata": {},
   "outputs": [
    {
     "data": {
      "text/plain": [
       "0.11215362234422033"
      ]
     },
     "execution_count": 76,
     "metadata": {},
     "output_type": "execute_result"
    }
   ],
   "source": [
    "model_Enhanced.rsquared"
   ]
  },
  {
   "cell_type": "markdown",
   "id": "1285fc8a",
   "metadata": {},
   "source": [
    "<font face=\"微软雅黑\" size=5 color=#A52A2A >8. Information ratio (relative to the CAPM): αp σ(et)\n",
    ", p=1,3"
   ]
  },
  {
   "cell_type": "markdown",
   "id": "db2754bf",
   "metadata": {},
   "source": [
    "### Minimal variance portfolio"
   ]
  },
  {
   "cell_type": "code",
   "execution_count": 77,
   "id": "a6283c4f",
   "metadata": {},
   "outputs": [
    {
     "data": {
      "text/plain": [
       "0.7861146214429374"
      ]
     },
     "execution_count": 77,
     "metadata": {},
     "output_type": "execute_result"
    }
   ],
   "source": [
    "model_minvar.params[0] / model_minvar.resid.std()*(12**0.5)"
   ]
  },
  {
   "cell_type": "markdown",
   "id": "32cb71b6",
   "metadata": {},
   "source": [
    "### Enhanced index portfolio"
   ]
  },
  {
   "cell_type": "code",
   "execution_count": 78,
   "id": "56217b0d",
   "metadata": {},
   "outputs": [
    {
     "data": {
      "text/plain": [
       "0.9916130741892925"
      ]
     },
     "execution_count": 78,
     "metadata": {},
     "output_type": "execute_result"
    }
   ],
   "source": [
    "model_Enhanced.params[0] / model_Enhanced.resid.std()*(12**0.5)"
   ]
  },
  {
   "cell_type": "markdown",
   "id": "2ff644e3",
   "metadata": {},
   "source": [
    "<font face=\"微软雅黑\" size=5 color=#A52A2A >9. Maximal Drawdown (not annualized) of the cumulative portfolio return, p=1,3"
   ]
  },
  {
   "cell_type": "markdown",
   "id": "1be97f86",
   "metadata": {},
   "source": [
    "### def MaxDrawdown"
   ]
  },
  {
   "cell_type": "code",
   "execution_count": 79,
   "id": "fbd1ad04",
   "metadata": {},
   "outputs": [],
   "source": [
    "def MaxDrawdown(return_list):\n",
    "    '''最大回撤率'''\n",
    "    i = np.argmax((np.maximum.accumulate(return_list) - return_list) / np.maximum.accumulate(return_list))  #最低点\n",
    "    if i == 0:\n",
    "        return 0\n",
    "    j = np.argmax(return_list[:i])  #最高点\n",
    "    a = (return_list[j] - return_list[i]) / (return_list[j])\n",
    "    b = (return_list.index[i])\n",
    "    c = (return_list.index[j])\n",
    "    return (a,c,b)\n",
    "def MaxDrawdownPlot(Fund):\n",
    "    date1 = MaxDrawdown((Fund+1).cumprod())[1]\n",
    "    date2 = MaxDrawdown((Fund+1).cumprod())[2]\n",
    "    plt.plot((Fund+1).cumprod())\n",
    "    x = [date1,date2]\n",
    "    y = [(Fund+1).cumprod()[date1],(Fund+1).cumprod()[date2]]\n",
    "    plt.scatter(x, y, color='r')"
   ]
  },
  {
   "cell_type": "markdown",
   "id": "07c574e8",
   "metadata": {},
   "source": [
    "###  Cumulative wealth"
   ]
  },
  {
   "cell_type": "code",
   "execution_count": 80,
   "id": "46ecb56b",
   "metadata": {},
   "outputs": [],
   "source": [
    "CW_Min_var = (Min_var + riskfactor.RF[-499:]+1).cumprod()\n",
    "CW_Enhanced_index = (Enhanced_index + riskfactor.RF[-499:]+1).cumprod()"
   ]
  },
  {
   "cell_type": "markdown",
   "id": "1d081ded",
   "metadata": {},
   "source": [
    "### Minimal variance portfolio"
   ]
  },
  {
   "cell_type": "code",
   "execution_count": 81,
   "id": "c27c4454",
   "metadata": {},
   "outputs": [
    {
     "data": {
      "text/plain": [
       "0.34718172346861464"
      ]
     },
     "execution_count": 81,
     "metadata": {},
     "output_type": "execute_result"
    }
   ],
   "source": [
    "MaxDrawdown(CW_Min_var)[0]"
   ]
  },
  {
   "cell_type": "code",
   "execution_count": 97,
   "id": "1e5323d9",
   "metadata": {},
   "outputs": [
    {
     "data": {
      "image/png": "[encoded data removed]",
      "text/plain": [
       "<Figure size 432x288 with 1 Axes>"
      ]
     },
     "metadata": {
      "needs_background": "light"
     },
     "output_type": "display_data"
    }
   ],
   "source": [
    "MaxDrawdownPlot((Min_var+riskfactor.RF[-499:]))"
   ]
  },
  {
   "cell_type": "markdown",
   "id": "009ecae0",
   "metadata": {},
   "source": [
    "### Enhanced index portfolio"
   ]
  },
  {
   "cell_type": "code",
   "execution_count": 83,
   "id": "5fb1b8b7",
   "metadata": {},
   "outputs": [
    {
     "data": {
      "text/plain": [
       "0.8282986861801551"
      ]
     },
     "execution_count": 83,
     "metadata": {},
     "output_type": "execute_result"
    }
   ],
   "source": [
    "MaxDrawdown(CW_Enhanced_index)[0]"
   ]
  },
  {
   "cell_type": "code",
   "execution_count": 100,
   "id": "4da1c5aa",
   "metadata": {},
   "outputs": [
    {
     "data": {
      "image/png": "[encoded data removed]",
      "text/plain": [
       "<Figure size 432x288 with 1 Axes>"
      ]
     },
     "metadata": {
      "needs_background": "light"
     },
     "output_type": "display_data"
    }
   ],
   "source": [
    "MaxDrawdownPlot((Enhanced_index+riskfactor.RF[-499:]))"
   ]
  },
  {
   "cell_type": "markdown",
   "id": "fe0023b6",
   "metadata": {},
   "source": [
    "<font face=\"微软雅黑\" size=5 color=#A52A2A >10. Maximal Recovery Period (not annualized) of the cumulative portfolio wealth, p=1,3"
   ]
  },
  {
   "cell_type": "markdown",
   "id": "dc919be6",
   "metadata": {},
   "source": [
    "### def MaximalRecoveryPeriod"
   ]
  },
  {
   "cell_type": "code",
   "execution_count": 85,
   "id": "8ff8a7e4",
   "metadata": {},
   "outputs": [],
   "source": [
    "def MaximalRecoveryPeriod(test2):\n",
    "    test3=0\n",
    "    test4=[]\n",
    "    for i in range(len(test2)):\n",
    "        a = (test2.iloc[i] - test3)\n",
    "        if float(a) < 0:\n",
    "            pass\n",
    "        else:\n",
    "            test3 = test2.iloc[i]\n",
    "            test4.append(i)\n",
    "    test5 = []\n",
    "    for o in range(len(test4)-1):\n",
    "        test5.append( test4[o+1] - test4[o] )\n",
    "        b =  max(test5)\n",
    "    return b"
   ]
  },
  {
   "cell_type": "markdown",
   "id": "ee46b9e2",
   "metadata": {},
   "source": [
    "### Minimal variance portfolio"
   ]
  },
  {
   "cell_type": "code",
   "execution_count": 86,
   "id": "85b1870a",
   "metadata": {},
   "outputs": [
    {
     "name": "stdout",
     "output_type": "stream",
     "text": [
      "Maximal Recovery Period for the 500 is:  30 months\n"
     ]
    }
   ],
   "source": [
    "print('Maximal Recovery Period for the {} is: '.format(i),MaximalRecoveryPeriod(CW_Min_var),'months')"
   ]
  },
  {
   "cell_type": "markdown",
   "id": "b3752f20",
   "metadata": {},
   "source": [
    "### Enhanced index portfolio"
   ]
  },
  {
   "cell_type": "code",
   "execution_count": 87,
   "id": "98eb02fb",
   "metadata": {},
   "outputs": [
    {
     "name": "stdout",
     "output_type": "stream",
     "text": [
      "Maximal Recovery Period for the 500 is:  36 months\n"
     ]
    }
   ],
   "source": [
    "print('Maximal Recovery Period for the {} is: '.format(i),MaximalRecoveryPeriod(CW_Enhanced_index),'months')"
   ]
  },
  {
   "cell_type": "markdown",
   "id": "734b3343",
   "metadata": {},
   "source": [
    "<font face=\"微软雅黑\" size=6 color=#A52A2A >*`1.3Discussions`*"
   ]
  },
  {
   "cell_type": "markdown",
   "id": "22f20b42",
   "metadata": {},
   "source": [
    "<font face=\"微软雅黑\" size=5 color=#A52A2A >1.Summarize the way in which you construct the two trading strategies"
   ]
  },
  {
   "cell_type": "markdown",
   "id": "7ee2dd83",
   "metadata": {},
   "source": [
    "<font face=\"微软雅黑\" size=4 color=black >A:For the minimum variance portfolio, it is the framework of the mean variance model, in which the calculation of stock selection and expected return uses the BARRA model. The long-short portfolio uses the BARRA model to calculate the required parameters, and applies these parameters to the quadratic programming with constraints to obtain the weight of the long-short portfolio. The procedure above is explained in more detail."
   ]
  },
  {
   "cell_type": "markdown",
   "id": "e45b464c",
   "metadata": {},
   "source": [
    "<font face=\"微软雅黑\" size=5 color=#A52A2A >2.Draw the cumulative wealth series of the two strategies."
   ]
  },
  {
   "cell_type": "markdown",
   "id": "a665e233",
   "metadata": {},
   "source": [
    "### Minimal variance portfolio"
   ]
  },
  {
   "cell_type": "code",
   "execution_count": 88,
   "id": "c63e5683",
   "metadata": {},
   "outputs": [
    {
     "data": {
      "image/png": "[encoded data removed]",
      "text/plain": [
       "<Figure size 432x288 with 1 Axes>"
      ]
     },
     "metadata": {
      "needs_background": "light"
     },
     "output_type": "display_data"
    }
   ],
   "source": [
    "MaxDrawdownPlot((Min_var+riskfactor.RF[-499:]))"
   ]
  },
  {
   "cell_type": "markdown",
   "id": "12a32262",
   "metadata": {},
   "source": [
    "### Enhanced index portfolio"
   ]
  },
  {
   "cell_type": "code",
   "execution_count": 89,
   "id": "29e89e58",
   "metadata": {},
   "outputs": [
    {
     "data": {
      "image/png": "[encoded data removed]",
      "text/plain": [
       "<Figure size 432x288 with 1 Axes>"
      ]
     },
     "metadata": {
      "needs_background": "light"
     },
     "output_type": "display_data"
    }
   ],
   "source": [
    "MaxDrawdownPlot((Enhanced_index+riskfactor.RF[-499:]))"
   ]
  },
  {
   "cell_type": "markdown",
   "id": "c899d93b",
   "metadata": {},
   "source": [
    "<font face=\"微软雅黑\" size=5 color=#A52A2A >3.Compute the first three performance measures of the market excess return"
   ]
  },
  {
   "cell_type": "markdown",
   "id": "4feab344",
   "metadata": {},
   "source": [
    "<font face=\"微软雅黑\" size=5 color=black> Annualized average excess return: MinVar `<` Enhanced_index;  \n",
    "                                                                                                  Annualized standard deviation of excess return: MinVar `<` Enhanced_index;  \n",
    "    Annualized Sharpe ratio:MinVar `<` Enhanced_index"
   ]
  },
  {
   "cell_type": "markdown",
   "id": "e97131ba",
   "metadata": {},
   "source": [
    "<font face=\"微软雅黑\" size=5 color=#A52A2A >4.For the rest of performance measures, you compare their values"
   ]
  },
  {
   "cell_type": "markdown",
   "id": "3d5be9cc",
   "metadata": {},
   "source": [
    "<font face=\"微软雅黑\" size=5 color=black>Annualized CAPM alpha and t-stats:MinVar `<` Enhanced_index  \n",
    "    CAPM beta βp and annualized systematic volatility:MinVar `<` Enhanced_index  \n",
    "    Annualized idiosyncratic volatility:MinVar `<` Enhanced_index  \n",
    "    R2:MinVar `>` Enhanced_index  \n",
    "    Information ratio:MinVar `<` Enhanced_index  \n",
    "    Maximal Drawdown:MinVar `<<` Enhanced_index  \n",
    "    Maximal Recovery Period:MinVar `<` Enhanced_index  \n",
    "    "
   ]
  },
  {
   "cell_type": "markdown",
   "id": "916e5e0d",
   "metadata": {},
   "source": [
    "<font face=\"微软雅黑\" size=5 color=#A52A2A >5.Describe the performance of the two strategies"
   ]
  },
  {
   "cell_type": "markdown",
   "id": "a9590826",
   "metadata": {},
   "source": [
    "<font face=\"微软雅黑\" size=5 color=black>Average Returns:MinVar `<` Enhanced_index  \n",
    "                                                                            Alpha: MinVar `<` Enhanced_index  \n",
    "                                                                            Volatility:  MinVar `<` Enhanced_index  \n",
    "                                                                                                    Market beta:  MinVar `<` Enhanced_index  \n",
    "    Maximal drawdown:  MinVar `<` Enhanced_index  \n",
    "                                  Sharpe ratio:  MinVar `<` Enhanced_index  \n",
    "    Information ratio:MinVar `<` Enhanced_index \n",
    "                                                                            \n",
    "                                                                            \n",
    "    \n",
    "    "
   ]
  },
  {
   "cell_type": "markdown",
   "id": "f92bc4bf",
   "metadata": {},
   "source": [
    "<font face=\"微软雅黑\" size=5 color=#A52A2A >6.Suppose you plan to invest your total wealth in one of the two strategies"
   ]
  },
  {
   "cell_type": "markdown",
   "id": "059661c0",
   "metadata": {},
   "source": [
    "<font face=\"微软雅黑\" size=5 color=black>A:Choose the one with a high Sharpe ratio, so choose enhanced index portfolio, because the Sharpe ratio is a measure of total risk"
   ]
  },
  {
   "cell_type": "markdown",
   "id": "f71619ea",
   "metadata": {},
   "source": [
    "<font face=\"微软雅黑\" size=5 color=#A52A2A >7.Finally suggest at least one way to improve the two strategies"
   ]
  },
  {
   "cell_type": "markdown",
   "id": "5ee71ebe",
   "metadata": {},
   "source": [
    "<font face=\"微软雅黑\" size=5 color=black>A:Both strategies have no stop loss, and a stop loss condition should be added to the strategy."
   ]
  },
  {
   "cell_type": "markdown",
   "id": "519f4c5b",
   "metadata": {},
   "source": [
    "<font face=\"微软雅黑\" size=7 color=#A52A2A >*`END`*"
   ]
  },
  {
   "cell_type": "markdown",
   "id": "24720c30",
   "metadata": {},
   "source": [
    "<font face=\"微软雅黑\" size=6 color=#A52A2A >*`Quantitative Investment Analysis(Fall 2021)`*"
   ]
  },
  {
   "cell_type": "markdown",
   "id": "5590d6ee",
   "metadata": {},
   "source": [
    "<font face=\"微软雅黑\" size=5 color=#A52A2A >*`欧游12132987/杨帅12132997/刘可12132981`*"
   ]
  }
 ],
 "metadata": {
  "kernelspec": {
   "display_name": "Python 3 (ipykernel)",
   "language": "python",
   "name": "python3"
  },
  "language_info": {
   "codemirror_mode": {
    "name": "ipython",
    "version": 3
   },
   "file_extension": ".py",
   "mimetype": "text/x-python",
   "name": "python",
   "nbconvert_exporter": "python",
   "pygments_lexer": "ipython3",
   "version": "3.9.7"
  }
 },
 "nbformat": 4,
 "nbformat_minor": 5
}
